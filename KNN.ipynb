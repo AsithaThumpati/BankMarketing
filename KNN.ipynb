{
 "cells": [
  {
   "cell_type": "code",
   "execution_count": 1,
   "id": "377eb3a7",
   "metadata": {},
   "outputs": [
    {
     "name": "stdout",
     "output_type": "stream",
     "text": [
      "Requirement already satisfied: scikit-learn in c:\\users\\thump\\anaconda3\\lib\\site-packages (1.2.2)\n",
      "Requirement already satisfied: numpy>=1.17.3 in c:\\users\\thump\\anaconda3\\lib\\site-packages (from scikit-learn) (1.20.1)\n",
      "Requirement already satisfied: threadpoolctl>=2.0.0 in c:\\users\\thump\\anaconda3\\lib\\site-packages (from scikit-learn) (2.1.0)\n",
      "Requirement already satisfied: scipy>=1.3.2 in c:\\users\\thump\\anaconda3\\lib\\site-packages (from scikit-learn) (1.6.2)\n",
      "Requirement already satisfied: joblib>=1.1.1 in c:\\users\\thump\\anaconda3\\lib\\site-packages (from scikit-learn) (1.2.0)\n",
      "Note: you may need to restart the kernel to use updated packages.\n"
     ]
    }
   ],
   "source": [
    "pip install scikit-learn"
   ]
  },
  {
   "cell_type": "code",
   "execution_count": null,
   "id": "ea9e6596",
   "metadata": {},
   "outputs": [],
   "source": [
    "#KNN"
   ]
  },
  {
   "cell_type": "code",
   "execution_count": 2,
   "id": "791bdadb",
   "metadata": {},
   "outputs": [],
   "source": [
    "import pandas as pd\n",
    "import numpy as np\n",
    "import matplotlib.ticker as ticker\n",
    "%matplotlib inline\n",
    "from matplotlib.ticker import NullFormatter\n",
    "from collections import Counter\n",
    "from sklearn.pipeline import Pipeline"
   ]
  },
  {
   "cell_type": "code",
   "execution_count": 3,
   "id": "ceb2c08b",
   "metadata": {},
   "outputs": [],
   "source": [
    "from sklearn.neighbors import KNeighborsClassifier\n",
    "from sklearn.model_selection import train_test_split"
   ]
  },
  {
   "cell_type": "code",
   "execution_count": 4,
   "id": "624e1215",
   "metadata": {},
   "outputs": [],
   "source": [
    "KNNdata = pd.read_csv(r\"C:\\Users\\thump\\OneDrive\\Desktop\\Final Project Literature Survey\\Data Preprocessing\\Preprocesseddata.csv\")"
   ]
  },
  {
   "cell_type": "code",
   "execution_count": 5,
   "id": "9cd1313f",
   "metadata": {},
   "outputs": [
    {
     "data": {
      "text/html": [
       "<div>\n",
       "<style scoped>\n",
       "    .dataframe tbody tr th:only-of-type {\n",
       "        vertical-align: middle;\n",
       "    }\n",
       "\n",
       "    .dataframe tbody tr th {\n",
       "        vertical-align: top;\n",
       "    }\n",
       "\n",
       "    .dataframe thead th {\n",
       "        text-align: right;\n",
       "    }\n",
       "</style>\n",
       "<table border=\"1\" class=\"dataframe\">\n",
       "  <thead>\n",
       "    <tr style=\"text-align: right;\">\n",
       "      <th></th>\n",
       "      <th>age</th>\n",
       "      <th>job</th>\n",
       "      <th>marital</th>\n",
       "      <th>education</th>\n",
       "      <th>default</th>\n",
       "      <th>balance</th>\n",
       "      <th>housing</th>\n",
       "      <th>loan</th>\n",
       "      <th>contact</th>\n",
       "      <th>day</th>\n",
       "      <th>month</th>\n",
       "      <th>duration</th>\n",
       "      <th>campaign</th>\n",
       "      <th>pdays</th>\n",
       "      <th>previous</th>\n",
       "      <th>poutcome</th>\n",
       "      <th>y</th>\n",
       "    </tr>\n",
       "  </thead>\n",
       "  <tbody>\n",
       "    <tr>\n",
       "      <th>0</th>\n",
       "      <td>58</td>\n",
       "      <td>2</td>\n",
       "      <td>2</td>\n",
       "      <td>1</td>\n",
       "      <td>2</td>\n",
       "      <td>0.256419</td>\n",
       "      <td>1</td>\n",
       "      <td>2</td>\n",
       "      <td>0</td>\n",
       "      <td>5</td>\n",
       "      <td>1</td>\n",
       "      <td>0.011016</td>\n",
       "      <td>1</td>\n",
       "      <td>-1</td>\n",
       "      <td>0</td>\n",
       "      <td>0</td>\n",
       "      <td>2</td>\n",
       "    </tr>\n",
       "    <tr>\n",
       "      <th>1</th>\n",
       "      <td>44</td>\n",
       "      <td>3</td>\n",
       "      <td>1</td>\n",
       "      <td>2</td>\n",
       "      <td>2</td>\n",
       "      <td>-0.437895</td>\n",
       "      <td>1</td>\n",
       "      <td>2</td>\n",
       "      <td>0</td>\n",
       "      <td>5</td>\n",
       "      <td>1</td>\n",
       "      <td>-0.416127</td>\n",
       "      <td>1</td>\n",
       "      <td>-1</td>\n",
       "      <td>0</td>\n",
       "      <td>0</td>\n",
       "      <td>2</td>\n",
       "    </tr>\n",
       "    <tr>\n",
       "      <th>2</th>\n",
       "      <td>33</td>\n",
       "      <td>8</td>\n",
       "      <td>2</td>\n",
       "      <td>2</td>\n",
       "      <td>2</td>\n",
       "      <td>-0.446762</td>\n",
       "      <td>1</td>\n",
       "      <td>1</td>\n",
       "      <td>0</td>\n",
       "      <td>5</td>\n",
       "      <td>1</td>\n",
       "      <td>-0.707361</td>\n",
       "      <td>1</td>\n",
       "      <td>-1</td>\n",
       "      <td>0</td>\n",
       "      <td>0</td>\n",
       "      <td>2</td>\n",
       "    </tr>\n",
       "    <tr>\n",
       "      <th>3</th>\n",
       "      <td>47</td>\n",
       "      <td>1</td>\n",
       "      <td>2</td>\n",
       "      <td>0</td>\n",
       "      <td>2</td>\n",
       "      <td>0.047205</td>\n",
       "      <td>1</td>\n",
       "      <td>2</td>\n",
       "      <td>0</td>\n",
       "      <td>5</td>\n",
       "      <td>1</td>\n",
       "      <td>-0.645231</td>\n",
       "      <td>1</td>\n",
       "      <td>-1</td>\n",
       "      <td>0</td>\n",
       "      <td>0</td>\n",
       "      <td>2</td>\n",
       "    </tr>\n",
       "    <tr>\n",
       "      <th>4</th>\n",
       "      <td>33</td>\n",
       "      <td>0</td>\n",
       "      <td>1</td>\n",
       "      <td>0</td>\n",
       "      <td>2</td>\n",
       "      <td>-0.447091</td>\n",
       "      <td>2</td>\n",
       "      <td>2</td>\n",
       "      <td>0</td>\n",
       "      <td>5</td>\n",
       "      <td>1</td>\n",
       "      <td>-0.233620</td>\n",
       "      <td>1</td>\n",
       "      <td>-1</td>\n",
       "      <td>0</td>\n",
       "      <td>0</td>\n",
       "      <td>2</td>\n",
       "    </tr>\n",
       "  </tbody>\n",
       "</table>\n",
       "</div>"
      ],
      "text/plain": [
       "   age  job  marital  education  default   balance  housing  loan  contact  \\\n",
       "0   58    2        2          1        2  0.256419        1     2        0   \n",
       "1   44    3        1          2        2 -0.437895        1     2        0   \n",
       "2   33    8        2          2        2 -0.446762        1     1        0   \n",
       "3   47    1        2          0        2  0.047205        1     2        0   \n",
       "4   33    0        1          0        2 -0.447091        2     2        0   \n",
       "\n",
       "   day  month  duration  campaign  pdays  previous  poutcome  y  \n",
       "0    5      1  0.011016         1     -1         0         0  2  \n",
       "1    5      1 -0.416127         1     -1         0         0  2  \n",
       "2    5      1 -0.707361         1     -1         0         0  2  \n",
       "3    5      1 -0.645231         1     -1         0         0  2  \n",
       "4    5      1 -0.233620         1     -1         0         0  2  "
      ]
     },
     "execution_count": 5,
     "metadata": {},
     "output_type": "execute_result"
    }
   ],
   "source": [
    "KNNdata.head()"
   ]
  },
  {
   "cell_type": "code",
   "execution_count": 6,
   "id": "e4075035",
   "metadata": {},
   "outputs": [
    {
     "name": "stdout",
     "output_type": "stream",
     "text": [
      "Counter({2: 39922, 1: 5289})\n"
     ]
    }
   ],
   "source": [
    "X = KNNdata.drop('y',axis=1).values\n",
    "#X = X.values\n",
    "Y = KNNdata.y\n",
    "print(Counter(Y))"
   ]
  },
  {
   "cell_type": "code",
   "execution_count": 7,
   "id": "ef42f373",
   "metadata": {},
   "outputs": [],
   "source": [
    "from sklearn.preprocessing import StandardScaler\n",
    "scalar = StandardScaler()"
   ]
  },
  {
   "cell_type": "code",
   "execution_count": 8,
   "id": "9e30222d",
   "metadata": {},
   "outputs": [],
   "source": [
    "KNN = KNeighborsClassifier(weights='distance')"
   ]
  },
  {
   "cell_type": "code",
   "execution_count": 9,
   "id": "32d194c1",
   "metadata": {},
   "outputs": [],
   "source": [
    "x_train,x_test,y_train,y_test = train_test_split(X,Y,test_size = 0.4, random_state = 0)"
   ]
  },
  {
   "cell_type": "code",
   "execution_count": 12,
   "id": "3fc1cfbf",
   "metadata": {},
   "outputs": [],
   "source": [
    "pipeline = Pipeline([('transforming',scalar), ('estimator', KNN)])"
   ]
  },
  {
   "cell_type": "code",
   "execution_count": 13,
   "id": "27dbc5de",
   "metadata": {},
   "outputs": [
    {
     "data": {
      "text/html": [
       "<style>#sk-container-id-1 {color: black;background-color: white;}#sk-container-id-1 pre{padding: 0;}#sk-container-id-1 div.sk-toggleable {background-color: white;}#sk-container-id-1 label.sk-toggleable__label {cursor: pointer;display: block;width: 100%;margin-bottom: 0;padding: 0.3em;box-sizing: border-box;text-align: center;}#sk-container-id-1 label.sk-toggleable__label-arrow:before {content: \"▸\";float: left;margin-right: 0.25em;color: #696969;}#sk-container-id-1 label.sk-toggleable__label-arrow:hover:before {color: black;}#sk-container-id-1 div.sk-estimator:hover label.sk-toggleable__label-arrow:before {color: black;}#sk-container-id-1 div.sk-toggleable__content {max-height: 0;max-width: 0;overflow: hidden;text-align: left;background-color: #f0f8ff;}#sk-container-id-1 div.sk-toggleable__content pre {margin: 0.2em;color: black;border-radius: 0.25em;background-color: #f0f8ff;}#sk-container-id-1 input.sk-toggleable__control:checked~div.sk-toggleable__content {max-height: 200px;max-width: 100%;overflow: auto;}#sk-container-id-1 input.sk-toggleable__control:checked~label.sk-toggleable__label-arrow:before {content: \"▾\";}#sk-container-id-1 div.sk-estimator input.sk-toggleable__control:checked~label.sk-toggleable__label {background-color: #d4ebff;}#sk-container-id-1 div.sk-label input.sk-toggleable__control:checked~label.sk-toggleable__label {background-color: #d4ebff;}#sk-container-id-1 input.sk-hidden--visually {border: 0;clip: rect(1px 1px 1px 1px);clip: rect(1px, 1px, 1px, 1px);height: 1px;margin: -1px;overflow: hidden;padding: 0;position: absolute;width: 1px;}#sk-container-id-1 div.sk-estimator {font-family: monospace;background-color: #f0f8ff;border: 1px dotted black;border-radius: 0.25em;box-sizing: border-box;margin-bottom: 0.5em;}#sk-container-id-1 div.sk-estimator:hover {background-color: #d4ebff;}#sk-container-id-1 div.sk-parallel-item::after {content: \"\";width: 100%;border-bottom: 1px solid gray;flex-grow: 1;}#sk-container-id-1 div.sk-label:hover label.sk-toggleable__label {background-color: #d4ebff;}#sk-container-id-1 div.sk-serial::before {content: \"\";position: absolute;border-left: 1px solid gray;box-sizing: border-box;top: 0;bottom: 0;left: 50%;z-index: 0;}#sk-container-id-1 div.sk-serial {display: flex;flex-direction: column;align-items: center;background-color: white;padding-right: 0.2em;padding-left: 0.2em;position: relative;}#sk-container-id-1 div.sk-item {position: relative;z-index: 1;}#sk-container-id-1 div.sk-parallel {display: flex;align-items: stretch;justify-content: center;background-color: white;position: relative;}#sk-container-id-1 div.sk-item::before, #sk-container-id-1 div.sk-parallel-item::before {content: \"\";position: absolute;border-left: 1px solid gray;box-sizing: border-box;top: 0;bottom: 0;left: 50%;z-index: -1;}#sk-container-id-1 div.sk-parallel-item {display: flex;flex-direction: column;z-index: 1;position: relative;background-color: white;}#sk-container-id-1 div.sk-parallel-item:first-child::after {align-self: flex-end;width: 50%;}#sk-container-id-1 div.sk-parallel-item:last-child::after {align-self: flex-start;width: 50%;}#sk-container-id-1 div.sk-parallel-item:only-child::after {width: 0;}#sk-container-id-1 div.sk-dashed-wrapped {border: 1px dashed gray;margin: 0 0.4em 0.5em 0.4em;box-sizing: border-box;padding-bottom: 0.4em;background-color: white;}#sk-container-id-1 div.sk-label label {font-family: monospace;font-weight: bold;display: inline-block;line-height: 1.2em;}#sk-container-id-1 div.sk-label-container {text-align: center;}#sk-container-id-1 div.sk-container {/* jupyter's `normalize.less` sets `[hidden] { display: none; }` but bootstrap.min.css set `[hidden] { display: none !important; }` so we also need the `!important` here to be able to override the default hidden behavior on the sphinx rendered scikit-learn.org. See: https://github.com/scikit-learn/scikit-learn/issues/21755 */display: inline-block !important;position: relative;}#sk-container-id-1 div.sk-text-repr-fallback {display: none;}</style><div id=\"sk-container-id-1\" class=\"sk-top-container\"><div class=\"sk-text-repr-fallback\"><pre>Pipeline(steps=[(&#x27;transforming&#x27;, StandardScaler()),\n",
       "                (&#x27;estimator&#x27;, KNeighborsClassifier(weights=&#x27;distance&#x27;))])</pre><b>In a Jupyter environment, please rerun this cell to show the HTML representation or trust the notebook. <br />On GitHub, the HTML representation is unable to render, please try loading this page with nbviewer.org.</b></div><div class=\"sk-container\" hidden><div class=\"sk-item sk-dashed-wrapped\"><div class=\"sk-label-container\"><div class=\"sk-label sk-toggleable\"><input class=\"sk-toggleable__control sk-hidden--visually\" id=\"sk-estimator-id-1\" type=\"checkbox\" ><label for=\"sk-estimator-id-1\" class=\"sk-toggleable__label sk-toggleable__label-arrow\">Pipeline</label><div class=\"sk-toggleable__content\"><pre>Pipeline(steps=[(&#x27;transforming&#x27;, StandardScaler()),\n",
       "                (&#x27;estimator&#x27;, KNeighborsClassifier(weights=&#x27;distance&#x27;))])</pre></div></div></div><div class=\"sk-serial\"><div class=\"sk-item\"><div class=\"sk-estimator sk-toggleable\"><input class=\"sk-toggleable__control sk-hidden--visually\" id=\"sk-estimator-id-2\" type=\"checkbox\" ><label for=\"sk-estimator-id-2\" class=\"sk-toggleable__label sk-toggleable__label-arrow\">StandardScaler</label><div class=\"sk-toggleable__content\"><pre>StandardScaler()</pre></div></div></div><div class=\"sk-item\"><div class=\"sk-estimator sk-toggleable\"><input class=\"sk-toggleable__control sk-hidden--visually\" id=\"sk-estimator-id-3\" type=\"checkbox\" ><label for=\"sk-estimator-id-3\" class=\"sk-toggleable__label sk-toggleable__label-arrow\">KNeighborsClassifier</label><div class=\"sk-toggleable__content\"><pre>KNeighborsClassifier(weights=&#x27;distance&#x27;)</pre></div></div></div></div></div></div></div>"
      ],
      "text/plain": [
       "Pipeline(steps=[('transforming', StandardScaler()),\n",
       "                ('estimator', KNeighborsClassifier(weights='distance'))])"
      ]
     },
     "execution_count": 13,
     "metadata": {},
     "output_type": "execute_result"
    }
   ],
   "source": [
    "pipeline.fit(x_train,y_train)"
   ]
  },
  {
   "cell_type": "code",
   "execution_count": 14,
   "id": "3ec7bf9b",
   "metadata": {},
   "outputs": [],
   "source": [
    "y_pred = pipeline.predict(x_test)"
   ]
  },
  {
   "cell_type": "code",
   "execution_count": null,
   "id": "d6d6c9fe",
   "metadata": {},
   "outputs": [],
   "source": [
    "#Evaluation metrics"
   ]
  },
  {
   "cell_type": "code",
   "execution_count": 15,
   "id": "897a1f08",
   "metadata": {},
   "outputs": [],
   "source": [
    "from sklearn import metrics #Import scikit-learn metrics module for accuracy calculation\n",
    "from sklearn.metrics import accuracy_score\n",
    "from sklearn.metrics import balanced_accuracy_score\n",
    "from sklearn.metrics import recall_score\n",
    "from sklearn.metrics import f1_score\n",
    "from sklearn.metrics import roc_curve\n",
    "from sklearn.metrics import precision_recall_curve\n",
    "import matplotlib.pyplot as plt\n"
   ]
  },
  {
   "cell_type": "code",
   "execution_count": 16,
   "id": "76b622d0",
   "metadata": {},
   "outputs": [
    {
     "name": "stdout",
     "output_type": "stream",
     "text": [
      "Accuracy for KNN on Unbalanced dataset is  0.889908764169201\n",
      "Balanced Accuracy for KNN on Unbalanced dataset is  0.6551812795996383\n",
      "Recall/Sensitivity for KNN on Unbalanced dataset is  0.3482142857142857\n",
      "f1_score for KNN on Unbalanced dataset is  0.42672041462712357\n"
     ]
    },
    {
     "data": {
      "image/png": "[encoded data removed]",
      "text/plain": [
       "<Figure size 432x288 with 1 Axes>"
      ]
     },
     "metadata": {
      "needs_background": "light"
     },
     "output_type": "display_data"
    },
    {
     "data": {
      "image/png": "[encoded data removed]",
      "text/plain": [
       "<Figure size 432x288 with 1 Axes>"
      ]
     },
     "metadata": {
      "needs_background": "light"
     },
     "output_type": "display_data"
    }
   ],
   "source": [
    "Test_accuracy = accuracy_score(y_test,y_pred)\n",
    "print(\"Accuracy for KNN on Unbalanced dataset is \",Test_accuracy)\n",
    "\n",
    "# Balanced Accuracy \n",
    "Balanced_Accuracy = balanced_accuracy_score(y_test, y_pred)\n",
    "print(\"Balanced Accuracy for KNN on Unbalanced dataset is \",Balanced_Accuracy)\n",
    "\n",
    "#Recall/Sensitivity\n",
    "Recall = recall_score(y_test,y_pred,pos_label = 1)\n",
    "print(\"Recall/Sensitivity for KNN on Unbalanced dataset is \",Recall)\n",
    "\n",
    "# F1 score\n",
    "f1score = f1_score(y_test,y_pred,pos_label = 1)\n",
    "print(\"f1_score for KNN on Unbalanced dataset is \",f1score)\n",
    "\n",
    "#ROC CURVE\n",
    "fpr, tpr, thresholds = roc_curve(y_test,y_pred,pos_label = 1)\n",
    "#ploting roc curve\n",
    "fig, ax = plt.subplots()\n",
    "ax.plot(fpr, tpr, color='purple')\n",
    "\n",
    "ax.set_title('ROC Curve')\n",
    "ax.set_ylabel('TruePositiveRate')\n",
    "ax.set_xlabel('FalsePositiveRate')\n",
    "plt.show()\n",
    "\n",
    "#Precision-Recall Curve\n",
    "precision, recall, thresholds = precision_recall_curve(y_test,y_pred,pos_label = 1)\n",
    "#ploting roc curve\n",
    "fig, ax = plt.subplots()\n",
    "ax.plot(recall, precision, color='purple')\n",
    "\n",
    "ax.set_title('Precision-Recall Curve')\n",
    "ax.set_ylabel('Precision')\n",
    "ax.set_xlabel('Recall')\n",
    "plt.show()"
   ]
  },
  {
   "cell_type": "code",
   "execution_count": 17,
   "id": "881a71f9",
   "metadata": {},
   "outputs": [
    {
     "name": "stdout",
     "output_type": "stream",
     "text": [
      "Minimum error:- 0.11257948576168095 at K = 15\n"
     ]
    },
    {
     "data": {
      "image/png": "[encoded data removed]",
      "text/plain": [
       "<Figure size 720x432 with 1 Axes>"
      ]
     },
     "metadata": {
      "needs_background": "light"
     },
     "output_type": "display_data"
    }
   ],
   "source": [
    "#Code to plot K value vs error rate\n",
    "error_rate = []\n",
    "for i in range(1,40):\n",
    " knn = KNeighborsClassifier(n_neighbors=i,weights='distance')\n",
    " knn.fit(x_train,y_train)\n",
    " pred_i = knn.predict(x_test)\n",
    " error_rate.append(np.mean(pred_i != y_test))\n",
    "\n",
    "plt.figure(figsize=(10,6))\n",
    "plt.plot(range(1,40),error_rate,color='blue', linestyle='dashed', \n",
    "         marker='o',markerfacecolor='red', markersize=10)\n",
    "plt.title('Error Rate vs. K Value')\n",
    "plt.xlabel('K')\n",
    "plt.ylabel('Error Rate')\n",
    "print(\"Minimum error:-\",min(error_rate),\"at K =\",error_rate.index(min(error_rate)))"
   ]
  },
  {
   "cell_type": "code",
   "execution_count": 25,
   "id": "15e23261",
   "metadata": {},
   "outputs": [
    {
     "name": "stdout",
     "output_type": "stream",
     "text": [
      "Maximum accuracy:- 0.8956593862316837 at K = 28\n"
     ]
    },
    {
     "data": {
      "image/png": "[encoded data removed]",
      "text/plain": [
       "<Figure size 720x432 with 1 Axes>"
      ]
     },
     "metadata": {
      "needs_background": "light"
     },
     "output_type": "display_data"
    }
   ],
   "source": [
    "#Code to plot accuracy vs K value\n",
    "acc = []\n",
    "# Will take some time\n",
    "from sklearn import metrics\n",
    "for i in range(1,40):\n",
    "    neigh = KNeighborsClassifier(n_neighbors = i,weights='distance').fit(x_train,y_train)\n",
    "    yhat = neigh.predict(x_test)\n",
    "    acc.append(metrics.balanced_accuracy_score(y_test, yhat))\n",
    "    \n",
    "plt.figure(figsize=(10,6))\n",
    "plt.plot(range(1,40),acc,color = 'blue',linestyle='dashed', \n",
    "         marker='o',markerfacecolor='red', markersize=10)\n",
    "plt.title('accuracy vs. K Value')\n",
    "plt.xlabel('K')\n",
    "plt.ylabel('Accuracy')\n",
    "print(\"Maximum accuracy:-\",max(acc),\"at K =\",acc.index(max(acc)))"
   ]
  },
  {
   "cell_type": "code",
   "execution_count": 29,
   "id": "ed7404b5",
   "metadata": {},
   "outputs": [],
   "source": [
    "#training the model with best k \n",
    "KNN_bestk = KNeighborsClassifier(n_neighbors=21,weights='distance')\n",
    "KNN_bestk.fit(x_train,y_train)\n",
    "y_pred = KNN_bestk.predict(x_test)"
   ]
  },
  {
   "cell_type": "code",
   "execution_count": null,
   "id": "0dd682bc",
   "metadata": {},
   "outputs": [],
   "source": [
    "#Evaluation metrics"
   ]
  },
  {
   "cell_type": "code",
   "execution_count": 30,
   "id": "03a4f291",
   "metadata": {},
   "outputs": [
    {
     "name": "stdout",
     "output_type": "stream",
     "text": [
      "Accuracy for KNN on Unbalanced dataset is  0.8954935029029583\n",
      "Balanced Accuracy for KNN on Unbalanced dataset is  0.6357433051985104\n",
      "Recall/Sensitivity for KNN on Unbalanced dataset is  0.29605263157894735\n",
      "f1_score for KNN on Unbalanced dataset is  0.39999999999999997\n"
     ]
    },
    {
     "data": {
      "image/png": "[encoded data removed]",
      "text/plain": [
       "<Figure size 432x288 with 1 Axes>"
      ]
     },
     "metadata": {
      "needs_background": "light"
     },
     "output_type": "display_data"
    },
    {
     "data": {
      "image/png": "[encoded data removed]",
      "text/plain": [
       "<Figure size 432x288 with 1 Axes>"
      ]
     },
     "metadata": {
      "needs_background": "light"
     },
     "output_type": "display_data"
    }
   ],
   "source": [
    "Test_accuracy = accuracy_score(y_test,y_pred)\n",
    "print(\"Accuracy for KNN on Unbalanced dataset is \",Test_accuracy)\n",
    "\n",
    "# Balanced Accuracy \n",
    "Balanced_Accuracy = balanced_accuracy_score(y_test, y_pred)\n",
    "print(\"Balanced Accuracy for KNN on Unbalanced dataset is \",Balanced_Accuracy)\n",
    "\n",
    "#Recall/Sensitivity\n",
    "Recall = recall_score(y_test,y_pred,pos_label = 1)\n",
    "print(\"Recall/Sensitivity for KNN on Unbalanced dataset is \",Recall)\n",
    "\n",
    "# F1 score\n",
    "f1score = f1_score(y_test,y_pred,pos_label = 1)\n",
    "print(\"f1_score for KNN on Unbalanced dataset is \",f1score)\n",
    "\n",
    "#ROC CURVE\n",
    "fpr, tpr, thresholds = roc_curve(y_test,y_pred,pos_label = 1)\n",
    "#ploting roc curve\n",
    "fig, ax = plt.subplots()\n",
    "ax.plot(fpr, tpr, color='purple')\n",
    "\n",
    "ax.set_title('ROC Curve')\n",
    "ax.set_ylabel('TruePositiveRate')\n",
    "ax.set_xlabel('FalsePositiveRate')\n",
    "plt.show()\n",
    "\n",
    "#Precision-Recall Curve\n",
    "precision, recall, thresholds = precision_recall_curve(y_test,y_pred,pos_label = 1)\n",
    "#ploting roc curve\n",
    "fig, ax = plt.subplots()\n",
    "ax.plot(recall, precision, color='purple')\n",
    "\n",
    "ax.set_title('Precision-Recall Curve')\n",
    "ax.set_ylabel('Precision')\n",
    "ax.set_xlabel('Recall')\n",
    "plt.show()"
   ]
  },
  {
   "cell_type": "markdown",
   "id": "6aa8b5e0",
   "metadata": {},
   "source": [
    "# Oversampling Minority class using SMOTE"
   ]
  },
  {
   "cell_type": "code",
   "execution_count": 18,
   "id": "5b53fde5",
   "metadata": {},
   "outputs": [
    {
     "name": "stdout",
     "output_type": "stream",
     "text": [
      "Requirement already satisfied: imblearn in c:\\users\\thump\\anaconda3\\lib\\site-packages (0.0)\n",
      "Requirement already satisfied: imbalanced-learn in c:\\users\\thump\\anaconda3\\lib\\site-packages (from imblearn) (0.10.1)\n",
      "Requirement already satisfied: threadpoolctl>=2.0.0 in c:\\users\\thump\\anaconda3\\lib\\site-packages (from imbalanced-learn->imblearn) (2.1.0)\n",
      "Requirement already satisfied: scikit-learn>=1.0.2 in c:\\users\\thump\\anaconda3\\lib\\site-packages (from imbalanced-learn->imblearn) (1.2.2)\n",
      "Requirement already satisfied: joblib>=1.1.1 in c:\\users\\thump\\anaconda3\\lib\\site-packages (from imbalanced-learn->imblearn) (1.2.0)\n",
      "Requirement already satisfied: scipy>=1.3.2 in c:\\users\\thump\\anaconda3\\lib\\site-packages (from imbalanced-learn->imblearn) (1.6.2)\n",
      "Requirement already satisfied: numpy>=1.17.3 in c:\\users\\thump\\anaconda3\\lib\\site-packages (from imbalanced-learn->imblearn) (1.20.1)\n",
      "Note: you may need to restart the kernel to use updated packages.\n"
     ]
    }
   ],
   "source": [
    "pip install imblearn"
   ]
  },
  {
   "cell_type": "code",
   "execution_count": 19,
   "id": "f854a6d7",
   "metadata": {},
   "outputs": [],
   "source": [
    "from imblearn.over_sampling import SMOTE\n",
    "from collections import Counter"
   ]
  },
  {
   "cell_type": "code",
   "execution_count": 20,
   "id": "489fed5f",
   "metadata": {},
   "outputs": [],
   "source": [
    "#increasing minority class to half of majority class\n",
    "smtknn = SMOTE(sampling_strategy = 0.5,random_state = 0)"
   ]
  },
  {
   "cell_type": "code",
   "execution_count": 21,
   "id": "7f1a4bf2",
   "metadata": {},
   "outputs": [],
   "source": [
    "X_over,Y_over = smtknn.fit_resample(X,Y)"
   ]
  },
  {
   "cell_type": "code",
   "execution_count": 22,
   "id": "3e3bf1d5",
   "metadata": {},
   "outputs": [
    {
     "name": "stdout",
     "output_type": "stream",
     "text": [
      "Counter({2: 39922, 1: 19961})\n"
     ]
    }
   ],
   "source": [
    "print(Counter(Y_over))"
   ]
  },
  {
   "cell_type": "code",
   "execution_count": 23,
   "id": "92387673",
   "metadata": {},
   "outputs": [],
   "source": [
    "x_train,x_test,y_train,y_test = train_test_split(X_over,Y_over,test_size = 0.4, random_state = 0)"
   ]
  },
  {
   "cell_type": "code",
   "execution_count": 25,
   "id": "403a7539",
   "metadata": {},
   "outputs": [
    {
     "data": {
      "text/html": [
       "<style>#sk-container-id-2 {color: black;background-color: white;}#sk-container-id-2 pre{padding: 0;}#sk-container-id-2 div.sk-toggleable {background-color: white;}#sk-container-id-2 label.sk-toggleable__label {cursor: pointer;display: block;width: 100%;margin-bottom: 0;padding: 0.3em;box-sizing: border-box;text-align: center;}#sk-container-id-2 label.sk-toggleable__label-arrow:before {content: \"▸\";float: left;margin-right: 0.25em;color: #696969;}#sk-container-id-2 label.sk-toggleable__label-arrow:hover:before {color: black;}#sk-container-id-2 div.sk-estimator:hover label.sk-toggleable__label-arrow:before {color: black;}#sk-container-id-2 div.sk-toggleable__content {max-height: 0;max-width: 0;overflow: hidden;text-align: left;background-color: #f0f8ff;}#sk-container-id-2 div.sk-toggleable__content pre {margin: 0.2em;color: black;border-radius: 0.25em;background-color: #f0f8ff;}#sk-container-id-2 input.sk-toggleable__control:checked~div.sk-toggleable__content {max-height: 200px;max-width: 100%;overflow: auto;}#sk-container-id-2 input.sk-toggleable__control:checked~label.sk-toggleable__label-arrow:before {content: \"▾\";}#sk-container-id-2 div.sk-estimator input.sk-toggleable__control:checked~label.sk-toggleable__label {background-color: #d4ebff;}#sk-container-id-2 div.sk-label input.sk-toggleable__control:checked~label.sk-toggleable__label {background-color: #d4ebff;}#sk-container-id-2 input.sk-hidden--visually {border: 0;clip: rect(1px 1px 1px 1px);clip: rect(1px, 1px, 1px, 1px);height: 1px;margin: -1px;overflow: hidden;padding: 0;position: absolute;width: 1px;}#sk-container-id-2 div.sk-estimator {font-family: monospace;background-color: #f0f8ff;border: 1px dotted black;border-radius: 0.25em;box-sizing: border-box;margin-bottom: 0.5em;}#sk-container-id-2 div.sk-estimator:hover {background-color: #d4ebff;}#sk-container-id-2 div.sk-parallel-item::after {content: \"\";width: 100%;border-bottom: 1px solid gray;flex-grow: 1;}#sk-container-id-2 div.sk-label:hover label.sk-toggleable__label {background-color: #d4ebff;}#sk-container-id-2 div.sk-serial::before {content: \"\";position: absolute;border-left: 1px solid gray;box-sizing: border-box;top: 0;bottom: 0;left: 50%;z-index: 0;}#sk-container-id-2 div.sk-serial {display: flex;flex-direction: column;align-items: center;background-color: white;padding-right: 0.2em;padding-left: 0.2em;position: relative;}#sk-container-id-2 div.sk-item {position: relative;z-index: 1;}#sk-container-id-2 div.sk-parallel {display: flex;align-items: stretch;justify-content: center;background-color: white;position: relative;}#sk-container-id-2 div.sk-item::before, #sk-container-id-2 div.sk-parallel-item::before {content: \"\";position: absolute;border-left: 1px solid gray;box-sizing: border-box;top: 0;bottom: 0;left: 50%;z-index: -1;}#sk-container-id-2 div.sk-parallel-item {display: flex;flex-direction: column;z-index: 1;position: relative;background-color: white;}#sk-container-id-2 div.sk-parallel-item:first-child::after {align-self: flex-end;width: 50%;}#sk-container-id-2 div.sk-parallel-item:last-child::after {align-self: flex-start;width: 50%;}#sk-container-id-2 div.sk-parallel-item:only-child::after {width: 0;}#sk-container-id-2 div.sk-dashed-wrapped {border: 1px dashed gray;margin: 0 0.4em 0.5em 0.4em;box-sizing: border-box;padding-bottom: 0.4em;background-color: white;}#sk-container-id-2 div.sk-label label {font-family: monospace;font-weight: bold;display: inline-block;line-height: 1.2em;}#sk-container-id-2 div.sk-label-container {text-align: center;}#sk-container-id-2 div.sk-container {/* jupyter's `normalize.less` sets `[hidden] { display: none; }` but bootstrap.min.css set `[hidden] { display: none !important; }` so we also need the `!important` here to be able to override the default hidden behavior on the sphinx rendered scikit-learn.org. See: https://github.com/scikit-learn/scikit-learn/issues/21755 */display: inline-block !important;position: relative;}#sk-container-id-2 div.sk-text-repr-fallback {display: none;}</style><div id=\"sk-container-id-2\" class=\"sk-top-container\"><div class=\"sk-text-repr-fallback\"><pre>Pipeline(steps=[(&#x27;transforming&#x27;, StandardScaler()),\n",
       "                (&#x27;estimator&#x27;, KNeighborsClassifier(weights=&#x27;distance&#x27;))])</pre><b>In a Jupyter environment, please rerun this cell to show the HTML representation or trust the notebook. <br />On GitHub, the HTML representation is unable to render, please try loading this page with nbviewer.org.</b></div><div class=\"sk-container\" hidden><div class=\"sk-item sk-dashed-wrapped\"><div class=\"sk-label-container\"><div class=\"sk-label sk-toggleable\"><input class=\"sk-toggleable__control sk-hidden--visually\" id=\"sk-estimator-id-4\" type=\"checkbox\" ><label for=\"sk-estimator-id-4\" class=\"sk-toggleable__label sk-toggleable__label-arrow\">Pipeline</label><div class=\"sk-toggleable__content\"><pre>Pipeline(steps=[(&#x27;transforming&#x27;, StandardScaler()),\n",
       "                (&#x27;estimator&#x27;, KNeighborsClassifier(weights=&#x27;distance&#x27;))])</pre></div></div></div><div class=\"sk-serial\"><div class=\"sk-item\"><div class=\"sk-estimator sk-toggleable\"><input class=\"sk-toggleable__control sk-hidden--visually\" id=\"sk-estimator-id-5\" type=\"checkbox\" ><label for=\"sk-estimator-id-5\" class=\"sk-toggleable__label sk-toggleable__label-arrow\">StandardScaler</label><div class=\"sk-toggleable__content\"><pre>StandardScaler()</pre></div></div></div><div class=\"sk-item\"><div class=\"sk-estimator sk-toggleable\"><input class=\"sk-toggleable__control sk-hidden--visually\" id=\"sk-estimator-id-6\" type=\"checkbox\" ><label for=\"sk-estimator-id-6\" class=\"sk-toggleable__label sk-toggleable__label-arrow\">KNeighborsClassifier</label><div class=\"sk-toggleable__content\"><pre>KNeighborsClassifier(weights=&#x27;distance&#x27;)</pre></div></div></div></div></div></div></div>"
      ],
      "text/plain": [
       "Pipeline(steps=[('transforming', StandardScaler()),\n",
       "                ('estimator', KNeighborsClassifier(weights='distance'))])"
      ]
     },
     "execution_count": 25,
     "metadata": {},
     "output_type": "execute_result"
    }
   ],
   "source": [
    "pipeline.fit(x_train,y_train)"
   ]
  },
  {
   "cell_type": "code",
   "execution_count": 26,
   "id": "baaf5b7e",
   "metadata": {},
   "outputs": [],
   "source": [
    "y_pred = pipeline.predict(x_test)"
   ]
  },
  {
   "cell_type": "code",
   "execution_count": null,
   "id": "a591104c",
   "metadata": {},
   "outputs": [],
   "source": [
    "#Evaluation metrics for oversampled minority class"
   ]
  },
  {
   "cell_type": "code",
   "execution_count": 27,
   "id": "8f893eac",
   "metadata": {},
   "outputs": [
    {
     "name": "stdout",
     "output_type": "stream",
     "text": [
      "Accuracy for KNN on Oversampled dataset is  0.9023545128162311\n",
      "Balanced Accuracy for KNN on Oversampled dataset is  0.9019508424459455\n",
      "Recall/Sensitivity for KNN on Oversampled dataset is  0.9007385154587558\n",
      "f1_score for KNN on Oversampled dataset is  0.8601996294303986\n"
     ]
    },
    {
     "data": {
      "image/png": "[encoded data removed]",
      "text/plain": [
       "<Figure size 432x288 with 1 Axes>"
      ]
     },
     "metadata": {
      "needs_background": "light"
     },
     "output_type": "display_data"
    },
    {
     "data": {
      "image/png": "[encoded data removed]",
      "text/plain": [
       "<Figure size 432x288 with 1 Axes>"
      ]
     },
     "metadata": {
      "needs_background": "light"
     },
     "output_type": "display_data"
    }
   ],
   "source": [
    "Test_accuracy = accuracy_score(y_test,y_pred)\n",
    "print(\"Accuracy for KNN on Oversampled dataset is \",Test_accuracy)\n",
    "\n",
    "# Balanced Accuracy \n",
    "Balanced_Accuracy = balanced_accuracy_score(y_test, y_pred)\n",
    "print(\"Balanced Accuracy for KNN on Oversampled dataset is \",Balanced_Accuracy)\n",
    "\n",
    "#Recall/Sensitivity\n",
    "Recall = recall_score(y_test,y_pred,pos_label = 1)\n",
    "print(\"Recall/Sensitivity for KNN on Oversampled dataset is \",Recall)\n",
    "\n",
    "# F1 score\n",
    "f1score = f1_score(y_test,y_pred,pos_label = 1)\n",
    "print(\"f1_score for KNN on Oversampled dataset is \",f1score)\n",
    "\n",
    "#ROC CURVE\n",
    "fpr, tpr, thresholds = roc_curve(y_test,y_pred,pos_label = 1)\n",
    "#ploting roc curve\n",
    "fig, ax = plt.subplots()\n",
    "ax.plot(fpr, tpr, color='purple')\n",
    "\n",
    "ax.set_title('ROC Curve')\n",
    "ax.set_ylabel('TruePositiveRate')\n",
    "ax.set_xlabel('FalsePositiveRate')\n",
    "plt.show()\n",
    "\n",
    "#Precision-Recall Curve\n",
    "precision, recall, thresholds = precision_recall_curve(y_test,y_pred,pos_label = 1)\n",
    "#ploting roc curve\n",
    "fig, ax = plt.subplots()\n",
    "ax.plot(recall, precision, color='purple')\n",
    "\n",
    "ax.set_title('Precision-Recall Curve')\n",
    "ax.set_ylabel('Precision')\n",
    "ax.set_xlabel('Recall')\n",
    "plt.show()"
   ]
  },
  {
   "cell_type": "markdown",
   "id": "8da7edc3",
   "metadata": {},
   "source": [
    "# Cleaning Oversampled data with tomek-links"
   ]
  },
  {
   "cell_type": "code",
   "execution_count": 28,
   "id": "97f1c9f7",
   "metadata": {},
   "outputs": [],
   "source": [
    "from imblearn.under_sampling import TomekLinks"
   ]
  },
  {
   "cell_type": "code",
   "execution_count": 30,
   "id": "afecb3ae",
   "metadata": {},
   "outputs": [],
   "source": [
    "tl = TomekLinks(sampling_strategy = 'not majority')\n",
    "X_over_clean,Y_over_clean = tl.fit_resample(X_over,Y_over)"
   ]
  },
  {
   "cell_type": "code",
   "execution_count": 31,
   "id": "d93ad823",
   "metadata": {},
   "outputs": [
    {
     "name": "stdout",
     "output_type": "stream",
     "text": [
      "Counter({2: 39922, 1: 19795})\n"
     ]
    }
   ],
   "source": [
    "print(Counter(Y_over_clean))"
   ]
  },
  {
   "cell_type": "code",
   "execution_count": 32,
   "id": "6b27cf67",
   "metadata": {},
   "outputs": [],
   "source": [
    "x_train,x_test,y_train,y_test = train_test_split(X_over_clean,Y_over_clean,test_size = 0.4, random_state = 0)"
   ]
  },
  {
   "cell_type": "code",
   "execution_count": 33,
   "id": "b897fe20",
   "metadata": {},
   "outputs": [],
   "source": [
    "pipeline.fit(x_train,y_train)\n",
    "y_pred = pipeline.predict(x_test)"
   ]
  },
  {
   "cell_type": "code",
   "execution_count": 34,
   "id": "fd49409f",
   "metadata": {},
   "outputs": [
    {
     "name": "stdout",
     "output_type": "stream",
     "text": [
      "Accuracy for KNN on Oversampled and cleaned dataset is  0.9054297316532005\n",
      "Balanced Accuracy for KNN on Oversampled and cleaned dataset is  0.9056246860865604\n",
      "Recall/Sensitivity for KNN on Oversampled and cleaned dataset is  0.9062067229006673\n",
      "f1_score for KNN on Oversampled and cleaned dataset is  0.8643650555388772\n"
     ]
    },
    {
     "data": {
      "image/png": "[encoded data removed]",
      "text/plain": [
       "<Figure size 432x288 with 1 Axes>"
      ]
     },
     "metadata": {
      "needs_background": "light"
     },
     "output_type": "display_data"
    },
    {
     "data": {
      "image/png": "[encoded data removed]",
      "text/plain": [
       "<Figure size 432x288 with 1 Axes>"
      ]
     },
     "metadata": {
      "needs_background": "light"
     },
     "output_type": "display_data"
    }
   ],
   "source": [
    "Test_accuracy = accuracy_score(y_test,y_pred)\n",
    "print(\"Accuracy for KNN on Oversampled and cleaned dataset is \",Test_accuracy)\n",
    "\n",
    "# Balanced Accuracy \n",
    "Balanced_Accuracy = balanced_accuracy_score(y_test, y_pred)\n",
    "print(\"Balanced Accuracy for KNN on Oversampled and cleaned dataset is \",Balanced_Accuracy)\n",
    "\n",
    "#Recall/Sensitivity\n",
    "Recall = recall_score(y_test,y_pred,pos_label = 1)\n",
    "print(\"Recall/Sensitivity for KNN on Oversampled and cleaned dataset is \",Recall)\n",
    "\n",
    "# F1 score\n",
    "f1score = f1_score(y_test,y_pred,pos_label = 1)\n",
    "print(\"f1_score for KNN on Oversampled and cleaned dataset is \",f1score)\n",
    "\n",
    "#ROC CURVE\n",
    "fpr, tpr, thresholds = roc_curve(y_test,y_pred,pos_label = 1)\n",
    "#ploting roc curve\n",
    "fig, ax = plt.subplots()\n",
    "ax.plot(fpr, tpr, color='purple')\n",
    "\n",
    "ax.set_title('ROC Curve')\n",
    "ax.set_ylabel('TruePositiveRate')\n",
    "ax.set_xlabel('FalsePositiveRate')\n",
    "plt.show()\n",
    "\n",
    "#Precision-Recall Curve\n",
    "precision, recall, thresholds = precision_recall_curve(y_test,y_pred,pos_label = 1)\n",
    "#ploting roc curve\n",
    "fig, ax = plt.subplots()\n",
    "ax.plot(recall, precision, color='purple')\n",
    "\n",
    "ax.set_title('Precision-Recall Curve')\n",
    "ax.set_ylabel('Precision')\n",
    "ax.set_xlabel('Recall')\n",
    "plt.show()"
   ]
  },
  {
   "cell_type": "markdown",
   "id": "354814da",
   "metadata": {},
   "source": [
    "# Undersampling majority class using Random Undersampling"
   ]
  },
  {
   "cell_type": "code",
   "execution_count": 35,
   "id": "33891ac1",
   "metadata": {},
   "outputs": [],
   "source": [
    "from imblearn.under_sampling import RandomUnderSampler"
   ]
  },
  {
   "cell_type": "code",
   "execution_count": 36,
   "id": "3060937e",
   "metadata": {},
   "outputs": [],
   "source": [
    "randomUnderSample = RandomUnderSampler(sampling_strategy = 0.41 ,random_state = 0)"
   ]
  },
  {
   "cell_type": "code",
   "execution_count": 37,
   "id": "e74baf4f",
   "metadata": {},
   "outputs": [
    {
     "name": "stdout",
     "output_type": "stream",
     "text": [
      "Counter({2: 12900, 1: 5289})\n"
     ]
    }
   ],
   "source": [
    "X_under,Y_under = randomUnderSample.fit_resample(X,Y)\n",
    "print(Counter(Y_under))"
   ]
  },
  {
   "cell_type": "code",
   "execution_count": 38,
   "id": "b11ba117",
   "metadata": {},
   "outputs": [],
   "source": [
    "x_train,x_test,y_train,y_test = train_test_split(X_under,Y_under,test_size = 0.4, random_state = 0)"
   ]
  },
  {
   "cell_type": "code",
   "execution_count": 39,
   "id": "5050d545",
   "metadata": {},
   "outputs": [],
   "source": [
    "pipeline.fit(x_train,y_train)\n",
    "y_pred = pipeline.predict(x_test)"
   ]
  },
  {
   "cell_type": "code",
   "execution_count": 40,
   "id": "e9bf5c11",
   "metadata": {},
   "outputs": [
    {
     "name": "stdout",
     "output_type": "stream",
     "text": [
      "Accuracy for KNN on Undersampled dataset is  0.8192688290269379\n",
      "Balanced Accuracy for KNN on Undersampled dataset is  0.7516315056676797\n",
      "Recall/Sensitivity for KNN on Undersampled dataset is  0.596971177332682\n",
      "f1_score for KNN on Undersampled dataset is  0.650172918329343\n"
     ]
    },
    {
     "data": {
      "image/png": "[encoded data removed]",
      "text/plain": [
       "<Figure size 432x288 with 1 Axes>"
      ]
     },
     "metadata": {
      "needs_background": "light"
     },
     "output_type": "display_data"
    },
    {
     "data": {
      "image/png": "[encoded data removed]",
      "text/plain": [
       "<Figure size 432x288 with 1 Axes>"
      ]
     },
     "metadata": {
      "needs_background": "light"
     },
     "output_type": "display_data"
    }
   ],
   "source": [
    "Test_accuracy = accuracy_score(y_test,y_pred)\n",
    "print(\"Accuracy for KNN on Undersampled dataset is \",Test_accuracy)\n",
    "\n",
    "# Balanced Accuracy \n",
    "Balanced_Accuracy = balanced_accuracy_score(y_test, y_pred)\n",
    "print(\"Balanced Accuracy for KNN on Undersampled dataset is \",Balanced_Accuracy)\n",
    "\n",
    "#Recall/Sensitivity\n",
    "Recall = recall_score(y_test,y_pred,pos_label = 1)\n",
    "print(\"Recall/Sensitivity for KNN on Undersampled dataset is \",Recall)\n",
    "\n",
    "# F1 score\n",
    "f1score = f1_score(y_test,y_pred,pos_label = 1)\n",
    "print(\"f1_score for KNN on Undersampled dataset is \",f1score)\n",
    "\n",
    "#ROC CURVE\n",
    "fpr, tpr, thresholds = roc_curve(y_test,y_pred,pos_label = 1)\n",
    "#ploting roc curve\n",
    "fig, ax = plt.subplots()\n",
    "ax.plot(fpr, tpr, color='purple')\n",
    "\n",
    "ax.set_title('ROC Curve')\n",
    "ax.set_ylabel('TruePositiveRate')\n",
    "ax.set_xlabel('FalsePositiveRate')\n",
    "plt.show()\n",
    "\n",
    "#Precision-Recall Curve\n",
    "precision, recall, thresholds = precision_recall_curve(y_test,y_pred,pos_label = 1)\n",
    "#ploting roc curve\n",
    "fig, ax = plt.subplots()\n",
    "ax.plot(recall, precision, color='purple')\n",
    "\n",
    "ax.set_title('Precision-Recall Curve')\n",
    "ax.set_ylabel('Precision')\n",
    "ax.set_xlabel('Recall')\n",
    "plt.show()"
   ]
  },
  {
   "cell_type": "markdown",
   "id": "bdf846cf",
   "metadata": {},
   "source": [
    "# Cleaning Undersampled majority class using Random Undersampling and tomeklinks"
   ]
  },
  {
   "cell_type": "code",
   "execution_count": 41,
   "id": "7aee31d8",
   "metadata": {},
   "outputs": [
    {
     "name": "stdout",
     "output_type": "stream",
     "text": [
      "Counter({2: 12060, 1: 5289})\n"
     ]
    }
   ],
   "source": [
    "TL_under = TomekLinks(sampling_strategy = 'majority')\n",
    "X_under_clean,Y_under_clean = TL_under.fit_resample(X_under,Y_under)\n",
    "print(Counter(Y_under_clean))"
   ]
  },
  {
   "cell_type": "code",
   "execution_count": 42,
   "id": "9d7be8ba",
   "metadata": {},
   "outputs": [],
   "source": [
    "x_train,x_test,y_train,y_test = train_test_split(X_under_clean,Y_under_clean,test_size = 0.4, random_state = 0)"
   ]
  },
  {
   "cell_type": "code",
   "execution_count": 43,
   "id": "3ee09331",
   "metadata": {},
   "outputs": [],
   "source": [
    "pipeline.fit(x_train,y_train)\n",
    "y_pred = pipeline.predict(x_test)"
   ]
  },
  {
   "cell_type": "code",
   "execution_count": 44,
   "id": "f4906b16",
   "metadata": {},
   "outputs": [
    {
     "name": "stdout",
     "output_type": "stream",
     "text": [
      "Accuracy for KNN on Undersampled and cleaned dataset is  0.835878962536023\n",
      "Balanced Accuracy for KNN on Undersampled and cleaned dataset is  0.7789461642527455\n",
      "Recall/Sensitivity for KNN on Undersampled and cleaned dataset is  0.6388349514563106\n",
      "f1_score for KNN on Undersampled and cleaned dataset is  0.6979581012993901\n"
     ]
    },
    {
     "data": {
      "image/png": "[encoded data removed]",
      "text/plain": [
       "<Figure size 432x288 with 1 Axes>"
      ]
     },
     "metadata": {
      "needs_background": "light"
     },
     "output_type": "display_data"
    },
    {
     "data": {
      "image/png": "[encoded data removed]",
      "text/plain": [
       "<Figure size 432x288 with 1 Axes>"
      ]
     },
     "metadata": {
      "needs_background": "light"
     },
     "output_type": "display_data"
    }
   ],
   "source": [
    "Test_accuracy = accuracy_score(y_test,y_pred)\n",
    "print(\"Accuracy for KNN on Undersampled and cleaned dataset is \",Test_accuracy)\n",
    "\n",
    "# Balanced Accuracy \n",
    "Balanced_Accuracy = balanced_accuracy_score(y_test, y_pred)\n",
    "print(\"Balanced Accuracy for KNN on Undersampled and cleaned dataset is \",Balanced_Accuracy)\n",
    "\n",
    "#Recall/Sensitivity\n",
    "Recall = recall_score(y_test,y_pred,pos_label = 1)\n",
    "print(\"Recall/Sensitivity for KNN on Undersampled and cleaned dataset is \",Recall)\n",
    "\n",
    "# F1 score\n",
    "f1score = f1_score(y_test,y_pred,pos_label = 1)\n",
    "print(\"f1_score for KNN on Undersampled and cleaned dataset is \",f1score)\n",
    "\n",
    "#ROC CURVE\n",
    "fpr, tpr, thresholds = roc_curve(y_test,y_pred,pos_label = 1)\n",
    "#ploting roc curve\n",
    "fig, ax = plt.subplots()\n",
    "ax.plot(fpr, tpr, color='purple')\n",
    "\n",
    "ax.set_title('ROC Curve')\n",
    "ax.set_ylabel('TruePositiveRate')\n",
    "ax.set_xlabel('FalsePositiveRate')\n",
    "plt.show()\n",
    "\n",
    "#Precision-Recall Curve\n",
    "precision, recall, thresholds = precision_recall_curve(y_test,y_pred,pos_label = 1)\n",
    "#ploting roc curve\n",
    "fig, ax = plt.subplots()\n",
    "ax.plot(recall, precision, color='purple')\n",
    "\n",
    "ax.set_title('Precision-Recall Curve')\n",
    "ax.set_ylabel('Precision')\n",
    "ax.set_xlabel('Recall')\n",
    "plt.show()"
   ]
  },
  {
   "cell_type": "markdown",
   "id": "9d1c0b9d",
   "metadata": {},
   "source": [
    "# Overall Balanced data"
   ]
  },
  {
   "cell_type": "code",
   "execution_count": 45,
   "id": "286499d2",
   "metadata": {},
   "outputs": [
    {
     "name": "stdout",
     "output_type": "stream",
     "text": [
      "Counter({2: 39922, 1: 5289})\n",
      "Counter({2: 39922, 1: 19961})\n",
      "Counter({1: 19961, 2: 19961})\n"
     ]
    }
   ],
   "source": [
    "print(Counter(Y))\n",
    "print(Counter(Y_over))\n",
    "randomUnderSample_balanced = RandomUnderSampler(sampling_strategy = 1 ,random_state = 0)\n",
    "X_overall,Y_overall = randomUnderSample_balanced.fit_resample(X_over,Y_over)\n",
    "print(Counter(Y_overall))\n",
    "x_train,x_test,y_train,y_test = train_test_split(X_overall,Y_overall,test_size = 0.4, random_state = 0)"
   ]
  },
  {
   "cell_type": "code",
   "execution_count": 46,
   "id": "591086d1",
   "metadata": {},
   "outputs": [],
   "source": [
    "pipeline.fit(x_train,y_train)\n",
    "y_pred = pipeline.predict(x_test)"
   ]
  },
  {
   "cell_type": "code",
   "execution_count": null,
   "id": "7c581f4a",
   "metadata": {},
   "outputs": [],
   "source": [
    "#Evaluation Metrics for overall Balanced data"
   ]
  },
  {
   "cell_type": "code",
   "execution_count": 47,
   "id": "216ce385",
   "metadata": {},
   "outputs": [
    {
     "name": "stdout",
     "output_type": "stream",
     "text": [
      "Accuracy for KNN on balanced dataset is  0.8968626714258876\n",
      "Balanced Accuracy for KNN on balanced dataset is  0.8968266631371674\n",
      "Recall/Sensitivity for KNN on balanced dataset is  0.9410586910274058\n",
      "f1_score for KNN on balanced dataset is  0.9013004134955355\n"
     ]
    },
    {
     "data": {
      "image/png": "[encoded data removed]",
      "text/plain": [
       "<Figure size 432x288 with 1 Axes>"
      ]
     },
     "metadata": {
      "needs_background": "light"
     },
     "output_type": "display_data"
    },
    {
     "data": {
      "image/png": "[encoded data removed]",
      "text/plain": [
       "<Figure size 432x288 with 1 Axes>"
      ]
     },
     "metadata": {
      "needs_background": "light"
     },
     "output_type": "display_data"
    }
   ],
   "source": [
    "Test_accuracy_over = accuracy_score(y_test,y_pred)\n",
    "print(\"Accuracy for KNN on balanced dataset is \",Test_accuracy_over)\n",
    "\n",
    "# Balanced Accuracy \n",
    "Balanced_Accuracy_over = balanced_accuracy_score(y_test, y_pred)\n",
    "print(\"Balanced Accuracy for KNN on balanced dataset is \",Balanced_Accuracy_over)\n",
    "\n",
    "#Recall/Sensitivity\n",
    "Recall_over = recall_score(y_test,y_pred,pos_label = 1)\n",
    "print(\"Recall/Sensitivity for KNN on balanced dataset is \",Recall_over)\n",
    "\n",
    "# F1 score\n",
    "f1score_over = f1_score(y_test,y_pred,pos_label = 1)\n",
    "print(\"f1_score for KNN on balanced dataset is \",f1score_over)\n",
    "\n",
    "#ROC CURVE for balanced data\n",
    "fpr_over, tpr_over, thresholds_over = roc_curve(y_test,y_pred,pos_label = 1)\n",
    "#ploting roc curve\n",
    "fig, ax = plt.subplots()\n",
    "ax.plot(fpr_over, tpr_over, color='purple')\n",
    "\n",
    "ax.set_title('ROC Curve for balanced Data')\n",
    "ax.set_ylabel('TruePositiveRate')\n",
    "ax.set_xlabel('FalsePositiveRate')\n",
    "plt.show()\n",
    "\n",
    "#Precision-Recall Curve for balanced data\n",
    "precision_over, recall_over, thresholds_over = precision_recall_curve(y_test,y_pred,pos_label = 1)\n",
    "#ploting roc curve\n",
    "fig, ax = plt.subplots()\n",
    "ax.plot(recall_over, precision_over, color='purple')\n",
    "\n",
    "ax.set_title('Precision-Recall Curve for balanced Data')\n",
    "ax.set_ylabel('Precision')\n",
    "ax.set_xlabel('Recall')\n",
    "plt.show()"
   ]
  },
  {
   "cell_type": "markdown",
   "id": "17ae2e62",
   "metadata": {},
   "source": [
    "# Overall Balanced data-Cleaned"
   ]
  },
  {
   "cell_type": "code",
   "execution_count": 48,
   "id": "d73f2daa",
   "metadata": {},
   "outputs": [
    {
     "name": "stdout",
     "output_type": "stream",
     "text": [
      "Counter({1: 19831, 2: 19831})\n"
     ]
    }
   ],
   "source": [
    "clean_balanced = TomekLinks(sampling_strategy='all')\n",
    "X_balanced_clean,Y_balanced_clean = clean_balanced.fit_resample(X_overall,Y_overall)\n",
    "print(Counter(Y_balanced_clean))"
   ]
  },
  {
   "cell_type": "code",
   "execution_count": 49,
   "id": "2d4915d6",
   "metadata": {},
   "outputs": [],
   "source": [
    "x_train,x_test,y_train,y_test = train_test_split(X_balanced_clean,Y_balanced_clean,test_size = 0.4, random_state = 0)"
   ]
  },
  {
   "cell_type": "code",
   "execution_count": 50,
   "id": "290f5a84",
   "metadata": {},
   "outputs": [],
   "source": [
    "pipeline.fit(x_train,y_train)\n",
    "y_pred = pipeline.predict(x_test)"
   ]
  },
  {
   "cell_type": "code",
   "execution_count": null,
   "id": "6adb9d48",
   "metadata": {},
   "outputs": [],
   "source": [
    "#Evaluation Metrics for overall Balanced and cleaned data"
   ]
  },
  {
   "cell_type": "code",
   "execution_count": 51,
   "id": "97827833",
   "metadata": {},
   "outputs": [
    {
     "name": "stdout",
     "output_type": "stream",
     "text": [
      "Accuracy for KNN on balanced and cleaned dataset is  0.8974472108414749\n",
      "Balanced Accuracy for KNN on balanced and cleaned dataset is  0.8975590860715195\n",
      "Recall/Sensitivity for KNN on balanced and cleaned dataset is  0.9408493427704753\n",
      "f1_score for KNN on balanced and cleaned dataset is  0.9014834998486224\n"
     ]
    },
    {
     "data": {
      "image/png": "[encoded data removed]",
      "text/plain": [
       "<Figure size 432x288 with 1 Axes>"
      ]
     },
     "metadata": {
      "needs_background": "light"
     },
     "output_type": "display_data"
    },
    {
     "data": {
      "image/png": "[encoded data removed]",
      "text/plain": [
       "<Figure size 432x288 with 1 Axes>"
      ]
     },
     "metadata": {
      "needs_background": "light"
     },
     "output_type": "display_data"
    }
   ],
   "source": [
    "Test_accuracy = accuracy_score(y_test,y_pred)\n",
    "print(\"Accuracy for KNN on balanced and cleaned dataset is \",Test_accuracy)\n",
    "\n",
    "# Balanced Accuracy \n",
    "Balanced_Accuracy = balanced_accuracy_score(y_test, y_pred)\n",
    "print(\"Balanced Accuracy for KNN on balanced and cleaned dataset is \",Balanced_Accuracy)\n",
    "\n",
    "#Recall/Sensitivity\n",
    "Recall = recall_score(y_test,y_pred,pos_label = 1)\n",
    "print(\"Recall/Sensitivity for KNN on balanced and cleaned dataset is \",Recall)\n",
    "\n",
    "# F1 score\n",
    "f1score = f1_score(y_test,y_pred,pos_label = 1)\n",
    "print(\"f1_score for KNN on balanced and cleaned dataset is \",f1score)\n",
    "\n",
    "#ROC CURVE\n",
    "fpr, tpr, thresholds = roc_curve(y_test,y_pred,pos_label = 1)\n",
    "#ploting roc curve\n",
    "fig, ax = plt.subplots()\n",
    "ax.plot(fpr, tpr, color='purple')\n",
    "\n",
    "ax.set_title('ROC Curve')\n",
    "ax.set_ylabel('TruePositiveRate')\n",
    "ax.set_xlabel('FalsePositiveRate')\n",
    "plt.show()\n",
    "\n",
    "#Precision-Recall Curve\n",
    "precision, recall, thresholds = precision_recall_curve(y_test,y_pred,pos_label = 1)\n",
    "#ploting roc curve\n",
    "fig, ax = plt.subplots()\n",
    "ax.plot(recall, precision, color='purple')\n",
    "\n",
    "ax.set_title('Precision-Recall Curve')\n",
    "ax.set_ylabel('Precision')\n",
    "ax.set_xlabel('Recall')\n",
    "plt.show()"
   ]
  },
  {
   "cell_type": "code",
   "execution_count": null,
   "id": "00f7c829",
   "metadata": {},
   "outputs": [],
   "source": [
    "#Serializing the model using sklearn pickle"
   ]
  },
  {
   "cell_type": "code",
   "execution_count": 52,
   "id": "1e4849c1",
   "metadata": {},
   "outputs": [],
   "source": [
    "import pickle\n",
    "pickle.dump(pipeline,open('knnmodel.pkl','wb'))"
   ]
  },
  {
   "cell_type": "code",
   "execution_count": 53,
   "id": "3997fc5d",
   "metadata": {},
   "outputs": [],
   "source": [
    "pickeled_knn = pickle.load(open('knnmodel.pkl','rb'))"
   ]
  },
  {
   "cell_type": "code",
   "execution_count": 54,
   "id": "82c4f597",
   "metadata": {},
   "outputs": [
    {
     "name": "stdout",
     "output_type": "stream",
     "text": [
      "[1]\n"
     ]
    }
   ],
   "source": [
    "print(pickeled_knn.predict([[31,1,2,3,2,54,1,2,1,18,1,239,6,-1,0,0]]))"
   ]
  },
  {
   "cell_type": "code",
   "execution_count": null,
   "id": "bbc27fb1",
   "metadata": {},
   "outputs": [],
   "source": []
  }
 ],
 "metadata": {
  "kernelspec": {
   "display_name": "Python 3",
   "language": "python",
   "name": "python3"
  },
  "language_info": {
   "codemirror_mode": {
    "name": "ipython",
    "version": 3
   },
   "file_extension": ".py",
   "mimetype": "text/x-python",
   "name": "python",
   "nbconvert_exporter": "python",
   "pygments_lexer": "ipython3",
   "version": "3.8.8"
  }
 },
 "nbformat": 4,
 "nbformat_minor": 5
}
