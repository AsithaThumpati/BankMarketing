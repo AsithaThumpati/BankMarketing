{
 "cells": [
  {
   "cell_type": "markdown",
   "id": "1717cdaf",
   "metadata": {},
   "source": [
    "# Training the unbalanced dataset on Decision Tree"
   ]
  },
  {
   "cell_type": "code",
   "execution_count": 1,
   "id": "7960cbcc",
   "metadata": {},
   "outputs": [
    {
     "name": "stdout",
     "output_type": "stream",
     "text": [
      "Requirement already satisfied: scikit-learn in c:\\users\\thump\\anaconda3\\lib\\site-packages (1.2.2)\n",
      "Requirement already satisfied: numpy>=1.17.3 in c:\\users\\thump\\anaconda3\\lib\\site-packages (from scikit-learn) (1.20.1)\n",
      "Requirement already satisfied: joblib>=1.1.1 in c:\\users\\thump\\anaconda3\\lib\\site-packages (from scikit-learn) (1.2.0)\n",
      "Requirement already satisfied: threadpoolctl>=2.0.0 in c:\\users\\thump\\anaconda3\\lib\\site-packages (from scikit-learn) (2.1.0)\n",
      "Requirement already satisfied: scipy>=1.3.2 in c:\\users\\thump\\anaconda3\\lib\\site-packages (from scikit-learn) (1.6.2)\n",
      "Note: you may need to restart the kernel to use updated packages.\n"
     ]
    }
   ],
   "source": [
    "pip install scikit-learn"
   ]
  },
  {
   "cell_type": "code",
   "execution_count": 2,
   "id": "c1817579",
   "metadata": {},
   "outputs": [],
   "source": [
    "import pandas as pd"
   ]
  },
  {
   "cell_type": "code",
   "execution_count": 3,
   "id": "70b51cb4",
   "metadata": {},
   "outputs": [],
   "source": [
    "from sklearn import tree\n",
    "from sklearn.tree import DecisionTreeClassifier # Import Decision Tree Classifier\n",
    "from sklearn.model_selection import train_test_split # Import train_test_split function\n",
    "\n"
   ]
  },
  {
   "cell_type": "code",
   "execution_count": 24,
   "id": "b36a1db6",
   "metadata": {},
   "outputs": [],
   "source": [
    "data = pd.read_csv(r\"C:\\Users\\thump\\OneDrive\\Desktop\\Final Project Literature Survey\\Data Preprocessing\\Preprocesseddata.csv\")"
   ]
  },
  {
   "cell_type": "code",
   "execution_count": 25,
   "id": "a2ca5dd6",
   "metadata": {},
   "outputs": [
    {
     "data": {
      "text/html": [
       "<div>\n",
       "<style scoped>\n",
       "    .dataframe tbody tr th:only-of-type {\n",
       "        vertical-align: middle;\n",
       "    }\n",
       "\n",
       "    .dataframe tbody tr th {\n",
       "        vertical-align: top;\n",
       "    }\n",
       "\n",
       "    .dataframe thead th {\n",
       "        text-align: right;\n",
       "    }\n",
       "</style>\n",
       "<table border=\"1\" class=\"dataframe\">\n",
       "  <thead>\n",
       "    <tr style=\"text-align: right;\">\n",
       "      <th></th>\n",
       "      <th>age</th>\n",
       "      <th>job</th>\n",
       "      <th>marital</th>\n",
       "      <th>education</th>\n",
       "      <th>default</th>\n",
       "      <th>balance</th>\n",
       "      <th>housing</th>\n",
       "      <th>loan</th>\n",
       "      <th>contact</th>\n",
       "      <th>day</th>\n",
       "      <th>month</th>\n",
       "      <th>duration</th>\n",
       "      <th>campaign</th>\n",
       "      <th>pdays</th>\n",
       "      <th>previous</th>\n",
       "      <th>poutcome</th>\n",
       "      <th>y</th>\n",
       "    </tr>\n",
       "  </thead>\n",
       "  <tbody>\n",
       "    <tr>\n",
       "      <th>0</th>\n",
       "      <td>58</td>\n",
       "      <td>2</td>\n",
       "      <td>2</td>\n",
       "      <td>1</td>\n",
       "      <td>2</td>\n",
       "      <td>0.256419</td>\n",
       "      <td>1</td>\n",
       "      <td>2</td>\n",
       "      <td>0</td>\n",
       "      <td>5</td>\n",
       "      <td>1</td>\n",
       "      <td>0.011016</td>\n",
       "      <td>1</td>\n",
       "      <td>-1</td>\n",
       "      <td>0</td>\n",
       "      <td>0</td>\n",
       "      <td>2</td>\n",
       "    </tr>\n",
       "    <tr>\n",
       "      <th>1</th>\n",
       "      <td>44</td>\n",
       "      <td>3</td>\n",
       "      <td>1</td>\n",
       "      <td>2</td>\n",
       "      <td>2</td>\n",
       "      <td>-0.437895</td>\n",
       "      <td>1</td>\n",
       "      <td>2</td>\n",
       "      <td>0</td>\n",
       "      <td>5</td>\n",
       "      <td>1</td>\n",
       "      <td>-0.416127</td>\n",
       "      <td>1</td>\n",
       "      <td>-1</td>\n",
       "      <td>0</td>\n",
       "      <td>0</td>\n",
       "      <td>2</td>\n",
       "    </tr>\n",
       "    <tr>\n",
       "      <th>2</th>\n",
       "      <td>33</td>\n",
       "      <td>8</td>\n",
       "      <td>2</td>\n",
       "      <td>2</td>\n",
       "      <td>2</td>\n",
       "      <td>-0.446762</td>\n",
       "      <td>1</td>\n",
       "      <td>1</td>\n",
       "      <td>0</td>\n",
       "      <td>5</td>\n",
       "      <td>1</td>\n",
       "      <td>-0.707361</td>\n",
       "      <td>1</td>\n",
       "      <td>-1</td>\n",
       "      <td>0</td>\n",
       "      <td>0</td>\n",
       "      <td>2</td>\n",
       "    </tr>\n",
       "    <tr>\n",
       "      <th>3</th>\n",
       "      <td>47</td>\n",
       "      <td>1</td>\n",
       "      <td>2</td>\n",
       "      <td>0</td>\n",
       "      <td>2</td>\n",
       "      <td>0.047205</td>\n",
       "      <td>1</td>\n",
       "      <td>2</td>\n",
       "      <td>0</td>\n",
       "      <td>5</td>\n",
       "      <td>1</td>\n",
       "      <td>-0.645231</td>\n",
       "      <td>1</td>\n",
       "      <td>-1</td>\n",
       "      <td>0</td>\n",
       "      <td>0</td>\n",
       "      <td>2</td>\n",
       "    </tr>\n",
       "    <tr>\n",
       "      <th>4</th>\n",
       "      <td>33</td>\n",
       "      <td>0</td>\n",
       "      <td>1</td>\n",
       "      <td>0</td>\n",
       "      <td>2</td>\n",
       "      <td>-0.447091</td>\n",
       "      <td>2</td>\n",
       "      <td>2</td>\n",
       "      <td>0</td>\n",
       "      <td>5</td>\n",
       "      <td>1</td>\n",
       "      <td>-0.233620</td>\n",
       "      <td>1</td>\n",
       "      <td>-1</td>\n",
       "      <td>0</td>\n",
       "      <td>0</td>\n",
       "      <td>2</td>\n",
       "    </tr>\n",
       "  </tbody>\n",
       "</table>\n",
       "</div>"
      ],
      "text/plain": [
       "   age  job  marital  education  default   balance  housing  loan  contact  \\\n",
       "0   58    2        2          1        2  0.256419        1     2        0   \n",
       "1   44    3        1          2        2 -0.437895        1     2        0   \n",
       "2   33    8        2          2        2 -0.446762        1     1        0   \n",
       "3   47    1        2          0        2  0.047205        1     2        0   \n",
       "4   33    0        1          0        2 -0.447091        2     2        0   \n",
       "\n",
       "   day  month  duration  campaign  pdays  previous  poutcome  y  \n",
       "0    5      1  0.011016         1     -1         0         0  2  \n",
       "1    5      1 -0.416127         1     -1         0         0  2  \n",
       "2    5      1 -0.707361         1     -1         0         0  2  \n",
       "3    5      1 -0.645231         1     -1         0         0  2  \n",
       "4    5      1 -0.233620         1     -1         0         0  2  "
      ]
     },
     "execution_count": 25,
     "metadata": {},
     "output_type": "execute_result"
    }
   ],
   "source": [
    "data.head()"
   ]
  },
  {
   "cell_type": "code",
   "execution_count": 6,
   "id": "95fc4aca",
   "metadata": {},
   "outputs": [],
   "source": [
    "X = data.drop('y',axis=1)"
   ]
  },
  {
   "cell_type": "code",
   "execution_count": 7,
   "id": "227215db",
   "metadata": {},
   "outputs": [],
   "source": [
    "X = X.values"
   ]
  },
  {
   "cell_type": "code",
   "execution_count": null,
   "id": "f37e8ee1",
   "metadata": {},
   "outputs": [],
   "source": []
  },
  {
   "cell_type": "code",
   "execution_count": 8,
   "id": "daa4e311",
   "metadata": {},
   "outputs": [],
   "source": [
    "Y = data.y"
   ]
  },
  {
   "cell_type": "code",
   "execution_count": 9,
   "id": "6a35d931",
   "metadata": {},
   "outputs": [],
   "source": [
    "x_train,x_test,y_train,y_test = train_test_split(X,Y,test_size = 0.4, random_state = 0)"
   ]
  },
  {
   "cell_type": "code",
   "execution_count": null,
   "id": "42886fc3",
   "metadata": {},
   "outputs": [],
   "source": []
  },
  {
   "cell_type": "code",
   "execution_count": 10,
   "id": "782acf7b",
   "metadata": {},
   "outputs": [],
   "source": [
    "DT = tree.DecisionTreeClassifier()"
   ]
  },
  {
   "cell_type": "code",
   "execution_count": 11,
   "id": "eecaa466",
   "metadata": {},
   "outputs": [
    {
     "data": {
      "text/html": [
       "<style>#sk-container-id-1 {color: black;background-color: white;}#sk-container-id-1 pre{padding: 0;}#sk-container-id-1 div.sk-toggleable {background-color: white;}#sk-container-id-1 label.sk-toggleable__label {cursor: pointer;display: block;width: 100%;margin-bottom: 0;padding: 0.3em;box-sizing: border-box;text-align: center;}#sk-container-id-1 label.sk-toggleable__label-arrow:before {content: \"▸\";float: left;margin-right: 0.25em;color: #696969;}#sk-container-id-1 label.sk-toggleable__label-arrow:hover:before {color: black;}#sk-container-id-1 div.sk-estimator:hover label.sk-toggleable__label-arrow:before {color: black;}#sk-container-id-1 div.sk-toggleable__content {max-height: 0;max-width: 0;overflow: hidden;text-align: left;background-color: #f0f8ff;}#sk-container-id-1 div.sk-toggleable__content pre {margin: 0.2em;color: black;border-radius: 0.25em;background-color: #f0f8ff;}#sk-container-id-1 input.sk-toggleable__control:checked~div.sk-toggleable__content {max-height: 200px;max-width: 100%;overflow: auto;}#sk-container-id-1 input.sk-toggleable__control:checked~label.sk-toggleable__label-arrow:before {content: \"▾\";}#sk-container-id-1 div.sk-estimator input.sk-toggleable__control:checked~label.sk-toggleable__label {background-color: #d4ebff;}#sk-container-id-1 div.sk-label input.sk-toggleable__control:checked~label.sk-toggleable__label {background-color: #d4ebff;}#sk-container-id-1 input.sk-hidden--visually {border: 0;clip: rect(1px 1px 1px 1px);clip: rect(1px, 1px, 1px, 1px);height: 1px;margin: -1px;overflow: hidden;padding: 0;position: absolute;width: 1px;}#sk-container-id-1 div.sk-estimator {font-family: monospace;background-color: #f0f8ff;border: 1px dotted black;border-radius: 0.25em;box-sizing: border-box;margin-bottom: 0.5em;}#sk-container-id-1 div.sk-estimator:hover {background-color: #d4ebff;}#sk-container-id-1 div.sk-parallel-item::after {content: \"\";width: 100%;border-bottom: 1px solid gray;flex-grow: 1;}#sk-container-id-1 div.sk-label:hover label.sk-toggleable__label {background-color: #d4ebff;}#sk-container-id-1 div.sk-serial::before {content: \"\";position: absolute;border-left: 1px solid gray;box-sizing: border-box;top: 0;bottom: 0;left: 50%;z-index: 0;}#sk-container-id-1 div.sk-serial {display: flex;flex-direction: column;align-items: center;background-color: white;padding-right: 0.2em;padding-left: 0.2em;position: relative;}#sk-container-id-1 div.sk-item {position: relative;z-index: 1;}#sk-container-id-1 div.sk-parallel {display: flex;align-items: stretch;justify-content: center;background-color: white;position: relative;}#sk-container-id-1 div.sk-item::before, #sk-container-id-1 div.sk-parallel-item::before {content: \"\";position: absolute;border-left: 1px solid gray;box-sizing: border-box;top: 0;bottom: 0;left: 50%;z-index: -1;}#sk-container-id-1 div.sk-parallel-item {display: flex;flex-direction: column;z-index: 1;position: relative;background-color: white;}#sk-container-id-1 div.sk-parallel-item:first-child::after {align-self: flex-end;width: 50%;}#sk-container-id-1 div.sk-parallel-item:last-child::after {align-self: flex-start;width: 50%;}#sk-container-id-1 div.sk-parallel-item:only-child::after {width: 0;}#sk-container-id-1 div.sk-dashed-wrapped {border: 1px dashed gray;margin: 0 0.4em 0.5em 0.4em;box-sizing: border-box;padding-bottom: 0.4em;background-color: white;}#sk-container-id-1 div.sk-label label {font-family: monospace;font-weight: bold;display: inline-block;line-height: 1.2em;}#sk-container-id-1 div.sk-label-container {text-align: center;}#sk-container-id-1 div.sk-container {/* jupyter's `normalize.less` sets `[hidden] { display: none; }` but bootstrap.min.css set `[hidden] { display: none !important; }` so we also need the `!important` here to be able to override the default hidden behavior on the sphinx rendered scikit-learn.org. See: https://github.com/scikit-learn/scikit-learn/issues/21755 */display: inline-block !important;position: relative;}#sk-container-id-1 div.sk-text-repr-fallback {display: none;}</style><div id=\"sk-container-id-1\" class=\"sk-top-container\"><div class=\"sk-text-repr-fallback\"><pre>DecisionTreeClassifier()</pre><b>In a Jupyter environment, please rerun this cell to show the HTML representation or trust the notebook. <br />On GitHub, the HTML representation is unable to render, please try loading this page with nbviewer.org.</b></div><div class=\"sk-container\" hidden><div class=\"sk-item\"><div class=\"sk-estimator sk-toggleable\"><input class=\"sk-toggleable__control sk-hidden--visually\" id=\"sk-estimator-id-1\" type=\"checkbox\" checked><label for=\"sk-estimator-id-1\" class=\"sk-toggleable__label sk-toggleable__label-arrow\">DecisionTreeClassifier</label><div class=\"sk-toggleable__content\"><pre>DecisionTreeClassifier()</pre></div></div></div></div></div>"
      ],
      "text/plain": [
       "DecisionTreeClassifier()"
      ]
     },
     "execution_count": 11,
     "metadata": {},
     "output_type": "execute_result"
    }
   ],
   "source": [
    "DT.fit(x_train,y_train)"
   ]
  },
  {
   "cell_type": "code",
   "execution_count": 12,
   "id": "eedca1a7",
   "metadata": {},
   "outputs": [],
   "source": [
    "y_pred = DT.predict(x_test)"
   ]
  },
  {
   "cell_type": "markdown",
   "id": "ebb3e32b",
   "metadata": {},
   "source": [
    "# Evaluation Metrics"
   ]
  },
  {
   "cell_type": "code",
   "execution_count": 13,
   "id": "77f20ec1",
   "metadata": {},
   "outputs": [],
   "source": [
    "from sklearn import metrics #Import scikit-learn metrics module for accuracy calculation\n",
    "from sklearn.metrics import accuracy_score\n",
    "from sklearn.metrics import balanced_accuracy_score\n",
    "from sklearn.metrics import recall_score\n",
    "from sklearn.metrics import f1_score\n",
    "from sklearn.metrics import roc_curve\n",
    "from sklearn.metrics import precision_recall_curve\n",
    "import matplotlib.pyplot as plt"
   ]
  },
  {
   "cell_type": "code",
   "execution_count": 14,
   "id": "74f4ee0f",
   "metadata": {},
   "outputs": [
    {
     "name": "stdout",
     "output_type": "stream",
     "text": [
      "Accuracy for Decision Tree on Unbalanced dataset is  0.8725463090959359\n",
      "Balanced Accuracy for Decision Tree on Unbalanced dataset is  0.7027654885239042\n",
      "Recall/Sensitivity for Decision Tree on Unbalanced dataset is  0.4807330827067669\n",
      "f1_score for Decision Tree on Unbalanced dataset is  0.47023672718915194\n"
     ]
    },
    {
     "data": {
      "image/png": "[encoded data removed]",
      "text/plain": [
       "<Figure size 432x288 with 1 Axes>"
      ]
     },
     "metadata": {
      "needs_background": "light"
     },
     "output_type": "display_data"
    },
    {
     "data": {
      "image/png": "[encoded data removed]",
      "text/plain": [
       "<Figure size 432x288 with 1 Axes>"
      ]
     },
     "metadata": {
      "needs_background": "light"
     },
     "output_type": "display_data"
    }
   ],
   "source": [
    "Test_accuracy = accuracy_score(y_test,y_pred)\n",
    "print(\"Accuracy for Decision Tree on Unbalanced dataset is \",Test_accuracy)\n",
    "\n",
    "# Balanced Accuracy \n",
    "Balanced_Accuracy = balanced_accuracy_score(y_test, y_pred)\n",
    "print(\"Balanced Accuracy for Decision Tree on Unbalanced dataset is \",Balanced_Accuracy)\n",
    "\n",
    "#Recall/Sensitivity\n",
    "Recall = recall_score(y_test,y_pred,pos_label = 1)\n",
    "print(\"Recall/Sensitivity for Decision Tree on Unbalanced dataset is \",Recall)\n",
    "\n",
    "# F1 score\n",
    "f1score = f1_score(y_test,y_pred,pos_label = 1)\n",
    "print(\"f1_score for Decision Tree on Unbalanced dataset is \",f1score)\n",
    "\n",
    "#ROC CURVE\n",
    "fpr, tpr, thresholds = roc_curve(y_test,y_pred,pos_label = 1)\n",
    "#ploting roc curve\n",
    "fig, ax = plt.subplots()\n",
    "ax.plot(fpr, tpr, color='purple')\n",
    "\n",
    "ax.set_title('ROC Curve')\n",
    "ax.set_ylabel('TruePositiveRate')\n",
    "ax.set_xlabel('FalsePositiveRate')\n",
    "plt.show()\n",
    "#print(\"ROC score for Decision Tree on Unbalanced dataset is \",ROC)\n",
    "\n",
    "#Precision-Recall Curve\n",
    "precision, recall, thresholds = precision_recall_curve(y_test,y_pred,pos_label = 1)\n",
    "#ploting roc curve\n",
    "fig, ax = plt.subplots()\n",
    "ax.plot(recall, precision, color='purple')\n",
    "\n",
    "ax.set_title('Precision-Recall Curve')\n",
    "ax.set_ylabel('Precision')\n",
    "ax.set_xlabel('Recall')\n",
    "plt.show()\n",
    "#print(\"Precision-Recall Curve score for Decision Tree on Unbalanced dataset is \",PRC)"
   ]
  },
  {
   "cell_type": "markdown",
   "id": "f2639cd9",
   "metadata": {},
   "source": [
    "# Logistic Regression on Orginal Dataset"
   ]
  },
  {
   "cell_type": "code",
   "execution_count": null,
   "id": "7742e58d",
   "metadata": {},
   "outputs": [],
   "source": [
    "clf = LogisticRegression(random_state=0)\n",
    "clf.fit(x_train,y_train)\n",
    "y_pred = clf.predict(y_test)"
   ]
  },
  {
   "cell_type": "markdown",
   "id": "da5e8f22",
   "metadata": {},
   "source": [
    "# Evaluation metrics for Logistic Regression on Orginal Dataset"
   ]
  },
  {
   "cell_type": "code",
   "execution_count": null,
   "id": "7600ae8a",
   "metadata": {},
   "outputs": [],
   "source": []
  },
  {
   "cell_type": "markdown",
   "id": "8f22de1a",
   "metadata": {},
   "source": [
    "# OverSampling"
   ]
  },
  {
   "cell_type": "code",
   "execution_count": null,
   "id": "a680eaf9",
   "metadata": {},
   "outputs": [],
   "source": [
    "# OverSampling minority class using smote and decision tree"
   ]
  },
  {
   "cell_type": "code",
   "execution_count": 7,
   "id": "b66dfb14",
   "metadata": {
    "scrolled": true
   },
   "outputs": [
    {
     "name": "stdout",
     "output_type": "stream",
     "text": [
      "Requirement already satisfied: imblearn in c:\\users\\thump\\anaconda3\\lib\\site-packages (0.0)\n",
      "Requirement already satisfied: imbalanced-learn in c:\\users\\thump\\anaconda3\\lib\\site-packages (from imblearn) (0.10.1)\n",
      "Requirement already satisfied: scikit-learn>=1.0.2 in c:\\users\\thump\\anaconda3\\lib\\site-packages (from imbalanced-learn->imblearn) (1.2.2)\n",
      "Requirement already satisfied: numpy>=1.17.3 in c:\\users\\thump\\anaconda3\\lib\\site-packages (from imbalanced-learn->imblearn) (1.20.1)\n",
      "Requirement already satisfied: joblib>=1.1.1 in c:\\users\\thump\\anaconda3\\lib\\site-packages (from imbalanced-learn->imblearn) (1.2.0)\n",
      "Requirement already satisfied: scipy>=1.3.2 in c:\\users\\thump\\anaconda3\\lib\\site-packages (from imbalanced-learn->imblearn) (1.6.2)\n",
      "Requirement already satisfied: threadpoolctl>=2.0.0 in c:\\users\\thump\\anaconda3\\lib\\site-packages (from imbalanced-learn->imblearn) (2.1.0)\n",
      "Note: you may need to restart the kernel to use updated packages.\n"
     ]
    }
   ],
   "source": [
    "pip install imblearn"
   ]
  },
  {
   "cell_type": "code",
   "execution_count": 17,
   "id": "15f37b5b",
   "metadata": {},
   "outputs": [],
   "source": [
    "from imblearn.over_sampling import SMOTE\n",
    "#increasing minority class to half of majority class\n",
    "smt = SMOTE(sampling_strategy = 0.5,random_state = 0)"
   ]
  },
  {
   "cell_type": "code",
   "execution_count": 14,
   "id": "d9649af4",
   "metadata": {},
   "outputs": [],
   "source": [
    "X = data.drop('y',axis=1)\n",
    "Y = data['y']"
   ]
  },
  {
   "cell_type": "code",
   "execution_count": 15,
   "id": "2253682e",
   "metadata": {},
   "outputs": [],
   "source": [
    "X_over,Y_over = smt.fit_resample(X,Y)"
   ]
  },
  {
   "cell_type": "code",
   "execution_count": 16,
   "id": "9b74e8a2",
   "metadata": {},
   "outputs": [
    {
     "name": "stdout",
     "output_type": "stream",
     "text": [
      "Counter({2: 39922, 1: 19961})\n"
     ]
    }
   ],
   "source": [
    "from collections import Counter\n",
    "counter = Counter(Y_over)\n",
    "print(counter)"
   ]
  },
  {
   "cell_type": "code",
   "execution_count": 15,
   "id": "696c02de",
   "metadata": {},
   "outputs": [],
   "source": [
    "from collections import Counter"
   ]
  },
  {
   "cell_type": "code",
   "execution_count": 17,
   "id": "f14a9cd9",
   "metadata": {},
   "outputs": [],
   "source": [
    "from sklearn import tree\n",
    "from sklearn.tree import DecisionTreeClassifier # Import Decision Tree Classifier\n",
    "from sklearn.model_selection import train_test_split # Import train_test_split function\n",
    "from sklearn import metrics #Import scikit-learn metrics module for accuracy calculation\n",
    "from sklearn.metrics import accuracy_score"
   ]
  },
  {
   "cell_type": "code",
   "execution_count": 18,
   "id": "fd41c8bd",
   "metadata": {},
   "outputs": [],
   "source": [
    "x_train,x_test,y_train,y_test = train_test_split(X_over,Y_over,test_size = 0.4,random_state = 0)"
   ]
  },
  {
   "cell_type": "code",
   "execution_count": 19,
   "id": "069cb018",
   "metadata": {},
   "outputs": [],
   "source": [
    "DT = tree.DecisionTreeClassifier()"
   ]
  },
  {
   "cell_type": "code",
   "execution_count": 20,
   "id": "d6084402",
   "metadata": {},
   "outputs": [
    {
     "data": {
      "text/html": [
       "<style>#sk-container-id-2 {color: black;background-color: white;}#sk-container-id-2 pre{padding: 0;}#sk-container-id-2 div.sk-toggleable {background-color: white;}#sk-container-id-2 label.sk-toggleable__label {cursor: pointer;display: block;width: 100%;margin-bottom: 0;padding: 0.3em;box-sizing: border-box;text-align: center;}#sk-container-id-2 label.sk-toggleable__label-arrow:before {content: \"▸\";float: left;margin-right: 0.25em;color: #696969;}#sk-container-id-2 label.sk-toggleable__label-arrow:hover:before {color: black;}#sk-container-id-2 div.sk-estimator:hover label.sk-toggleable__label-arrow:before {color: black;}#sk-container-id-2 div.sk-toggleable__content {max-height: 0;max-width: 0;overflow: hidden;text-align: left;background-color: #f0f8ff;}#sk-container-id-2 div.sk-toggleable__content pre {margin: 0.2em;color: black;border-radius: 0.25em;background-color: #f0f8ff;}#sk-container-id-2 input.sk-toggleable__control:checked~div.sk-toggleable__content {max-height: 200px;max-width: 100%;overflow: auto;}#sk-container-id-2 input.sk-toggleable__control:checked~label.sk-toggleable__label-arrow:before {content: \"▾\";}#sk-container-id-2 div.sk-estimator input.sk-toggleable__control:checked~label.sk-toggleable__label {background-color: #d4ebff;}#sk-container-id-2 div.sk-label input.sk-toggleable__control:checked~label.sk-toggleable__label {background-color: #d4ebff;}#sk-container-id-2 input.sk-hidden--visually {border: 0;clip: rect(1px 1px 1px 1px);clip: rect(1px, 1px, 1px, 1px);height: 1px;margin: -1px;overflow: hidden;padding: 0;position: absolute;width: 1px;}#sk-container-id-2 div.sk-estimator {font-family: monospace;background-color: #f0f8ff;border: 1px dotted black;border-radius: 0.25em;box-sizing: border-box;margin-bottom: 0.5em;}#sk-container-id-2 div.sk-estimator:hover {background-color: #d4ebff;}#sk-container-id-2 div.sk-parallel-item::after {content: \"\";width: 100%;border-bottom: 1px solid gray;flex-grow: 1;}#sk-container-id-2 div.sk-label:hover label.sk-toggleable__label {background-color: #d4ebff;}#sk-container-id-2 div.sk-serial::before {content: \"\";position: absolute;border-left: 1px solid gray;box-sizing: border-box;top: 0;bottom: 0;left: 50%;z-index: 0;}#sk-container-id-2 div.sk-serial {display: flex;flex-direction: column;align-items: center;background-color: white;padding-right: 0.2em;padding-left: 0.2em;position: relative;}#sk-container-id-2 div.sk-item {position: relative;z-index: 1;}#sk-container-id-2 div.sk-parallel {display: flex;align-items: stretch;justify-content: center;background-color: white;position: relative;}#sk-container-id-2 div.sk-item::before, #sk-container-id-2 div.sk-parallel-item::before {content: \"\";position: absolute;border-left: 1px solid gray;box-sizing: border-box;top: 0;bottom: 0;left: 50%;z-index: -1;}#sk-container-id-2 div.sk-parallel-item {display: flex;flex-direction: column;z-index: 1;position: relative;background-color: white;}#sk-container-id-2 div.sk-parallel-item:first-child::after {align-self: flex-end;width: 50%;}#sk-container-id-2 div.sk-parallel-item:last-child::after {align-self: flex-start;width: 50%;}#sk-container-id-2 div.sk-parallel-item:only-child::after {width: 0;}#sk-container-id-2 div.sk-dashed-wrapped {border: 1px dashed gray;margin: 0 0.4em 0.5em 0.4em;box-sizing: border-box;padding-bottom: 0.4em;background-color: white;}#sk-container-id-2 div.sk-label label {font-family: monospace;font-weight: bold;display: inline-block;line-height: 1.2em;}#sk-container-id-2 div.sk-label-container {text-align: center;}#sk-container-id-2 div.sk-container {/* jupyter's `normalize.less` sets `[hidden] { display: none; }` but bootstrap.min.css set `[hidden] { display: none !important; }` so we also need the `!important` here to be able to override the default hidden behavior on the sphinx rendered scikit-learn.org. See: https://github.com/scikit-learn/scikit-learn/issues/21755 */display: inline-block !important;position: relative;}#sk-container-id-2 div.sk-text-repr-fallback {display: none;}</style><div id=\"sk-container-id-2\" class=\"sk-top-container\"><div class=\"sk-text-repr-fallback\"><pre>DecisionTreeClassifier()</pre><b>In a Jupyter environment, please rerun this cell to show the HTML representation or trust the notebook. <br />On GitHub, the HTML representation is unable to render, please try loading this page with nbviewer.org.</b></div><div class=\"sk-container\" hidden><div class=\"sk-item\"><div class=\"sk-estimator sk-toggleable\"><input class=\"sk-toggleable__control sk-hidden--visually\" id=\"sk-estimator-id-2\" type=\"checkbox\" checked><label for=\"sk-estimator-id-2\" class=\"sk-toggleable__label sk-toggleable__label-arrow\">DecisionTreeClassifier</label><div class=\"sk-toggleable__content\"><pre>DecisionTreeClassifier()</pre></div></div></div></div></div>"
      ],
      "text/plain": [
       "DecisionTreeClassifier()"
      ]
     },
     "execution_count": 20,
     "metadata": {},
     "output_type": "execute_result"
    }
   ],
   "source": [
    "DT.fit(x_train,y_train)"
   ]
  },
  {
   "cell_type": "code",
   "execution_count": 21,
   "id": "7fa6aff7",
   "metadata": {},
   "outputs": [],
   "source": [
    "y_pred = DT.predict(x_test)"
   ]
  },
  {
   "cell_type": "markdown",
   "id": "a5202265",
   "metadata": {},
   "source": [
    "# Evaluation metrics for oversampled data."
   ]
  },
  {
   "cell_type": "code",
   "execution_count": 22,
   "id": "fa4bd763",
   "metadata": {},
   "outputs": [
    {
     "name": "stdout",
     "output_type": "stream",
     "text": [
      "Accuracy for Decision Tree on OverSampled dataset is  0.8817316523336395\n",
      "Balanced Accuracy for Decision Tree on OverSampled dataset is  0.8709395282277617\n",
      "Recall/Sensitivity for Decision Tree on OverSampled dataset is  0.8385279759669546\n",
      "f1_score for Decision Tree on OverSampled dataset is  0.8254574579508348\n"
     ]
    },
    {
     "data": {
      "image/png": "[encoded data removed]",
      "text/plain": [
       "<Figure size 432x288 with 1 Axes>"
      ]
     },
     "metadata": {
      "needs_background": "light"
     },
     "output_type": "display_data"
    },
    {
     "data": {
      "image/png": "[encoded data removed]",
      "text/plain": [
       "<Figure size 432x288 with 1 Axes>"
      ]
     },
     "metadata": {
      "needs_background": "light"
     },
     "output_type": "display_data"
    }
   ],
   "source": [
    "Test_accuracy_over = accuracy_score(y_test,y_pred)\n",
    "print(\"Accuracy for Decision Tree on OverSampled dataset is \",Test_accuracy_over)\n",
    "\n",
    "# Balanced Accuracy \n",
    "Balanced_Accuracy_over = balanced_accuracy_score(y_test, y_pred)\n",
    "print(\"Balanced Accuracy for Decision Tree on OverSampled dataset is \",Balanced_Accuracy_over)\n",
    "\n",
    "#Recall/Sensitivity\n",
    "Recall_over = recall_score(y_test,y_pred,pos_label = 1)\n",
    "print(\"Recall/Sensitivity for Decision Tree on OverSampled dataset is \",Recall_over)\n",
    "\n",
    "# F1 score\n",
    "f1score_over = f1_score(y_test,y_pred,pos_label = 1)\n",
    "print(\"f1_score for Decision Tree on OverSampled dataset is \",f1score_over)\n",
    "\n",
    "#ROC CURVE for OverSampled data\n",
    "fpr_over, tpr_over, thresholds_over = roc_curve(y_test,y_pred,pos_label = 2)\n",
    "#ploting roc curve\n",
    "fig, ax = plt.subplots()\n",
    "ax.plot(fpr_over, tpr_over, color='purple')\n",
    "\n",
    "ax.set_title('ROC Curve for OverSampled Data')\n",
    "ax.set_ylabel('TruePositiveRate')\n",
    "ax.set_xlabel('FalsePositiveRate')\n",
    "plt.show()\n",
    "#print(\"ROC score for Decision Tree on OverSampled dataset is \",ROC)\n",
    "\n",
    "#Precision-Recall Curve for OverSampled data\n",
    "precision_over, recall_over, thresholds_over = precision_recall_curve(y_test,y_pred,pos_label = 2)\n",
    "#ploting roc curve\n",
    "fig, ax = plt.subplots()\n",
    "ax.plot(recall_over, precision_over, color='purple')\n",
    "\n",
    "ax.set_title('Precision-Recall Curve for OverSampled Data')\n",
    "ax.set_ylabel('Precision')\n",
    "ax.set_xlabel('Recall')\n",
    "plt.show()\n",
    "#print(\"Precision-Recall Curve score for Decision Tree on Unbalanced dataset is \",PRC)"
   ]
  },
  {
   "cell_type": "code",
   "execution_count": null,
   "id": "c8a19d2c",
   "metadata": {},
   "outputs": [],
   "source": [
    "#Cleaning the dataset with TomekLinks"
   ]
  },
  {
   "cell_type": "code",
   "execution_count": 18,
   "id": "f8064e1a",
   "metadata": {},
   "outputs": [
    {
     "ename": "NameError",
     "evalue": "name 'X_over' is not defined",
     "output_type": "error",
     "traceback": [
      "\u001b[1;31m---------------------------------------------------------------------------\u001b[0m",
      "\u001b[1;31mNameError\u001b[0m                                 Traceback (most recent call last)",
      "\u001b[1;32m<ipython-input-18-fdcd687515ba>\u001b[0m in \u001b[0;36m<module>\u001b[1;34m\u001b[0m\n\u001b[0;32m      1\u001b[0m \u001b[1;32mfrom\u001b[0m \u001b[0mimblearn\u001b[0m\u001b[1;33m.\u001b[0m\u001b[0munder_sampling\u001b[0m \u001b[1;32mimport\u001b[0m \u001b[0mTomekLinks\u001b[0m\u001b[1;33m\u001b[0m\u001b[1;33m\u001b[0m\u001b[0m\n\u001b[0;32m      2\u001b[0m \u001b[0mtl\u001b[0m \u001b[1;33m=\u001b[0m \u001b[0mTomekLinks\u001b[0m\u001b[1;33m(\u001b[0m\u001b[0msampling_strategy\u001b[0m \u001b[1;33m=\u001b[0m \u001b[1;34m'not majority'\u001b[0m\u001b[1;33m)\u001b[0m\u001b[1;33m\u001b[0m\u001b[1;33m\u001b[0m\u001b[0m\n\u001b[1;32m----> 3\u001b[1;33m \u001b[0mX_over_clean\u001b[0m\u001b[1;33m,\u001b[0m\u001b[0mY_over_clean\u001b[0m \u001b[1;33m=\u001b[0m \u001b[0mtl\u001b[0m\u001b[1;33m.\u001b[0m\u001b[0mfit_resample\u001b[0m\u001b[1;33m(\u001b[0m\u001b[0mX_over\u001b[0m\u001b[1;33m,\u001b[0m\u001b[0mY_over\u001b[0m\u001b[1;33m)\u001b[0m\u001b[1;33m\u001b[0m\u001b[1;33m\u001b[0m\u001b[0m\n\u001b[0m",
      "\u001b[1;31mNameError\u001b[0m: name 'X_over' is not defined"
     ]
    }
   ],
   "source": [
    "from imblearn.under_sampling import TomekLinks\n",
    "tl = TomekLinks(sampling_strategy = 'not majority')\n",
    "X_over_clean,Y_over_clean = tl.fit_resample(X_over,Y_over)"
   ]
  },
  {
   "cell_type": "code",
   "execution_count": 27,
   "id": "38c44852",
   "metadata": {},
   "outputs": [
    {
     "name": "stdout",
     "output_type": "stream",
     "text": [
      "Counter({2: 39922, 1: 18361})\n"
     ]
    }
   ],
   "source": [
    "counter_clean = Counter(Y_over_clean)\n",
    "print(counter_clean)\n",
    "#Counter({2: 39922, 1: 19961}) --ordinal\n",
    "# Counter({2: 38322, 1: 19961})--majority\n",
    "#Counter({2: 39922, 1: 18361})--minority\n",
    "#Counter({2: 38322, 1: 18361}) --all"
   ]
  },
  {
   "cell_type": "code",
   "execution_count": 28,
   "id": "df86fb2e",
   "metadata": {},
   "outputs": [],
   "source": [
    "x_train,x_test,y_train,y_test = train_test_split(X_over_clean,Y_over_clean,test_size = 0.4,random_state = 0)"
   ]
  },
  {
   "cell_type": "code",
   "execution_count": 29,
   "id": "dcaefe67",
   "metadata": {},
   "outputs": [],
   "source": [
    "DT = tree.DecisionTreeClassifier()"
   ]
  },
  {
   "cell_type": "code",
   "execution_count": 30,
   "id": "0300d24e",
   "metadata": {},
   "outputs": [
    {
     "data": {
      "text/html": [
       "<style>#sk-container-id-3 {color: black;background-color: white;}#sk-container-id-3 pre{padding: 0;}#sk-container-id-3 div.sk-toggleable {background-color: white;}#sk-container-id-3 label.sk-toggleable__label {cursor: pointer;display: block;width: 100%;margin-bottom: 0;padding: 0.3em;box-sizing: border-box;text-align: center;}#sk-container-id-3 label.sk-toggleable__label-arrow:before {content: \"▸\";float: left;margin-right: 0.25em;color: #696969;}#sk-container-id-3 label.sk-toggleable__label-arrow:hover:before {color: black;}#sk-container-id-3 div.sk-estimator:hover label.sk-toggleable__label-arrow:before {color: black;}#sk-container-id-3 div.sk-toggleable__content {max-height: 0;max-width: 0;overflow: hidden;text-align: left;background-color: #f0f8ff;}#sk-container-id-3 div.sk-toggleable__content pre {margin: 0.2em;color: black;border-radius: 0.25em;background-color: #f0f8ff;}#sk-container-id-3 input.sk-toggleable__control:checked~div.sk-toggleable__content {max-height: 200px;max-width: 100%;overflow: auto;}#sk-container-id-3 input.sk-toggleable__control:checked~label.sk-toggleable__label-arrow:before {content: \"▾\";}#sk-container-id-3 div.sk-estimator input.sk-toggleable__control:checked~label.sk-toggleable__label {background-color: #d4ebff;}#sk-container-id-3 div.sk-label input.sk-toggleable__control:checked~label.sk-toggleable__label {background-color: #d4ebff;}#sk-container-id-3 input.sk-hidden--visually {border: 0;clip: rect(1px 1px 1px 1px);clip: rect(1px, 1px, 1px, 1px);height: 1px;margin: -1px;overflow: hidden;padding: 0;position: absolute;width: 1px;}#sk-container-id-3 div.sk-estimator {font-family: monospace;background-color: #f0f8ff;border: 1px dotted black;border-radius: 0.25em;box-sizing: border-box;margin-bottom: 0.5em;}#sk-container-id-3 div.sk-estimator:hover {background-color: #d4ebff;}#sk-container-id-3 div.sk-parallel-item::after {content: \"\";width: 100%;border-bottom: 1px solid gray;flex-grow: 1;}#sk-container-id-3 div.sk-label:hover label.sk-toggleable__label {background-color: #d4ebff;}#sk-container-id-3 div.sk-serial::before {content: \"\";position: absolute;border-left: 1px solid gray;box-sizing: border-box;top: 0;bottom: 0;left: 50%;z-index: 0;}#sk-container-id-3 div.sk-serial {display: flex;flex-direction: column;align-items: center;background-color: white;padding-right: 0.2em;padding-left: 0.2em;position: relative;}#sk-container-id-3 div.sk-item {position: relative;z-index: 1;}#sk-container-id-3 div.sk-parallel {display: flex;align-items: stretch;justify-content: center;background-color: white;position: relative;}#sk-container-id-3 div.sk-item::before, #sk-container-id-3 div.sk-parallel-item::before {content: \"\";position: absolute;border-left: 1px solid gray;box-sizing: border-box;top: 0;bottom: 0;left: 50%;z-index: -1;}#sk-container-id-3 div.sk-parallel-item {display: flex;flex-direction: column;z-index: 1;position: relative;background-color: white;}#sk-container-id-3 div.sk-parallel-item:first-child::after {align-self: flex-end;width: 50%;}#sk-container-id-3 div.sk-parallel-item:last-child::after {align-self: flex-start;width: 50%;}#sk-container-id-3 div.sk-parallel-item:only-child::after {width: 0;}#sk-container-id-3 div.sk-dashed-wrapped {border: 1px dashed gray;margin: 0 0.4em 0.5em 0.4em;box-sizing: border-box;padding-bottom: 0.4em;background-color: white;}#sk-container-id-3 div.sk-label label {font-family: monospace;font-weight: bold;display: inline-block;line-height: 1.2em;}#sk-container-id-3 div.sk-label-container {text-align: center;}#sk-container-id-3 div.sk-container {/* jupyter's `normalize.less` sets `[hidden] { display: none; }` but bootstrap.min.css set `[hidden] { display: none !important; }` so we also need the `!important` here to be able to override the default hidden behavior on the sphinx rendered scikit-learn.org. See: https://github.com/scikit-learn/scikit-learn/issues/21755 */display: inline-block !important;position: relative;}#sk-container-id-3 div.sk-text-repr-fallback {display: none;}</style><div id=\"sk-container-id-3\" class=\"sk-top-container\"><div class=\"sk-text-repr-fallback\"><pre>DecisionTreeClassifier()</pre><b>In a Jupyter environment, please rerun this cell to show the HTML representation or trust the notebook. <br />On GitHub, the HTML representation is unable to render, please try loading this page with nbviewer.org.</b></div><div class=\"sk-container\" hidden><div class=\"sk-item\"><div class=\"sk-estimator sk-toggleable\"><input class=\"sk-toggleable__control sk-hidden--visually\" id=\"sk-estimator-id-3\" type=\"checkbox\" checked><label for=\"sk-estimator-id-3\" class=\"sk-toggleable__label sk-toggleable__label-arrow\">DecisionTreeClassifier</label><div class=\"sk-toggleable__content\"><pre>DecisionTreeClassifier()</pre></div></div></div></div></div>"
      ],
      "text/plain": [
       "DecisionTreeClassifier()"
      ]
     },
     "execution_count": 30,
     "metadata": {},
     "output_type": "execute_result"
    }
   ],
   "source": [
    "DT.fit(x_train,y_train)"
   ]
  },
  {
   "cell_type": "code",
   "execution_count": 31,
   "id": "fe9055f6",
   "metadata": {},
   "outputs": [],
   "source": [
    "y_pred = DT.predict(x_test)"
   ]
  },
  {
   "cell_type": "markdown",
   "id": "33a6ea75",
   "metadata": {},
   "source": [
    "# Evaluation metrics for oversampled and cleaned data."
   ]
  },
  {
   "cell_type": "code",
   "execution_count": 32,
   "id": "fd6b59c0",
   "metadata": {},
   "outputs": [
    {
     "name": "stdout",
     "output_type": "stream",
     "text": [
      "Accuracy for Decision Tree on OverSampled and Cleaned dataset is  0.8856910011152097\n",
      "Balanced Accuracy for Decision Tree on OverSampled and Cleaned  dataset is  0.8723737926667443\n",
      "Recall/Sensitivity for Decision Tree on OverSampled and Cleaned dataset is  0.8366621067031463\n",
      "f1_score for Decision Tree on OverSampled and Cleaned dataset is  0.8211049204537826\n"
     ]
    },
    {
     "data": {
      "image/png": "[encoded data removed]",
      "text/plain": [
       "<Figure size 432x288 with 1 Axes>"
      ]
     },
     "metadata": {
      "needs_background": "light"
     },
     "output_type": "display_data"
    },
    {
     "data": {
      "image/png": "[encoded data removed]",
      "text/plain": [
       "<Figure size 432x288 with 1 Axes>"
      ]
     },
     "metadata": {
      "needs_background": "light"
     },
     "output_type": "display_data"
    }
   ],
   "source": [
    "Test_accuracy_over_clean = accuracy_score(y_test,y_pred)\n",
    "print(\"Accuracy for Decision Tree on OverSampled and Cleaned dataset is \",Test_accuracy_over_clean)\n",
    "\n",
    "# Balanced Accuracy \n",
    "Balanced_Accuracy_over_clean = balanced_accuracy_score(y_test, y_pred)\n",
    "print(\"Balanced Accuracy for Decision Tree on OverSampled and Cleaned  dataset is \",Balanced_Accuracy_over_clean)\n",
    "\n",
    "#Recall/Sensitivity\n",
    "Recall_over_clean = recall_score(y_test,y_pred,pos_label = 1)\n",
    "print(\"Recall/Sensitivity for Decision Tree on OverSampled and Cleaned dataset is \",Recall_over_clean)\n",
    "\n",
    "# F1 score\n",
    "f1score_over_clean = f1_score(y_test,y_pred,pos_label = 1)\n",
    "print(\"f1_score for Decision Tree on OverSampled and Cleaned dataset is \",f1score_over_clean)\n",
    "\n",
    "#ROC CURVE for OverSampled data\n",
    "fpr_over_clean, tpr_over_clean, thresholds_over_clean = roc_curve(y_test,y_pred,pos_label = 2)\n",
    "#ploting roc curve\n",
    "fig, ax = plt.subplots()\n",
    "ax.plot(fpr_over_clean, tpr_over_clean, color='purple')\n",
    "\n",
    "ax.set_title('ROC Curve for OverSampled and Cleaned Data')\n",
    "ax.set_ylabel('TruePositiveRate')\n",
    "ax.set_xlabel('FalsePositiveRate')\n",
    "plt.show()\n",
    "#print(\"ROC score for Decision Tree on OverSampled dataset is \",ROC)\n",
    "\n",
    "#Precision-Recall Curve for OverSampled data\n",
    "precision_over_clean, recall_over_clean, thresholds_over = precision_recall_curve(y_test,y_pred,pos_label = 2)\n",
    "#ploting roc curve\n",
    "fig, ax = plt.subplots()\n",
    "ax.plot(recall_over_clean, precision_over_clean, color='purple')\n",
    "\n",
    "ax.set_title('Precision-Recall Curve for OverSampled and Cleaned Data')\n",
    "ax.set_ylabel('Precision')\n",
    "ax.set_xlabel('Recall')\n",
    "plt.show()\n",
    "#print(\"Precision-Recall Curve score for Decision Tree on Unbalanced dataset is \",PRC)"
   ]
  },
  {
   "cell_type": "markdown",
   "id": "ad2712ee",
   "metadata": {},
   "source": [
    "# Undersampling Majority class using Random undersampling and cleaning with tomeklikns"
   ]
  },
  {
   "cell_type": "code",
   "execution_count": 19,
   "id": "e4dca38a",
   "metadata": {},
   "outputs": [],
   "source": [
    "#Undersampling Majority class\n",
    "from imblearn.under_sampling import TomekLinks"
   ]
  },
  {
   "cell_type": "code",
   "execution_count": 20,
   "id": "63eed45e",
   "metadata": {},
   "outputs": [],
   "source": [
    "from imblearn.under_sampling import RandomUnderSampler"
   ]
  },
  {
   "cell_type": "code",
   "execution_count": 35,
   "id": "0adc2262",
   "metadata": {},
   "outputs": [],
   "source": [
    "randomUnderSample = RandomUnderSampler(sampling_strategy = 0.41 ,random_state = 0)"
   ]
  },
  {
   "cell_type": "code",
   "execution_count": 36,
   "id": "ca01b25d",
   "metadata": {},
   "outputs": [
    {
     "name": "stdout",
     "output_type": "stream",
     "text": [
      "Resampled dataset shape Counter({2: 12900, 1: 5289})\n"
     ]
    }
   ],
   "source": [
    "X_under,Y_under = randomUnderSample.fit_resample(X,Y)\n",
    "print('Resampled dataset shape %s' % Counter(Y_under))\n",
    "#Resampled dataset shape Counter({2: 12900, 1: 5289})"
   ]
  },
  {
   "cell_type": "code",
   "execution_count": 37,
   "id": "0eca2227",
   "metadata": {},
   "outputs": [],
   "source": [
    "x_train,x_test,y_train,y_test = train_test_split(X_under,Y_under,test_size = 0.4,random_state = 0)\n",
    "DT_under_clean = tree.DecisionTreeClassifier()\n",
    "DT_under_clean.fit(x_train,y_train)\n",
    "y_pred = DT_under_clean.predict(x_test)"
   ]
  },
  {
   "cell_type": "markdown",
   "id": "a9d4a460",
   "metadata": {},
   "source": [
    "# Evaluation metrics for undersampled data"
   ]
  },
  {
   "cell_type": "code",
   "execution_count": 38,
   "id": "6f5fe495",
   "metadata": {},
   "outputs": [
    {
     "name": "stdout",
     "output_type": "stream",
     "text": [
      "Evaluation metrics for undersampled data\n",
      "Accuracy for Decision Tree on underSampled and Cleaned dataset is  0.8346619021440352\n",
      "Balanced Accuracy for Decision Tree on underSampled and Cleaned  dataset is  0.7932579878683786\n",
      "Recall/Sensitivity for Decision Tree on underSampled and Cleaned dataset is  0.6985832926233513\n",
      "f1_score for Decision Tree on underSampled and Cleaned dataset is  0.7039133645089835\n"
     ]
    },
    {
     "data": {
      "image/png": "[encoded data removed]",
      "text/plain": [
       "<Figure size 432x288 with 1 Axes>"
      ]
     },
     "metadata": {
      "needs_background": "light"
     },
     "output_type": "display_data"
    },
    {
     "data": {
      "image/png": "[encoded data removed]",
      "text/plain": [
       "<Figure size 432x288 with 1 Axes>"
      ]
     },
     "metadata": {
      "needs_background": "light"
     },
     "output_type": "display_data"
    }
   ],
   "source": [
    "print(\"Evaluation metrics for undersampled data\")\n",
    "Test_accuracy_under_clean = accuracy_score(y_test,y_pred)\n",
    "print(\"Accuracy for Decision Tree on underSampled and Cleaned dataset is \",Test_accuracy_under_clean)\n",
    "\n",
    "# Balanced Accuracy \n",
    "Balanced_Accuracy_under_clean = balanced_accuracy_score(y_test, y_pred)\n",
    "print(\"Balanced Accuracy for Decision Tree on underSampled and Cleaned  dataset is \",Balanced_Accuracy_under_clean)\n",
    "\n",
    "#Recall/Sensitivity\n",
    "Recall_under_clean = recall_score(y_test,y_pred,pos_label = 1)\n",
    "print(\"Recall/Sensitivity for Decision Tree on underSampled and Cleaned dataset is \",Recall_under_clean)\n",
    "\n",
    "# F1 score\n",
    "f1score_under_clean = f1_score(y_test,y_pred,pos_label = 1)\n",
    "print(\"f1_score for Decision Tree on underSampled and Cleaned dataset is \",f1score_under_clean)\n",
    "\n",
    "#ROC CURVE for OverSampled data\n",
    "fpr_under_clean, tpr_under_clean, thresholds_under_clean = roc_curve(y_test,y_pred,pos_label = 1)\n",
    "#ploting roc curve\n",
    "fig, ax = plt.subplots()\n",
    "ax.plot(fpr_under_clean, tpr_under_clean, color='purple')\n",
    "\n",
    "ax.set_title('ROC Curve for underSampled and Cleaned Data')\n",
    "ax.set_ylabel('TruePositiveRate')\n",
    "ax.set_xlabel('FalsePositiveRate')\n",
    "plt.show()\n",
    "#print(\"ROC score for Decision Tree on OverSampled dataset is \",ROC)\n",
    "\n",
    "#Precision-Recall Curve for OverSampled data\n",
    "precision_under_clean, recall_under_clean, thresholds_under_clean = precision_recall_curve(y_test,y_pred,pos_label = 1)\n",
    "#ploting roc curve\n",
    "fig, ax = plt.subplots()\n",
    "ax.plot(recall_under_clean, precision_under_clean, color='purple')\n",
    "\n",
    "ax.set_title('Precision-Recall Curve for underSampled and Cleaned Data')\n",
    "ax.set_ylabel('Precision')\n",
    "ax.set_xlabel('Recall')\n",
    "plt.show()\n",
    "#print(\"Precision-Recall Curve score for Decision Tree on Unbalanced dataset is \",PRC)"
   ]
  },
  {
   "cell_type": "code",
   "execution_count": 39,
   "id": "af4c1494",
   "metadata": {},
   "outputs": [
    {
     "name": "stdout",
     "output_type": "stream",
     "text": [
      "Resampled dataset shape Counter({2: 11530, 1: 5289})\n"
     ]
    }
   ],
   "source": [
    "clean = TomekLinks(sampling_strategy='majority')\n",
    "X_under_clean,Y_under_clean = clean.fit_resample(X_under,Y_under)\n",
    "print('Resampled dataset shape %s' % Counter(Y_under_clean))\n",
    "#Resampled dataset shape Counter({2: 11530, 1: 5289})"
   ]
  },
  {
   "cell_type": "code",
   "execution_count": 40,
   "id": "bafc310f",
   "metadata": {},
   "outputs": [],
   "source": [
    "x_train,x_test,y_train,y_test = train_test_split(X_under_clean,Y_under_clean,test_size = 0.4,random_state = 0)\n",
    "DT_under_clean = tree.DecisionTreeClassifier()\n",
    "DT_under_clean.fit(x_train,y_train)\n",
    "y_pred = DT_under_clean.predict(x_test)"
   ]
  },
  {
   "cell_type": "markdown",
   "id": "d49401b3",
   "metadata": {},
   "source": [
    "# Evaluation metrics for undersampled majority class and cleaned data."
   ]
  },
  {
   "cell_type": "code",
   "execution_count": 41,
   "id": "50c08569",
   "metadata": {},
   "outputs": [
    {
     "name": "stdout",
     "output_type": "stream",
     "text": [
      "Accuracy for Decision Tree on underSampled and Cleaned dataset is  0.852705112960761\n",
      "Balanced Accuracy for Decision Tree on underSampled and Cleaned  dataset is  0.8286696169822945\n",
      "Recall/Sensitivity for Decision Tree on underSampled and Cleaned dataset is  0.7660395561987458\n",
      "f1_score for Decision Tree on underSampled and Cleaned dataset is  0.7621790256779457\n"
     ]
    },
    {
     "data": {
      "image/png": "[encoded data removed]",
      "text/plain": [
       "<Figure size 432x288 with 1 Axes>"
      ]
     },
     "metadata": {
      "needs_background": "light"
     },
     "output_type": "display_data"
    },
    {
     "data": {
      "image/png": "[encoded data removed]",
      "text/plain": [
       "<Figure size 432x288 with 1 Axes>"
      ]
     },
     "metadata": {
      "needs_background": "light"
     },
     "output_type": "display_data"
    }
   ],
   "source": [
    "Test_accuracy_under_clean = accuracy_score(y_test,y_pred)\n",
    "print(\"Accuracy for Decision Tree on underSampled and Cleaned dataset is \",Test_accuracy_under_clean)\n",
    "\n",
    "# Balanced Accuracy \n",
    "Balanced_Accuracy_under_clean = balanced_accuracy_score(y_test, y_pred)\n",
    "print(\"Balanced Accuracy for Decision Tree on underSampled and Cleaned  dataset is \",Balanced_Accuracy_under_clean)\n",
    "\n",
    "#Recall/Sensitivity\n",
    "Recall_under_clean = recall_score(y_test,y_pred,pos_label = 1)\n",
    "print(\"Recall/Sensitivity for Decision Tree on underSampled and Cleaned dataset is \",Recall_under_clean)\n",
    "\n",
    "# F1 score\n",
    "f1score_under_clean = f1_score(y_test,y_pred,pos_label = 1)\n",
    "print(\"f1_score for Decision Tree on underSampled and Cleaned dataset is \",f1score_under_clean)\n",
    "\n",
    "#ROC CURVE for OverSampled data\n",
    "fpr_under_clean, tpr_under_clean, thresholds_under_clean = roc_curve(y_test,y_pred,pos_label = 1)\n",
    "#ploting roc curve\n",
    "fig, ax = plt.subplots()\n",
    "ax.plot(fpr_under_clean, tpr_under_clean, color='purple')\n",
    "\n",
    "ax.set_title('ROC Curve for underSampled and Cleaned Data')\n",
    "ax.set_ylabel('TruePositiveRate')\n",
    "ax.set_xlabel('FalsePositiveRate')\n",
    "plt.show()\n",
    "#print(\"ROC score for Decision Tree on OverSampled dataset is \",ROC)\n",
    "\n",
    "#Precision-Recall Curve for OverSampled data\n",
    "precision_under_clean, recall_under_clean, thresholds_under_clean = precision_recall_curve(y_test,y_pred,pos_label = 1)\n",
    "#ploting roc curve\n",
    "fig, ax = plt.subplots()\n",
    "ax.plot(recall_under_clean, precision_under_clean, color='purple')\n",
    "\n",
    "ax.set_title('Precision-Recall Curve for underSampled and Cleaned Data')\n",
    "ax.set_ylabel('Precision')\n",
    "ax.set_xlabel('Recall')\n",
    "plt.show()\n",
    "#print(\"Precision-Recall Curve score for Decision Tree on Unbalanced dataset is \",PRC)"
   ]
  },
  {
   "cell_type": "markdown",
   "id": "e24cfda0",
   "metadata": {},
   "source": [
    "# Overall balancing"
   ]
  },
  {
   "cell_type": "code",
   "execution_count": 26,
   "id": "13456e44",
   "metadata": {},
   "outputs": [],
   "source": [
    "smt1 = SMOTE(sampling_strategy = 0.5,random_state = 0)\n",
    "X1 = data.drop('y',axis=1)\n"
   ]
  },
  {
   "cell_type": "code",
   "execution_count": 27,
   "id": "ec23f992",
   "metadata": {},
   "outputs": [],
   "source": [
    "X1 = X1.values"
   ]
  },
  {
   "cell_type": "code",
   "execution_count": 28,
   "id": "2bc59b0e",
   "metadata": {},
   "outputs": [
    {
     "name": "stdout",
     "output_type": "stream",
     "text": [
      "Counter({2: 39922, 1: 19961})\n"
     ]
    }
   ],
   "source": [
    "Y1 = data['y']\n",
    "X1_over,Y1_over = smt1.fit_resample(X1,Y1)\n",
    "counter = Counter(Y1_over)\n",
    "print(counter)"
   ]
  },
  {
   "cell_type": "code",
   "execution_count": 29,
   "id": "78d95194",
   "metadata": {},
   "outputs": [
    {
     "name": "stdout",
     "output_type": "stream",
     "text": [
      "Resampled dataset shape Counter({1: 19961, 2: 19961})\n"
     ]
    }
   ],
   "source": [
    "randomUnderSample1 = RandomUnderSampler(sampling_strategy = 1 ,random_state = 0)\n",
    "X1_under,Y1_under = randomUnderSample1.fit_resample(X1_over,Y1_over)\n",
    "print('Resampled dataset shape %s' % Counter(Y1_under))"
   ]
  },
  {
   "cell_type": "code",
   "execution_count": 30,
   "id": "25ec4e33",
   "metadata": {},
   "outputs": [],
   "source": [
    "x_train,x_test,y_train,y_test = train_test_split(X1_under,Y1_under,test_size = 0.4,random_state = 0)\n",
    "DT_under_clean = tree.DecisionTreeClassifier()\n",
    "DT_under_clean.fit(x_train,y_train)\n",
    "y_pred = DT_under_clean.predict(x_test)"
   ]
  },
  {
   "cell_type": "code",
   "execution_count": 31,
   "id": "aacde62f",
   "metadata": {},
   "outputs": [
    {
     "name": "stdout",
     "output_type": "stream",
     "text": [
      "Accuracy for Decision Tree on underSampled and Cleaned dataset is  0.8747573423508047\n",
      "Balanced Accuracy for Decision Tree on underSampled and Cleaned  dataset is  0.874757361306978\n",
      "Recall/Sensitivity for Decision Tree on underSampled and Cleaned dataset is  0.8747340758353147\n",
      "f1_score for Decision Tree on underSampled and Cleaned dataset is  0.8748435544430537\n"
     ]
    },
    {
     "data": {
      "image/png": "[encoded data removed]",
      "text/plain": [
       "<Figure size 432x288 with 1 Axes>"
      ]
     },
     "metadata": {
      "needs_background": "light"
     },
     "output_type": "display_data"
    },
    {
     "data": {
      "image/png": "[encoded data removed]",
      "text/plain": [
       "<Figure size 432x288 with 1 Axes>"
      ]
     },
     "metadata": {
      "needs_background": "light"
     },
     "output_type": "display_data"
    }
   ],
   "source": [
    "Test_accuracy_under_clean = accuracy_score(y_test,y_pred)\n",
    "print(\"Accuracy for Decision Tree on underSampled and Cleaned dataset is \",Test_accuracy_under_clean)\n",
    "\n",
    "# Balanced Accuracy \n",
    "Balanced_Accuracy_under_clean = balanced_accuracy_score(y_test, y_pred)\n",
    "print(\"Balanced Accuracy for Decision Tree on underSampled and Cleaned  dataset is \",Balanced_Accuracy_under_clean)\n",
    "\n",
    "#Recall/Sensitivity\n",
    "Recall_under_clean = recall_score(y_test,y_pred,pos_label = 1)\n",
    "print(\"Recall/Sensitivity for Decision Tree on underSampled and Cleaned dataset is \",Recall_under_clean)\n",
    "\n",
    "# F1 score\n",
    "f1score_under_clean = f1_score(y_test,y_pred,pos_label = 1)\n",
    "print(\"f1_score for Decision Tree on underSampled and Cleaned dataset is \",f1score_under_clean)\n",
    "\n",
    "#ROC CURVE for OverSampled data\n",
    "fpr_under_clean, tpr_under_clean, thresholds_under_clean = roc_curve(y_test,y_pred,pos_label = 1)\n",
    "#ploting roc curve\n",
    "fig, ax = plt.subplots()\n",
    "ax.plot(fpr_under_clean, tpr_under_clean, color='purple')\n",
    "\n",
    "ax.set_title('ROC Curve for underSampled and Cleaned Data')\n",
    "ax.set_ylabel('TruePositiveRate')\n",
    "ax.set_xlabel('FalsePositiveRate')\n",
    "plt.show()\n",
    "#print(\"ROC score for Decision Tree on OverSampled dataset is \",ROC)\n",
    "\n",
    "#Precision-Recall Curve for OverSampled data\n",
    "precision_under_clean, recall_under_clean, thresholds_under_clean = precision_recall_curve(y_test,y_pred,pos_label = 1)\n",
    "#ploting roc curve\n",
    "fig, ax = plt.subplots()\n",
    "ax.plot(recall_under_clean, precision_under_clean, color='purple')\n",
    "\n",
    "ax.set_title('Precision-Recall Curve for underSampled and Cleaned Data')\n",
    "ax.set_ylabel('Precision')\n",
    "ax.set_xlabel('Recall')\n",
    "plt.show()\n",
    "#print(\"Precision-Recall Curve score for Decision Tree on Unbalanced dataset is \",PRC)"
   ]
  },
  {
   "cell_type": "code",
   "execution_count": 32,
   "id": "b078b039",
   "metadata": {},
   "outputs": [
    {
     "name": "stdout",
     "output_type": "stream",
     "text": [
      "Resampled dataset shape Counter({1: 19831, 2: 19831})\n"
     ]
    }
   ],
   "source": [
    "clean1 = TomekLinks(sampling_strategy='all')\n",
    "X_clean,Y_clean = clean1.fit_resample(X1_under,Y1_under)\n",
    "print('Resampled dataset shape %s' % Counter(Y_clean))"
   ]
  },
  {
   "cell_type": "code",
   "execution_count": 33,
   "id": "a7102335",
   "metadata": {},
   "outputs": [],
   "source": [
    "x_train,x_test,y_train,y_test = train_test_split(X_clean,Y_clean,test_size = 0.4,random_state = 0)\n",
    "DT_complete_clean = tree.DecisionTreeClassifier()\n",
    "DT_complete_clean.fit(x_train,y_train)\n",
    "y_pred = DT_complete_clean.predict(x_test)"
   ]
  },
  {
   "cell_type": "code",
   "execution_count": 34,
   "id": "79eebe40",
   "metadata": {},
   "outputs": [
    {
     "name": "stdout",
     "output_type": "stream",
     "text": [
      "Accuracy for Decision Tree on underSampled and Cleaned dataset is  0.8762685156003782\n",
      "Balanced Accuracy for Decision Tree on underSampled and Cleaned  dataset is  0.8762649200300501\n",
      "Recall/Sensitivity for Decision Tree on underSampled and Cleaned dataset is  0.8748736097067745\n",
      "f1_score for Decision Tree on underSampled and Cleaned dataset is  0.8758145125577276\n"
     ]
    },
    {
     "data": {
      "image/png": "[encoded data removed]",
      "text/plain": [
       "<Figure size 432x288 with 1 Axes>"
      ]
     },
     "metadata": {
      "needs_background": "light"
     },
     "output_type": "display_data"
    },
    {
     "data": {
      "image/png": "[encoded data removed]",
      "text/plain": [
       "<Figure size 432x288 with 1 Axes>"
      ]
     },
     "metadata": {
      "needs_background": "light"
     },
     "output_type": "display_data"
    }
   ],
   "source": [
    "Test_accuracy_under_clean = accuracy_score(y_test,y_pred)\n",
    "print(\"Accuracy for Decision Tree on underSampled and Cleaned dataset is \",Test_accuracy_under_clean)\n",
    "\n",
    "# Balanced Accuracy \n",
    "Balanced_Accuracy_under_clean = balanced_accuracy_score(y_test, y_pred)\n",
    "print(\"Balanced Accuracy for Decision Tree on underSampled and Cleaned  dataset is \",Balanced_Accuracy_under_clean)\n",
    "\n",
    "#Recall/Sensitivity\n",
    "Recall_under_clean = recall_score(y_test,y_pred,pos_label = 1)\n",
    "print(\"Recall/Sensitivity for Decision Tree on underSampled and Cleaned dataset is \",Recall_under_clean)\n",
    "\n",
    "# F1 score\n",
    "f1score_under_clean = f1_score(y_test,y_pred,pos_label = 1)\n",
    "print(\"f1_score for Decision Tree on underSampled and Cleaned dataset is \",f1score_under_clean)\n",
    "\n",
    "#ROC CURVE for OverSampled data\n",
    "fpr_under_clean, tpr_under_clean, thresholds_under_clean = roc_curve(y_test,y_pred,pos_label = 1)\n",
    "#ploting roc curve\n",
    "fig, ax = plt.subplots()\n",
    "ax.plot(fpr_under_clean, tpr_under_clean, color='purple')\n",
    "\n",
    "ax.set_title('ROC Curve for underSampled and Cleaned Data')\n",
    "ax.set_ylabel('TruePositiveRate')\n",
    "ax.set_xlabel('FalsePositiveRate')\n",
    "plt.show()\n",
    "#print(\"ROC score for Decision Tree on OverSampled dataset is \",ROC)\n",
    "\n",
    "#Precision-Recall Curve for OverSampled data\n",
    "precision_under_clean, recall_under_clean, thresholds_under_clean = precision_recall_curve(y_test,y_pred,pos_label = 1)\n",
    "#ploting roc curve\n",
    "fig, ax = plt.subplots()\n",
    "ax.plot(recall_under_clean, precision_under_clean, color='purple')\n",
    "\n",
    "ax.set_title('Precision-Recall Curve for underSampled and Cleaned Data')\n",
    "ax.set_ylabel('Precision')\n",
    "ax.set_xlabel('Recall')\n",
    "plt.show()\n",
    "#print(\"Precision-Recall Curve score for Decision Tree on Unbalanced dataset is \",PRC)"
   ]
  },
  {
   "cell_type": "code",
   "execution_count": null,
   "id": "20182f8a",
   "metadata": {},
   "outputs": [],
   "source": [
    "#Serializing the model using sklearn pickel"
   ]
  },
  {
   "cell_type": "code",
   "execution_count": 35,
   "id": "0cfee4b0",
   "metadata": {},
   "outputs": [],
   "source": [
    "import pickle"
   ]
  },
  {
   "cell_type": "code",
   "execution_count": 36,
   "id": "675442c9",
   "metadata": {},
   "outputs": [],
   "source": [
    "pickle.dump(DT_complete_clean,open('completeDT.pkl','wb'))"
   ]
  },
  {
   "cell_type": "code",
   "execution_count": 37,
   "id": "30f036ca",
   "metadata": {},
   "outputs": [],
   "source": [
    "pickled_model = pickle.load(open('completeDT.pkl','rb'))"
   ]
  },
  {
   "cell_type": "code",
   "execution_count": 38,
   "id": "20010dbf",
   "metadata": {},
   "outputs": [
    {
     "name": "stdout",
     "output_type": "stream",
     "text": [
      "[2]\n"
     ]
    }
   ],
   "source": [
    "print(pickled_model.predict([[31,1,2,3,2,54,1,2,1,18,1,239,6,-1,0,0]]))"
   ]
  },
  {
   "cell_type": "code",
   "execution_count": 39,
   "id": "fcf73f32",
   "metadata": {},
   "outputs": [
    {
     "name": "stdout",
     "output_type": "stream",
     "text": [
      "<class 'pandas.core.frame.DataFrame'>\n",
      "RangeIndex: 45211 entries, 0 to 45210\n",
      "Data columns (total 17 columns):\n",
      " #   Column     Non-Null Count  Dtype  \n",
      "---  ------     --------------  -----  \n",
      " 0   age        45211 non-null  int64  \n",
      " 1   job        45211 non-null  int64  \n",
      " 2   marital    45211 non-null  int64  \n",
      " 3   education  45211 non-null  int64  \n",
      " 4   default    45211 non-null  int64  \n",
      " 5   balance    45211 non-null  float64\n",
      " 6   housing    45211 non-null  int64  \n",
      " 7   loan       45211 non-null  int64  \n",
      " 8   contact    45211 non-null  int64  \n",
      " 9   day        45211 non-null  int64  \n",
      " 10  month      45211 non-null  int64  \n",
      " 11  duration   45211 non-null  float64\n",
      " 12  campaign   45211 non-null  int64  \n",
      " 13  pdays      45211 non-null  int64  \n",
      " 14  previous   45211 non-null  int64  \n",
      " 15  poutcome   45211 non-null  int64  \n",
      " 16  y          45211 non-null  int64  \n",
      "dtypes: float64(2), int64(15)\n",
      "memory usage: 5.9 MB\n"
     ]
    }
   ],
   "source": [
    "data.info()"
   ]
  },
  {
   "cell_type": "code",
   "execution_count": null,
   "id": "684e021c",
   "metadata": {},
   "outputs": [],
   "source": [
    "#feature selection using GP.\n",
    "from sklearn.datasets import load_breast_cancer\n",
    "from genetic_selection import GeneticSelectionCV\n",
    "from sklearn.tree import DecisionTreeClassifier\n",
    "import pandas as pd\n",
    "import numpy as np\n",
    "data = load_breast_cancer()\n",
    "df = pd.DataFrame(data.data, columns=data.feature_names)\n",
    "df['target'] = data.target\n",
    "X = df.drop(['target'], axis=1)\n",
    "y = df['target'].astype(float)\n",
    "estimator = DecisionTreeClassifier()\n",
    "model = GeneticSelectionCV(\n",
    "    estimator, cv=5, verbose=0,\n",
    "    scoring=\"accuracy\", max_features=5,\n",
    "    n_population=100, crossover_proba=0.5,\n",
    "    mutation_proba=0.2, n_generations=50,\n",
    "    crossover_independent_proba=0.5,\n",
    "    mutation_independent_proba=0.04,\n",
    "    tournament_size=3, n_gen_no_change=10,\n",
    "    caching=True, n_jobs=-1)\n",
    "model = model.fit(X, y)\n",
    "print('Features:', X.columns[model.support_])"
   ]
  }
 ],
 "metadata": {
  "kernelspec": {
   "display_name": "Python 3",
   "language": "python",
   "name": "python3"
  },
  "language_info": {
   "codemirror_mode": {
    "name": "ipython",
    "version": 3
   },
   "file_extension": ".py",
   "mimetype": "text/x-python",
   "name": "python",
   "nbconvert_exporter": "python",
   "pygments_lexer": "ipython3",
   "version": "3.8.8"
  }
 },
 "nbformat": 4,
 "nbformat_minor": 5
}
