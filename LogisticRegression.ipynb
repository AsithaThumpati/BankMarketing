{
 "cells": [
  {
   "cell_type": "code",
   "execution_count": 1,
   "id": "2b1c139d",
   "metadata": {},
   "outputs": [],
   "source": [
    "#Logistic Regression"
   ]
  },
  {
   "cell_type": "code",
   "execution_count": 4,
   "id": "c92a6bb6",
   "metadata": {},
   "outputs": [],
   "source": [
    "import pandas as pd"
   ]
  },
  {
   "cell_type": "code",
   "execution_count": 5,
   "id": "d2ee93bb",
   "metadata": {},
   "outputs": [],
   "source": [
    "from sklearn import linear_model # Import linear regression Classifier\n",
    "from sklearn.model_selection import train_test_split # Import train_test_split function"
   ]
  },
  {
   "cell_type": "code",
   "execution_count": 6,
   "id": "78dcea7f",
   "metadata": {},
   "outputs": [],
   "source": [
    "LRdata = pd.read_csv(r\"C:\\Users\\thump\\OneDrive\\Desktop\\Final Project Literature Survey\\Data Preprocessing\\Preprocesseddata.csv\")"
   ]
  },
  {
   "cell_type": "code",
   "execution_count": 7,
   "id": "1a64ff38",
   "metadata": {},
   "outputs": [
    {
     "data": {
      "text/html": [
       "<div>\n",
       "<style scoped>\n",
       "    .dataframe tbody tr th:only-of-type {\n",
       "        vertical-align: middle;\n",
       "    }\n",
       "\n",
       "    .dataframe tbody tr th {\n",
       "        vertical-align: top;\n",
       "    }\n",
       "\n",
       "    .dataframe thead th {\n",
       "        text-align: right;\n",
       "    }\n",
       "</style>\n",
       "<table border=\"1\" class=\"dataframe\">\n",
       "  <thead>\n",
       "    <tr style=\"text-align: right;\">\n",
       "      <th></th>\n",
       "      <th>age</th>\n",
       "      <th>job</th>\n",
       "      <th>marital</th>\n",
       "      <th>education</th>\n",
       "      <th>default</th>\n",
       "      <th>balance</th>\n",
       "      <th>housing</th>\n",
       "      <th>loan</th>\n",
       "      <th>contact</th>\n",
       "      <th>day</th>\n",
       "      <th>month</th>\n",
       "      <th>duration</th>\n",
       "      <th>campaign</th>\n",
       "      <th>pdays</th>\n",
       "      <th>previous</th>\n",
       "      <th>poutcome</th>\n",
       "      <th>y</th>\n",
       "    </tr>\n",
       "  </thead>\n",
       "  <tbody>\n",
       "    <tr>\n",
       "      <th>0</th>\n",
       "      <td>58</td>\n",
       "      <td>2</td>\n",
       "      <td>2</td>\n",
       "      <td>1</td>\n",
       "      <td>2</td>\n",
       "      <td>0.256419</td>\n",
       "      <td>1</td>\n",
       "      <td>2</td>\n",
       "      <td>0</td>\n",
       "      <td>5</td>\n",
       "      <td>1</td>\n",
       "      <td>0.011016</td>\n",
       "      <td>1</td>\n",
       "      <td>-1</td>\n",
       "      <td>0</td>\n",
       "      <td>0</td>\n",
       "      <td>2</td>\n",
       "    </tr>\n",
       "    <tr>\n",
       "      <th>1</th>\n",
       "      <td>44</td>\n",
       "      <td>3</td>\n",
       "      <td>1</td>\n",
       "      <td>2</td>\n",
       "      <td>2</td>\n",
       "      <td>-0.437895</td>\n",
       "      <td>1</td>\n",
       "      <td>2</td>\n",
       "      <td>0</td>\n",
       "      <td>5</td>\n",
       "      <td>1</td>\n",
       "      <td>-0.416127</td>\n",
       "      <td>1</td>\n",
       "      <td>-1</td>\n",
       "      <td>0</td>\n",
       "      <td>0</td>\n",
       "      <td>2</td>\n",
       "    </tr>\n",
       "    <tr>\n",
       "      <th>2</th>\n",
       "      <td>33</td>\n",
       "      <td>8</td>\n",
       "      <td>2</td>\n",
       "      <td>2</td>\n",
       "      <td>2</td>\n",
       "      <td>-0.446762</td>\n",
       "      <td>1</td>\n",
       "      <td>1</td>\n",
       "      <td>0</td>\n",
       "      <td>5</td>\n",
       "      <td>1</td>\n",
       "      <td>-0.707361</td>\n",
       "      <td>1</td>\n",
       "      <td>-1</td>\n",
       "      <td>0</td>\n",
       "      <td>0</td>\n",
       "      <td>2</td>\n",
       "    </tr>\n",
       "    <tr>\n",
       "      <th>3</th>\n",
       "      <td>47</td>\n",
       "      <td>1</td>\n",
       "      <td>2</td>\n",
       "      <td>0</td>\n",
       "      <td>2</td>\n",
       "      <td>0.047205</td>\n",
       "      <td>1</td>\n",
       "      <td>2</td>\n",
       "      <td>0</td>\n",
       "      <td>5</td>\n",
       "      <td>1</td>\n",
       "      <td>-0.645231</td>\n",
       "      <td>1</td>\n",
       "      <td>-1</td>\n",
       "      <td>0</td>\n",
       "      <td>0</td>\n",
       "      <td>2</td>\n",
       "    </tr>\n",
       "    <tr>\n",
       "      <th>4</th>\n",
       "      <td>33</td>\n",
       "      <td>0</td>\n",
       "      <td>1</td>\n",
       "      <td>0</td>\n",
       "      <td>2</td>\n",
       "      <td>-0.447091</td>\n",
       "      <td>2</td>\n",
       "      <td>2</td>\n",
       "      <td>0</td>\n",
       "      <td>5</td>\n",
       "      <td>1</td>\n",
       "      <td>-0.233620</td>\n",
       "      <td>1</td>\n",
       "      <td>-1</td>\n",
       "      <td>0</td>\n",
       "      <td>0</td>\n",
       "      <td>2</td>\n",
       "    </tr>\n",
       "  </tbody>\n",
       "</table>\n",
       "</div>"
      ],
      "text/plain": [
       "   age  job  marital  education  default   balance  housing  loan  contact  \\\n",
       "0   58    2        2          1        2  0.256419        1     2        0   \n",
       "1   44    3        1          2        2 -0.437895        1     2        0   \n",
       "2   33    8        2          2        2 -0.446762        1     1        0   \n",
       "3   47    1        2          0        2  0.047205        1     2        0   \n",
       "4   33    0        1          0        2 -0.447091        2     2        0   \n",
       "\n",
       "   day  month  duration  campaign  pdays  previous  poutcome  y  \n",
       "0    5      1  0.011016         1     -1         0         0  2  \n",
       "1    5      1 -0.416127         1     -1         0         0  2  \n",
       "2    5      1 -0.707361         1     -1         0         0  2  \n",
       "3    5      1 -0.645231         1     -1         0         0  2  \n",
       "4    5      1 -0.233620         1     -1         0         0  2  "
      ]
     },
     "execution_count": 7,
     "metadata": {},
     "output_type": "execute_result"
    }
   ],
   "source": [
    "LRdata.head()"
   ]
  },
  {
   "cell_type": "code",
   "execution_count": 8,
   "id": "33f50f7f",
   "metadata": {},
   "outputs": [],
   "source": [
    "X = LRdata.drop('y',axis=1).values"
   ]
  },
  {
   "cell_type": "code",
   "execution_count": 9,
   "id": "4362c50f",
   "metadata": {},
   "outputs": [],
   "source": [
    "Y = LRdata.y"
   ]
  },
  {
   "cell_type": "code",
   "execution_count": 10,
   "id": "f73a9bcc",
   "metadata": {},
   "outputs": [],
   "source": [
    "x_train,x_test,y_train,y_test = train_test_split(X,Y,test_size = 0.4, random_state = 0)"
   ]
  },
  {
   "cell_type": "code",
   "execution_count": 11,
   "id": "bb248e4e",
   "metadata": {},
   "outputs": [],
   "source": [
    "LR = linear_model.LogisticRegression(max_iter=1000)"
   ]
  },
  {
   "cell_type": "code",
   "execution_count": 12,
   "id": "a3cc3404",
   "metadata": {},
   "outputs": [
    {
     "data": {
      "text/html": [
       "<style>#sk-container-id-1 {color: black;background-color: white;}#sk-container-id-1 pre{padding: 0;}#sk-container-id-1 div.sk-toggleable {background-color: white;}#sk-container-id-1 label.sk-toggleable__label {cursor: pointer;display: block;width: 100%;margin-bottom: 0;padding: 0.3em;box-sizing: border-box;text-align: center;}#sk-container-id-1 label.sk-toggleable__label-arrow:before {content: \"▸\";float: left;margin-right: 0.25em;color: #696969;}#sk-container-id-1 label.sk-toggleable__label-arrow:hover:before {color: black;}#sk-container-id-1 div.sk-estimator:hover label.sk-toggleable__label-arrow:before {color: black;}#sk-container-id-1 div.sk-toggleable__content {max-height: 0;max-width: 0;overflow: hidden;text-align: left;background-color: #f0f8ff;}#sk-container-id-1 div.sk-toggleable__content pre {margin: 0.2em;color: black;border-radius: 0.25em;background-color: #f0f8ff;}#sk-container-id-1 input.sk-toggleable__control:checked~div.sk-toggleable__content {max-height: 200px;max-width: 100%;overflow: auto;}#sk-container-id-1 input.sk-toggleable__control:checked~label.sk-toggleable__label-arrow:before {content: \"▾\";}#sk-container-id-1 div.sk-estimator input.sk-toggleable__control:checked~label.sk-toggleable__label {background-color: #d4ebff;}#sk-container-id-1 div.sk-label input.sk-toggleable__control:checked~label.sk-toggleable__label {background-color: #d4ebff;}#sk-container-id-1 input.sk-hidden--visually {border: 0;clip: rect(1px 1px 1px 1px);clip: rect(1px, 1px, 1px, 1px);height: 1px;margin: -1px;overflow: hidden;padding: 0;position: absolute;width: 1px;}#sk-container-id-1 div.sk-estimator {font-family: monospace;background-color: #f0f8ff;border: 1px dotted black;border-radius: 0.25em;box-sizing: border-box;margin-bottom: 0.5em;}#sk-container-id-1 div.sk-estimator:hover {background-color: #d4ebff;}#sk-container-id-1 div.sk-parallel-item::after {content: \"\";width: 100%;border-bottom: 1px solid gray;flex-grow: 1;}#sk-container-id-1 div.sk-label:hover label.sk-toggleable__label {background-color: #d4ebff;}#sk-container-id-1 div.sk-serial::before {content: \"\";position: absolute;border-left: 1px solid gray;box-sizing: border-box;top: 0;bottom: 0;left: 50%;z-index: 0;}#sk-container-id-1 div.sk-serial {display: flex;flex-direction: column;align-items: center;background-color: white;padding-right: 0.2em;padding-left: 0.2em;position: relative;}#sk-container-id-1 div.sk-item {position: relative;z-index: 1;}#sk-container-id-1 div.sk-parallel {display: flex;align-items: stretch;justify-content: center;background-color: white;position: relative;}#sk-container-id-1 div.sk-item::before, #sk-container-id-1 div.sk-parallel-item::before {content: \"\";position: absolute;border-left: 1px solid gray;box-sizing: border-box;top: 0;bottom: 0;left: 50%;z-index: -1;}#sk-container-id-1 div.sk-parallel-item {display: flex;flex-direction: column;z-index: 1;position: relative;background-color: white;}#sk-container-id-1 div.sk-parallel-item:first-child::after {align-self: flex-end;width: 50%;}#sk-container-id-1 div.sk-parallel-item:last-child::after {align-self: flex-start;width: 50%;}#sk-container-id-1 div.sk-parallel-item:only-child::after {width: 0;}#sk-container-id-1 div.sk-dashed-wrapped {border: 1px dashed gray;margin: 0 0.4em 0.5em 0.4em;box-sizing: border-box;padding-bottom: 0.4em;background-color: white;}#sk-container-id-1 div.sk-label label {font-family: monospace;font-weight: bold;display: inline-block;line-height: 1.2em;}#sk-container-id-1 div.sk-label-container {text-align: center;}#sk-container-id-1 div.sk-container {/* jupyter's `normalize.less` sets `[hidden] { display: none; }` but bootstrap.min.css set `[hidden] { display: none !important; }` so we also need the `!important` here to be able to override the default hidden behavior on the sphinx rendered scikit-learn.org. See: https://github.com/scikit-learn/scikit-learn/issues/21755 */display: inline-block !important;position: relative;}#sk-container-id-1 div.sk-text-repr-fallback {display: none;}</style><div id=\"sk-container-id-1\" class=\"sk-top-container\"><div class=\"sk-text-repr-fallback\"><pre>LogisticRegression(max_iter=1000)</pre><b>In a Jupyter environment, please rerun this cell to show the HTML representation or trust the notebook. <br />On GitHub, the HTML representation is unable to render, please try loading this page with nbviewer.org.</b></div><div class=\"sk-container\" hidden><div class=\"sk-item\"><div class=\"sk-estimator sk-toggleable\"><input class=\"sk-toggleable__control sk-hidden--visually\" id=\"sk-estimator-id-1\" type=\"checkbox\" checked><label for=\"sk-estimator-id-1\" class=\"sk-toggleable__label sk-toggleable__label-arrow\">LogisticRegression</label><div class=\"sk-toggleable__content\"><pre>LogisticRegression(max_iter=1000)</pre></div></div></div></div></div>"
      ],
      "text/plain": [
       "LogisticRegression(max_iter=1000)"
      ]
     },
     "execution_count": 12,
     "metadata": {},
     "output_type": "execute_result"
    }
   ],
   "source": [
    "LR.fit(x_train,y_train)"
   ]
  },
  {
   "cell_type": "code",
   "execution_count": 13,
   "id": "9789b14b",
   "metadata": {},
   "outputs": [],
   "source": [
    "y_pred = LR.predict(x_test)"
   ]
  },
  {
   "cell_type": "markdown",
   "id": "c9b69459",
   "metadata": {},
   "source": [
    "# Evaluation Metrics"
   ]
  },
  {
   "cell_type": "code",
   "execution_count": 14,
   "id": "6675c3ab",
   "metadata": {},
   "outputs": [],
   "source": [
    "from sklearn import metrics #Import scikit-learn metrics module for accuracy calculation\n",
    "from sklearn.metrics import accuracy_score\n",
    "from sklearn.metrics import balanced_accuracy_score\n",
    "from sklearn.metrics import recall_score\n",
    "from sklearn.metrics import f1_score\n",
    "from sklearn.metrics import roc_curve\n",
    "from sklearn.metrics import precision_recall_curve\n",
    "import matplotlib.pyplot as plt"
   ]
  },
  {
   "cell_type": "code",
   "execution_count": 15,
   "id": "6d74cd2b",
   "metadata": {},
   "outputs": [
    {
     "name": "stdout",
     "output_type": "stream",
     "text": [
      "Accuracy for Logistic Regression on Unbalanced dataset is  0.8948852640309649\n",
      "Balanced Accuracy for Logistic Regression on Unbalanced dataset is  0.6419147311312687\n",
      "Recall/Sensitivity for Logistic Regression on Unbalanced dataset is  0.31109022556390975\n",
      "f1_score for Logistic Regression on Unbalanced dataset is  0.4105426356589147\n"
     ]
    },
    {
     "data": {
      "image/png": "[encoded data removed]",
      "text/plain": [
       "<Figure size 432x288 with 1 Axes>"
      ]
     },
     "metadata": {
      "needs_background": "light"
     },
     "output_type": "display_data"
    },
    {
     "data": {
      "image/png": "[encoded data removed]",
      "text/plain": [
       "<Figure size 432x288 with 1 Axes>"
      ]
     },
     "metadata": {
      "needs_background": "light"
     },
     "output_type": "display_data"
    }
   ],
   "source": [
    "Test_accuracy = accuracy_score(y_test,y_pred)\n",
    "print(\"Accuracy for Logistic Regression on Unbalanced dataset is \",Test_accuracy)\n",
    "\n",
    "# Balanced Accuracy \n",
    "Balanced_Accuracy = balanced_accuracy_score(y_test, y_pred)\n",
    "print(\"Balanced Accuracy for Logistic Regression on Unbalanced dataset is \",Balanced_Accuracy)\n",
    "\n",
    "#Recall/Sensitivity\n",
    "Recall = recall_score(y_test,y_pred,pos_label = 1)\n",
    "print(\"Recall/Sensitivity for Logistic Regression on Unbalanced dataset is \",Recall)\n",
    "\n",
    "# F1 score\n",
    "f1score = f1_score(y_test,y_pred,pos_label = 1)\n",
    "print(\"f1_score for Logistic Regression on Unbalanced dataset is \",f1score)\n",
    "\n",
    "#ROC CURVE\n",
    "fpr, tpr, thresholds = roc_curve(y_test,y_pred,pos_label = 1)\n",
    "#ploting roc curve\n",
    "fig, ax = plt.subplots()\n",
    "ax.plot(fpr, tpr, color='purple')\n",
    "\n",
    "ax.set_title('ROC Curve')\n",
    "ax.set_ylabel('TruePositiveRate')\n",
    "ax.set_xlabel('FalsePositiveRate')\n",
    "plt.show()\n",
    "\n",
    "#Precision-Recall Curve\n",
    "precision, recall, thresholds = precision_recall_curve(y_test,y_pred,pos_label = 1)\n",
    "#ploting roc curve\n",
    "fig, ax = plt.subplots()\n",
    "ax.plot(recall, precision, color='purple')\n",
    "\n",
    "ax.set_title('Precision-Recall Curve')\n",
    "ax.set_ylabel('Precision')\n",
    "ax.set_xlabel('Recall')\n",
    "plt.show()"
   ]
  },
  {
   "cell_type": "code",
   "execution_count": null,
   "id": "243c0b61",
   "metadata": {
    "scrolled": true
   },
   "outputs": [],
   "source": [
    "# OverSampling"
   ]
  },
  {
   "cell_type": "code",
   "execution_count": 16,
   "id": "2381cfc3",
   "metadata": {},
   "outputs": [
    {
     "name": "stdout",
     "output_type": "stream",
     "text": [
      "Requirement already satisfied: imblearn in c:\\users\\thump\\anaconda3\\lib\\site-packages (0.0)\n",
      "Requirement already satisfied: imbalanced-learn in c:\\users\\thump\\anaconda3\\lib\\site-packages (from imblearn) (0.10.1)\n",
      "Requirement already satisfied: joblib>=1.1.1 in c:\\users\\thump\\anaconda3\\lib\\site-packages (from imbalanced-learn->imblearn) (1.2.0)\n",
      "Requirement already satisfied: scikit-learn>=1.0.2 in c:\\users\\thump\\anaconda3\\lib\\site-packages (from imbalanced-learn->imblearn) (1.2.2)\n",
      "Requirement already satisfied: numpy>=1.17.3 in c:\\users\\thump\\anaconda3\\lib\\site-packages (from imbalanced-learn->imblearn) (1.20.1)\n",
      "Requirement already satisfied: threadpoolctl>=2.0.0 in c:\\users\\thump\\anaconda3\\lib\\site-packages (from imbalanced-learn->imblearn) (2.1.0)\n",
      "Requirement already satisfied: scipy>=1.3.2 in c:\\users\\thump\\anaconda3\\lib\\site-packages (from imbalanced-learn->imblearn) (1.6.2)\n",
      "Note: you may need to restart the kernel to use updated packages.\n"
     ]
    }
   ],
   "source": [
    "pip install imblearn"
   ]
  },
  {
   "cell_type": "code",
   "execution_count": 21,
   "id": "4011f389",
   "metadata": {},
   "outputs": [],
   "source": [
    "from imblearn.over_sampling import SMOTE\n",
    "from collections import Counter"
   ]
  },
  {
   "cell_type": "code",
   "execution_count": 18,
   "id": "df0c6be7",
   "metadata": {},
   "outputs": [],
   "source": [
    "#increasing minority class to half of majority class\n",
    "smt = SMOTE(sampling_strategy = 0.5,random_state = 0)"
   ]
  },
  {
   "cell_type": "code",
   "execution_count": 19,
   "id": "74cda143",
   "metadata": {},
   "outputs": [],
   "source": [
    "X_over,Y_over = smt.fit_resample(X,Y)"
   ]
  },
  {
   "cell_type": "code",
   "execution_count": 20,
   "id": "0508f132",
   "metadata": {},
   "outputs": [
    {
     "name": "stdout",
     "output_type": "stream",
     "text": [
      "Counter({2: 39922, 1: 19961})\n"
     ]
    }
   ],
   "source": [
    "print(Counter(Y_over))"
   ]
  },
  {
   "cell_type": "code",
   "execution_count": 22,
   "id": "e1f2458e",
   "metadata": {},
   "outputs": [
    {
     "data": {
      "text/html": [
       "<style>#sk-container-id-2 {color: black;background-color: white;}#sk-container-id-2 pre{padding: 0;}#sk-container-id-2 div.sk-toggleable {background-color: white;}#sk-container-id-2 label.sk-toggleable__label {cursor: pointer;display: block;width: 100%;margin-bottom: 0;padding: 0.3em;box-sizing: border-box;text-align: center;}#sk-container-id-2 label.sk-toggleable__label-arrow:before {content: \"▸\";float: left;margin-right: 0.25em;color: #696969;}#sk-container-id-2 label.sk-toggleable__label-arrow:hover:before {color: black;}#sk-container-id-2 div.sk-estimator:hover label.sk-toggleable__label-arrow:before {color: black;}#sk-container-id-2 div.sk-toggleable__content {max-height: 0;max-width: 0;overflow: hidden;text-align: left;background-color: #f0f8ff;}#sk-container-id-2 div.sk-toggleable__content pre {margin: 0.2em;color: black;border-radius: 0.25em;background-color: #f0f8ff;}#sk-container-id-2 input.sk-toggleable__control:checked~div.sk-toggleable__content {max-height: 200px;max-width: 100%;overflow: auto;}#sk-container-id-2 input.sk-toggleable__control:checked~label.sk-toggleable__label-arrow:before {content: \"▾\";}#sk-container-id-2 div.sk-estimator input.sk-toggleable__control:checked~label.sk-toggleable__label {background-color: #d4ebff;}#sk-container-id-2 div.sk-label input.sk-toggleable__control:checked~label.sk-toggleable__label {background-color: #d4ebff;}#sk-container-id-2 input.sk-hidden--visually {border: 0;clip: rect(1px 1px 1px 1px);clip: rect(1px, 1px, 1px, 1px);height: 1px;margin: -1px;overflow: hidden;padding: 0;position: absolute;width: 1px;}#sk-container-id-2 div.sk-estimator {font-family: monospace;background-color: #f0f8ff;border: 1px dotted black;border-radius: 0.25em;box-sizing: border-box;margin-bottom: 0.5em;}#sk-container-id-2 div.sk-estimator:hover {background-color: #d4ebff;}#sk-container-id-2 div.sk-parallel-item::after {content: \"\";width: 100%;border-bottom: 1px solid gray;flex-grow: 1;}#sk-container-id-2 div.sk-label:hover label.sk-toggleable__label {background-color: #d4ebff;}#sk-container-id-2 div.sk-serial::before {content: \"\";position: absolute;border-left: 1px solid gray;box-sizing: border-box;top: 0;bottom: 0;left: 50%;z-index: 0;}#sk-container-id-2 div.sk-serial {display: flex;flex-direction: column;align-items: center;background-color: white;padding-right: 0.2em;padding-left: 0.2em;position: relative;}#sk-container-id-2 div.sk-item {position: relative;z-index: 1;}#sk-container-id-2 div.sk-parallel {display: flex;align-items: stretch;justify-content: center;background-color: white;position: relative;}#sk-container-id-2 div.sk-item::before, #sk-container-id-2 div.sk-parallel-item::before {content: \"\";position: absolute;border-left: 1px solid gray;box-sizing: border-box;top: 0;bottom: 0;left: 50%;z-index: -1;}#sk-container-id-2 div.sk-parallel-item {display: flex;flex-direction: column;z-index: 1;position: relative;background-color: white;}#sk-container-id-2 div.sk-parallel-item:first-child::after {align-self: flex-end;width: 50%;}#sk-container-id-2 div.sk-parallel-item:last-child::after {align-self: flex-start;width: 50%;}#sk-container-id-2 div.sk-parallel-item:only-child::after {width: 0;}#sk-container-id-2 div.sk-dashed-wrapped {border: 1px dashed gray;margin: 0 0.4em 0.5em 0.4em;box-sizing: border-box;padding-bottom: 0.4em;background-color: white;}#sk-container-id-2 div.sk-label label {font-family: monospace;font-weight: bold;display: inline-block;line-height: 1.2em;}#sk-container-id-2 div.sk-label-container {text-align: center;}#sk-container-id-2 div.sk-container {/* jupyter's `normalize.less` sets `[hidden] { display: none; }` but bootstrap.min.css set `[hidden] { display: none !important; }` so we also need the `!important` here to be able to override the default hidden behavior on the sphinx rendered scikit-learn.org. See: https://github.com/scikit-learn/scikit-learn/issues/21755 */display: inline-block !important;position: relative;}#sk-container-id-2 div.sk-text-repr-fallback {display: none;}</style><div id=\"sk-container-id-2\" class=\"sk-top-container\"><div class=\"sk-text-repr-fallback\"><pre>LogisticRegression(max_iter=1000)</pre><b>In a Jupyter environment, please rerun this cell to show the HTML representation or trust the notebook. <br />On GitHub, the HTML representation is unable to render, please try loading this page with nbviewer.org.</b></div><div class=\"sk-container\" hidden><div class=\"sk-item\"><div class=\"sk-estimator sk-toggleable\"><input class=\"sk-toggleable__control sk-hidden--visually\" id=\"sk-estimator-id-2\" type=\"checkbox\" checked><label for=\"sk-estimator-id-2\" class=\"sk-toggleable__label sk-toggleable__label-arrow\">LogisticRegression</label><div class=\"sk-toggleable__content\"><pre>LogisticRegression(max_iter=1000)</pre></div></div></div></div></div>"
      ],
      "text/plain": [
       "LogisticRegression(max_iter=1000)"
      ]
     },
     "execution_count": 22,
     "metadata": {},
     "output_type": "execute_result"
    }
   ],
   "source": [
    "x_train,x_test,y_train,y_test = train_test_split(X_over,Y_over,test_size = 0.4, random_state = 0)\n",
    "LR.fit(x_train,y_train)"
   ]
  },
  {
   "cell_type": "code",
   "execution_count": 23,
   "id": "9b8a1aab",
   "metadata": {},
   "outputs": [],
   "source": [
    "y_pred = LR.predict(x_test)"
   ]
  },
  {
   "cell_type": "markdown",
   "id": "ac9085be",
   "metadata": {},
   "source": [
    "# Evaluation Metrics for Oversampled data"
   ]
  },
  {
   "cell_type": "code",
   "execution_count": 24,
   "id": "20dcdf7b",
   "metadata": {},
   "outputs": [
    {
     "name": "stdout",
     "output_type": "stream",
     "text": [
      "Accuracy for LogisticRegression on OverSampled dataset is  0.8196543374801704\n",
      "Balanced Accuracy for LogisticRegression on OverSampled dataset is  0.781782506536842\n",
      "Recall/Sensitivity for LogisticRegression on OverSampled dataset is  0.6680435598948554\n",
      "f1_score for LogisticRegression on OverSampled dataset is  0.7118847539015607\n"
     ]
    },
    {
     "data": {
      "image/png": "[encoded data removed]",
      "text/plain": [
       "<Figure size 432x288 with 1 Axes>"
      ]
     },
     "metadata": {
      "needs_background": "light"
     },
     "output_type": "display_data"
    },
    {
     "data": {
      "image/png": "[encoded data removed]",
      "text/plain": [
       "<Figure size 432x288 with 1 Axes>"
      ]
     },
     "metadata": {
      "needs_background": "light"
     },
     "output_type": "display_data"
    }
   ],
   "source": [
    "Test_accuracy_over = accuracy_score(y_test,y_pred)\n",
    "print(\"Accuracy for LogisticRegression on OverSampled dataset is \",Test_accuracy_over)\n",
    "\n",
    "# Balanced Accuracy \n",
    "Balanced_Accuracy_over = balanced_accuracy_score(y_test, y_pred)\n",
    "print(\"Balanced Accuracy for LogisticRegression on OverSampled dataset is \",Balanced_Accuracy_over)\n",
    "\n",
    "#Recall/Sensitivity\n",
    "Recall_over = recall_score(y_test,y_pred,pos_label = 1)\n",
    "print(\"Recall/Sensitivity for LogisticRegression on OverSampled dataset is \",Recall_over)\n",
    "\n",
    "# F1 score\n",
    "f1score_over = f1_score(y_test,y_pred,pos_label = 1)\n",
    "print(\"f1_score for LogisticRegression on OverSampled dataset is \",f1score_over)\n",
    "\n",
    "#ROC CURVE for OverSampled data\n",
    "fpr_over, tpr_over, thresholds_over = roc_curve(y_test,y_pred,pos_label = 1)\n",
    "#ploting roc curve\n",
    "fig, ax = plt.subplots()\n",
    "ax.plot(fpr_over, tpr_over, color='purple')\n",
    "\n",
    "ax.set_title('ROC Curve for OverSampled Data')\n",
    "ax.set_ylabel('TruePositiveRate')\n",
    "ax.set_xlabel('FalsePositiveRate')\n",
    "plt.show()\n",
    "\n",
    "#Precision-Recall Curve for OverSampled data\n",
    "precision_over, recall_over, thresholds_over = precision_recall_curve(y_test,y_pred,pos_label = 1)\n",
    "#ploting roc curve\n",
    "fig, ax = plt.subplots()\n",
    "ax.plot(recall_over, precision_over, color='purple')\n",
    "\n",
    "ax.set_title('Precision-Recall Curve for OverSampled Data')\n",
    "ax.set_ylabel('Precision')\n",
    "ax.set_xlabel('Recall')\n",
    "plt.show()\n"
   ]
  },
  {
   "cell_type": "markdown",
   "id": "8af71970",
   "metadata": {},
   "source": [
    "# Cleaning Oversampled data with tomek-links\n"
   ]
  },
  {
   "cell_type": "code",
   "execution_count": 25,
   "id": "2977d488",
   "metadata": {},
   "outputs": [],
   "source": [
    "from imblearn.under_sampling import TomekLinks"
   ]
  },
  {
   "cell_type": "code",
   "execution_count": 26,
   "id": "d6ee740a",
   "metadata": {},
   "outputs": [],
   "source": [
    "tl = TomekLinks(sampling_strategy = 'not majority')\n",
    "X_over_clean,Y_over_clean = tl.fit_resample(X_over,Y_over)"
   ]
  },
  {
   "cell_type": "code",
   "execution_count": 27,
   "id": "517c3736",
   "metadata": {},
   "outputs": [
    {
     "name": "stdout",
     "output_type": "stream",
     "text": [
      "Counter({2: 39922, 1: 19795})\n"
     ]
    }
   ],
   "source": [
    "print(Counter(Y_over_clean))"
   ]
  },
  {
   "cell_type": "code",
   "execution_count": 28,
   "id": "89677ccd",
   "metadata": {},
   "outputs": [
    {
     "data": {
      "text/html": [
       "<style>#sk-container-id-3 {color: black;background-color: white;}#sk-container-id-3 pre{padding: 0;}#sk-container-id-3 div.sk-toggleable {background-color: white;}#sk-container-id-3 label.sk-toggleable__label {cursor: pointer;display: block;width: 100%;margin-bottom: 0;padding: 0.3em;box-sizing: border-box;text-align: center;}#sk-container-id-3 label.sk-toggleable__label-arrow:before {content: \"▸\";float: left;margin-right: 0.25em;color: #696969;}#sk-container-id-3 label.sk-toggleable__label-arrow:hover:before {color: black;}#sk-container-id-3 div.sk-estimator:hover label.sk-toggleable__label-arrow:before {color: black;}#sk-container-id-3 div.sk-toggleable__content {max-height: 0;max-width: 0;overflow: hidden;text-align: left;background-color: #f0f8ff;}#sk-container-id-3 div.sk-toggleable__content pre {margin: 0.2em;color: black;border-radius: 0.25em;background-color: #f0f8ff;}#sk-container-id-3 input.sk-toggleable__control:checked~div.sk-toggleable__content {max-height: 200px;max-width: 100%;overflow: auto;}#sk-container-id-3 input.sk-toggleable__control:checked~label.sk-toggleable__label-arrow:before {content: \"▾\";}#sk-container-id-3 div.sk-estimator input.sk-toggleable__control:checked~label.sk-toggleable__label {background-color: #d4ebff;}#sk-container-id-3 div.sk-label input.sk-toggleable__control:checked~label.sk-toggleable__label {background-color: #d4ebff;}#sk-container-id-3 input.sk-hidden--visually {border: 0;clip: rect(1px 1px 1px 1px);clip: rect(1px, 1px, 1px, 1px);height: 1px;margin: -1px;overflow: hidden;padding: 0;position: absolute;width: 1px;}#sk-container-id-3 div.sk-estimator {font-family: monospace;background-color: #f0f8ff;border: 1px dotted black;border-radius: 0.25em;box-sizing: border-box;margin-bottom: 0.5em;}#sk-container-id-3 div.sk-estimator:hover {background-color: #d4ebff;}#sk-container-id-3 div.sk-parallel-item::after {content: \"\";width: 100%;border-bottom: 1px solid gray;flex-grow: 1;}#sk-container-id-3 div.sk-label:hover label.sk-toggleable__label {background-color: #d4ebff;}#sk-container-id-3 div.sk-serial::before {content: \"\";position: absolute;border-left: 1px solid gray;box-sizing: border-box;top: 0;bottom: 0;left: 50%;z-index: 0;}#sk-container-id-3 div.sk-serial {display: flex;flex-direction: column;align-items: center;background-color: white;padding-right: 0.2em;padding-left: 0.2em;position: relative;}#sk-container-id-3 div.sk-item {position: relative;z-index: 1;}#sk-container-id-3 div.sk-parallel {display: flex;align-items: stretch;justify-content: center;background-color: white;position: relative;}#sk-container-id-3 div.sk-item::before, #sk-container-id-3 div.sk-parallel-item::before {content: \"\";position: absolute;border-left: 1px solid gray;box-sizing: border-box;top: 0;bottom: 0;left: 50%;z-index: -1;}#sk-container-id-3 div.sk-parallel-item {display: flex;flex-direction: column;z-index: 1;position: relative;background-color: white;}#sk-container-id-3 div.sk-parallel-item:first-child::after {align-self: flex-end;width: 50%;}#sk-container-id-3 div.sk-parallel-item:last-child::after {align-self: flex-start;width: 50%;}#sk-container-id-3 div.sk-parallel-item:only-child::after {width: 0;}#sk-container-id-3 div.sk-dashed-wrapped {border: 1px dashed gray;margin: 0 0.4em 0.5em 0.4em;box-sizing: border-box;padding-bottom: 0.4em;background-color: white;}#sk-container-id-3 div.sk-label label {font-family: monospace;font-weight: bold;display: inline-block;line-height: 1.2em;}#sk-container-id-3 div.sk-label-container {text-align: center;}#sk-container-id-3 div.sk-container {/* jupyter's `normalize.less` sets `[hidden] { display: none; }` but bootstrap.min.css set `[hidden] { display: none !important; }` so we also need the `!important` here to be able to override the default hidden behavior on the sphinx rendered scikit-learn.org. See: https://github.com/scikit-learn/scikit-learn/issues/21755 */display: inline-block !important;position: relative;}#sk-container-id-3 div.sk-text-repr-fallback {display: none;}</style><div id=\"sk-container-id-3\" class=\"sk-top-container\"><div class=\"sk-text-repr-fallback\"><pre>LogisticRegression(max_iter=1000)</pre><b>In a Jupyter environment, please rerun this cell to show the HTML representation or trust the notebook. <br />On GitHub, the HTML representation is unable to render, please try loading this page with nbviewer.org.</b></div><div class=\"sk-container\" hidden><div class=\"sk-item\"><div class=\"sk-estimator sk-toggleable\"><input class=\"sk-toggleable__control sk-hidden--visually\" id=\"sk-estimator-id-3\" type=\"checkbox\" checked><label for=\"sk-estimator-id-3\" class=\"sk-toggleable__label sk-toggleable__label-arrow\">LogisticRegression</label><div class=\"sk-toggleable__content\"><pre>LogisticRegression(max_iter=1000)</pre></div></div></div></div></div>"
      ],
      "text/plain": [
       "LogisticRegression(max_iter=1000)"
      ]
     },
     "execution_count": 28,
     "metadata": {},
     "output_type": "execute_result"
    }
   ],
   "source": [
    "x_train,x_test,y_train,y_test = train_test_split(X_over_clean,Y_over_clean,test_size = 0.4, random_state = 0)\n",
    "LR.fit(x_train,y_train)"
   ]
  },
  {
   "cell_type": "code",
   "execution_count": 29,
   "id": "b24485fd",
   "metadata": {},
   "outputs": [],
   "source": [
    "y_pred = LR.predict(x_test)"
   ]
  },
  {
   "cell_type": "code",
   "execution_count": null,
   "id": "157430fc",
   "metadata": {},
   "outputs": [],
   "source": [
    "#Evaluation Metrics for Oversampled and cleaned data set"
   ]
  },
  {
   "cell_type": "code",
   "execution_count": 30,
   "id": "40dae043",
   "metadata": {},
   "outputs": [
    {
     "name": "stdout",
     "output_type": "stream",
     "text": [
      "Accuracy for LogisticRegression on OverSampled and Cleaned dataset is  0.8236697785406288\n",
      "Balanced Accuracy for LogisticRegression on OverSampled and Cleaned dataset is  0.7842972759246308\n",
      "Recall/Sensitivity for LogisticRegression on OverSampled and Cleaned dataset is  0.6667505980108271\n",
      "f1_score for LogisticRegression on OverSampled and Cleaned dataset is  0.7154823020805188\n"
     ]
    },
    {
     "data": {
      "image/png": "[encoded data removed]",
      "text/plain": [
       "<Figure size 432x288 with 1 Axes>"
      ]
     },
     "metadata": {
      "needs_background": "light"
     },
     "output_type": "display_data"
    },
    {
     "data": {
      "image/png": "[encoded data removed]",
      "text/plain": [
       "<Figure size 432x288 with 1 Axes>"
      ]
     },
     "metadata": {
      "needs_background": "light"
     },
     "output_type": "display_data"
    }
   ],
   "source": [
    "Test_accuracy_over = accuracy_score(y_test,y_pred)\n",
    "print(\"Accuracy for LogisticRegression on OverSampled and Cleaned dataset is \",Test_accuracy_over)\n",
    "\n",
    "# Balanced Accuracy \n",
    "Balanced_Accuracy_over = balanced_accuracy_score(y_test, y_pred)\n",
    "print(\"Balanced Accuracy for LogisticRegression on OverSampled and Cleaned dataset is \",Balanced_Accuracy_over)\n",
    "\n",
    "#Recall/Sensitivity\n",
    "Recall_over = recall_score(y_test,y_pred,pos_label = 1)\n",
    "print(\"Recall/Sensitivity for LogisticRegression on OverSampled and Cleaned dataset is \",Recall_over)\n",
    "\n",
    "# F1 score\n",
    "f1score_over = f1_score(y_test,y_pred,pos_label = 1)\n",
    "print(\"f1_score for LogisticRegression on OverSampled and Cleaned dataset is \",f1score_over)\n",
    "\n",
    "#ROC CURVE for OverSampled data\n",
    "fpr_over, tpr_over, thresholds_over = roc_curve(y_test,y_pred,pos_label = 1)\n",
    "#ploting roc curve\n",
    "fig, ax = plt.subplots()\n",
    "ax.plot(fpr_over, tpr_over, color='purple')\n",
    "\n",
    "ax.set_title('ROC Curve for OverSampled and Cleaned Data')\n",
    "ax.set_ylabel('TruePositiveRate')\n",
    "ax.set_xlabel('FalsePositiveRate')\n",
    "plt.show()\n",
    "\n",
    "#Precision-Recall Curve for OverSampled data\n",
    "precision_over, recall_over, thresholds_over = precision_recall_curve(y_test,y_pred,pos_label = 1)\n",
    "#ploting roc curve\n",
    "fig, ax = plt.subplots()\n",
    "ax.plot(recall_over, precision_over, color='purple')\n",
    "\n",
    "ax.set_title('Precision-Recall Curve for OverSampled and Cleaned Data')\n",
    "ax.set_ylabel('Precision')\n",
    "ax.set_xlabel('Recall')\n",
    "plt.show()\n"
   ]
  },
  {
   "cell_type": "markdown",
   "id": "eb2e28ce",
   "metadata": {},
   "source": [
    "# Undersampling Majority Class using random undersampling"
   ]
  },
  {
   "cell_type": "code",
   "execution_count": 31,
   "id": "1315d582",
   "metadata": {},
   "outputs": [],
   "source": [
    "from imblearn.under_sampling import RandomUnderSampler"
   ]
  },
  {
   "cell_type": "code",
   "execution_count": 32,
   "id": "cb8896a9",
   "metadata": {},
   "outputs": [],
   "source": [
    "randomUnderSample = RandomUnderSampler(sampling_strategy = 0.41 ,random_state = 0)"
   ]
  },
  {
   "cell_type": "code",
   "execution_count": 33,
   "id": "e4032a55",
   "metadata": {},
   "outputs": [
    {
     "name": "stdout",
     "output_type": "stream",
     "text": [
      "Counter({2: 12900, 1: 5289})\n"
     ]
    }
   ],
   "source": [
    "X_under,Y_under = randomUnderSample.fit_resample(X,Y)\n",
    "print(Counter(Y_under))"
   ]
  },
  {
   "cell_type": "code",
   "execution_count": 34,
   "id": "80ad2abf",
   "metadata": {},
   "outputs": [
    {
     "data": {
      "text/html": [
       "<style>#sk-container-id-4 {color: black;background-color: white;}#sk-container-id-4 pre{padding: 0;}#sk-container-id-4 div.sk-toggleable {background-color: white;}#sk-container-id-4 label.sk-toggleable__label {cursor: pointer;display: block;width: 100%;margin-bottom: 0;padding: 0.3em;box-sizing: border-box;text-align: center;}#sk-container-id-4 label.sk-toggleable__label-arrow:before {content: \"▸\";float: left;margin-right: 0.25em;color: #696969;}#sk-container-id-4 label.sk-toggleable__label-arrow:hover:before {color: black;}#sk-container-id-4 div.sk-estimator:hover label.sk-toggleable__label-arrow:before {color: black;}#sk-container-id-4 div.sk-toggleable__content {max-height: 0;max-width: 0;overflow: hidden;text-align: left;background-color: #f0f8ff;}#sk-container-id-4 div.sk-toggleable__content pre {margin: 0.2em;color: black;border-radius: 0.25em;background-color: #f0f8ff;}#sk-container-id-4 input.sk-toggleable__control:checked~div.sk-toggleable__content {max-height: 200px;max-width: 100%;overflow: auto;}#sk-container-id-4 input.sk-toggleable__control:checked~label.sk-toggleable__label-arrow:before {content: \"▾\";}#sk-container-id-4 div.sk-estimator input.sk-toggleable__control:checked~label.sk-toggleable__label {background-color: #d4ebff;}#sk-container-id-4 div.sk-label input.sk-toggleable__control:checked~label.sk-toggleable__label {background-color: #d4ebff;}#sk-container-id-4 input.sk-hidden--visually {border: 0;clip: rect(1px 1px 1px 1px);clip: rect(1px, 1px, 1px, 1px);height: 1px;margin: -1px;overflow: hidden;padding: 0;position: absolute;width: 1px;}#sk-container-id-4 div.sk-estimator {font-family: monospace;background-color: #f0f8ff;border: 1px dotted black;border-radius: 0.25em;box-sizing: border-box;margin-bottom: 0.5em;}#sk-container-id-4 div.sk-estimator:hover {background-color: #d4ebff;}#sk-container-id-4 div.sk-parallel-item::after {content: \"\";width: 100%;border-bottom: 1px solid gray;flex-grow: 1;}#sk-container-id-4 div.sk-label:hover label.sk-toggleable__label {background-color: #d4ebff;}#sk-container-id-4 div.sk-serial::before {content: \"\";position: absolute;border-left: 1px solid gray;box-sizing: border-box;top: 0;bottom: 0;left: 50%;z-index: 0;}#sk-container-id-4 div.sk-serial {display: flex;flex-direction: column;align-items: center;background-color: white;padding-right: 0.2em;padding-left: 0.2em;position: relative;}#sk-container-id-4 div.sk-item {position: relative;z-index: 1;}#sk-container-id-4 div.sk-parallel {display: flex;align-items: stretch;justify-content: center;background-color: white;position: relative;}#sk-container-id-4 div.sk-item::before, #sk-container-id-4 div.sk-parallel-item::before {content: \"\";position: absolute;border-left: 1px solid gray;box-sizing: border-box;top: 0;bottom: 0;left: 50%;z-index: -1;}#sk-container-id-4 div.sk-parallel-item {display: flex;flex-direction: column;z-index: 1;position: relative;background-color: white;}#sk-container-id-4 div.sk-parallel-item:first-child::after {align-self: flex-end;width: 50%;}#sk-container-id-4 div.sk-parallel-item:last-child::after {align-self: flex-start;width: 50%;}#sk-container-id-4 div.sk-parallel-item:only-child::after {width: 0;}#sk-container-id-4 div.sk-dashed-wrapped {border: 1px dashed gray;margin: 0 0.4em 0.5em 0.4em;box-sizing: border-box;padding-bottom: 0.4em;background-color: white;}#sk-container-id-4 div.sk-label label {font-family: monospace;font-weight: bold;display: inline-block;line-height: 1.2em;}#sk-container-id-4 div.sk-label-container {text-align: center;}#sk-container-id-4 div.sk-container {/* jupyter's `normalize.less` sets `[hidden] { display: none; }` but bootstrap.min.css set `[hidden] { display: none !important; }` so we also need the `!important` here to be able to override the default hidden behavior on the sphinx rendered scikit-learn.org. See: https://github.com/scikit-learn/scikit-learn/issues/21755 */display: inline-block !important;position: relative;}#sk-container-id-4 div.sk-text-repr-fallback {display: none;}</style><div id=\"sk-container-id-4\" class=\"sk-top-container\"><div class=\"sk-text-repr-fallback\"><pre>LogisticRegression(max_iter=1000)</pre><b>In a Jupyter environment, please rerun this cell to show the HTML representation or trust the notebook. <br />On GitHub, the HTML representation is unable to render, please try loading this page with nbviewer.org.</b></div><div class=\"sk-container\" hidden><div class=\"sk-item\"><div class=\"sk-estimator sk-toggleable\"><input class=\"sk-toggleable__control sk-hidden--visually\" id=\"sk-estimator-id-4\" type=\"checkbox\" checked><label for=\"sk-estimator-id-4\" class=\"sk-toggleable__label sk-toggleable__label-arrow\">LogisticRegression</label><div class=\"sk-toggleable__content\"><pre>LogisticRegression(max_iter=1000)</pre></div></div></div></div></div>"
      ],
      "text/plain": [
       "LogisticRegression(max_iter=1000)"
      ]
     },
     "execution_count": 34,
     "metadata": {},
     "output_type": "execute_result"
    }
   ],
   "source": [
    "x_train,x_test,y_train,y_test = train_test_split(X_under,Y_under,test_size = 0.4, random_state = 0)\n",
    "LR.fit(x_train,y_train)"
   ]
  },
  {
   "cell_type": "code",
   "execution_count": 35,
   "id": "a438a4bf",
   "metadata": {},
   "outputs": [],
   "source": [
    "y_pred = LR.predict(x_test)"
   ]
  },
  {
   "cell_type": "code",
   "execution_count": null,
   "id": "baee58c8",
   "metadata": {},
   "outputs": [],
   "source": [
    "#Evaluation metrics for undersampled data"
   ]
  },
  {
   "cell_type": "code",
   "execution_count": 36,
   "id": "bd089a58",
   "metadata": {},
   "outputs": [
    {
     "name": "stdout",
     "output_type": "stream",
     "text": [
      "Accuracy for LogisticRegression on UnderSampled dataset is  0.8287520615722924\n",
      "Balanced Accuracy for LogisticRegression on UnderSampled dataset is  0.7580806862035342\n",
      "Recall/Sensitivity for LogisticRegression on UnderSampled dataset is  0.5964826575476306\n",
      "f1_score for LogisticRegression on UnderSampled dataset is  0.6621475054229935\n"
     ]
    },
    {
     "data": {
      "image/png": "[encoded data removed]",
      "text/plain": [
       "<Figure size 432x288 with 1 Axes>"
      ]
     },
     "metadata": {
      "needs_background": "light"
     },
     "output_type": "display_data"
    },
    {
     "data": {
      "image/png": "[encoded data removed]",
      "text/plain": [
       "<Figure size 432x288 with 1 Axes>"
      ]
     },
     "metadata": {
      "needs_background": "light"
     },
     "output_type": "display_data"
    }
   ],
   "source": [
    "Test_accuracy_over = accuracy_score(y_test,y_pred)\n",
    "print(\"Accuracy for LogisticRegression on UnderSampled dataset is \",Test_accuracy_over)\n",
    "\n",
    "# Balanced Accuracy \n",
    "Balanced_Accuracy_over = balanced_accuracy_score(y_test, y_pred)\n",
    "print(\"Balanced Accuracy for LogisticRegression on UnderSampled dataset is \",Balanced_Accuracy_over)\n",
    "\n",
    "#Recall/Sensitivity\n",
    "Recall_over = recall_score(y_test,y_pred,pos_label = 1)\n",
    "print(\"Recall/Sensitivity for LogisticRegression on UnderSampled dataset is \",Recall_over)\n",
    "\n",
    "# F1 score\n",
    "f1score_over = f1_score(y_test,y_pred,pos_label = 1)\n",
    "print(\"f1_score for LogisticRegression on UnderSampled dataset is \",f1score_over)\n",
    "\n",
    "#ROC CURVE for UnderSampled data\n",
    "fpr_over, tpr_over, thresholds_over = roc_curve(y_test,y_pred,pos_label = 1)\n",
    "#ploting roc curve\n",
    "fig, ax = plt.subplots()\n",
    "ax.plot(fpr_over, tpr_over, color='purple')\n",
    "\n",
    "ax.set_title('ROC Curve for UnderSampled Data')\n",
    "ax.set_ylabel('TruePositiveRate')\n",
    "ax.set_xlabel('FalsePositiveRate')\n",
    "plt.show()\n",
    "\n",
    "#Precision-Recall Curve for UnderSampled data\n",
    "precision_over, recall_over, thresholds_over = precision_recall_curve(y_test,y_pred,pos_label = 1)\n",
    "#ploting roc curve\n",
    "fig, ax = plt.subplots()\n",
    "ax.plot(recall_over, precision_over, color='purple')\n",
    "\n",
    "ax.set_title('Precision-Recall Curve for UnderSampled Data')\n",
    "ax.set_ylabel('Precision')\n",
    "ax.set_xlabel('Recall')\n",
    "plt.show()\n"
   ]
  },
  {
   "cell_type": "markdown",
   "id": "2623dd47",
   "metadata": {},
   "source": [
    "# Cleaning Undersampled data with tomek-links"
   ]
  },
  {
   "cell_type": "code",
   "execution_count": 37,
   "id": "2d14af38",
   "metadata": {},
   "outputs": [
    {
     "name": "stdout",
     "output_type": "stream",
     "text": [
      "Counter({2: 12060, 1: 5289})\n"
     ]
    }
   ],
   "source": [
    "t2 = TomekLinks(sampling_strategy = 'majority')\n",
    "X_under_clean,Y_under_clean = t2.fit_resample(X_under,Y_under)#UnderSampling and Cleaning Majority class.\n",
    "print(Counter(Y_under_clean))"
   ]
  },
  {
   "cell_type": "code",
   "execution_count": 38,
   "id": "2106e965",
   "metadata": {},
   "outputs": [
    {
     "data": {
      "text/html": [
       "<style>#sk-container-id-5 {color: black;background-color: white;}#sk-container-id-5 pre{padding: 0;}#sk-container-id-5 div.sk-toggleable {background-color: white;}#sk-container-id-5 label.sk-toggleable__label {cursor: pointer;display: block;width: 100%;margin-bottom: 0;padding: 0.3em;box-sizing: border-box;text-align: center;}#sk-container-id-5 label.sk-toggleable__label-arrow:before {content: \"▸\";float: left;margin-right: 0.25em;color: #696969;}#sk-container-id-5 label.sk-toggleable__label-arrow:hover:before {color: black;}#sk-container-id-5 div.sk-estimator:hover label.sk-toggleable__label-arrow:before {color: black;}#sk-container-id-5 div.sk-toggleable__content {max-height: 0;max-width: 0;overflow: hidden;text-align: left;background-color: #f0f8ff;}#sk-container-id-5 div.sk-toggleable__content pre {margin: 0.2em;color: black;border-radius: 0.25em;background-color: #f0f8ff;}#sk-container-id-5 input.sk-toggleable__control:checked~div.sk-toggleable__content {max-height: 200px;max-width: 100%;overflow: auto;}#sk-container-id-5 input.sk-toggleable__control:checked~label.sk-toggleable__label-arrow:before {content: \"▾\";}#sk-container-id-5 div.sk-estimator input.sk-toggleable__control:checked~label.sk-toggleable__label {background-color: #d4ebff;}#sk-container-id-5 div.sk-label input.sk-toggleable__control:checked~label.sk-toggleable__label {background-color: #d4ebff;}#sk-container-id-5 input.sk-hidden--visually {border: 0;clip: rect(1px 1px 1px 1px);clip: rect(1px, 1px, 1px, 1px);height: 1px;margin: -1px;overflow: hidden;padding: 0;position: absolute;width: 1px;}#sk-container-id-5 div.sk-estimator {font-family: monospace;background-color: #f0f8ff;border: 1px dotted black;border-radius: 0.25em;box-sizing: border-box;margin-bottom: 0.5em;}#sk-container-id-5 div.sk-estimator:hover {background-color: #d4ebff;}#sk-container-id-5 div.sk-parallel-item::after {content: \"\";width: 100%;border-bottom: 1px solid gray;flex-grow: 1;}#sk-container-id-5 div.sk-label:hover label.sk-toggleable__label {background-color: #d4ebff;}#sk-container-id-5 div.sk-serial::before {content: \"\";position: absolute;border-left: 1px solid gray;box-sizing: border-box;top: 0;bottom: 0;left: 50%;z-index: 0;}#sk-container-id-5 div.sk-serial {display: flex;flex-direction: column;align-items: center;background-color: white;padding-right: 0.2em;padding-left: 0.2em;position: relative;}#sk-container-id-5 div.sk-item {position: relative;z-index: 1;}#sk-container-id-5 div.sk-parallel {display: flex;align-items: stretch;justify-content: center;background-color: white;position: relative;}#sk-container-id-5 div.sk-item::before, #sk-container-id-5 div.sk-parallel-item::before {content: \"\";position: absolute;border-left: 1px solid gray;box-sizing: border-box;top: 0;bottom: 0;left: 50%;z-index: -1;}#sk-container-id-5 div.sk-parallel-item {display: flex;flex-direction: column;z-index: 1;position: relative;background-color: white;}#sk-container-id-5 div.sk-parallel-item:first-child::after {align-self: flex-end;width: 50%;}#sk-container-id-5 div.sk-parallel-item:last-child::after {align-self: flex-start;width: 50%;}#sk-container-id-5 div.sk-parallel-item:only-child::after {width: 0;}#sk-container-id-5 div.sk-dashed-wrapped {border: 1px dashed gray;margin: 0 0.4em 0.5em 0.4em;box-sizing: border-box;padding-bottom: 0.4em;background-color: white;}#sk-container-id-5 div.sk-label label {font-family: monospace;font-weight: bold;display: inline-block;line-height: 1.2em;}#sk-container-id-5 div.sk-label-container {text-align: center;}#sk-container-id-5 div.sk-container {/* jupyter's `normalize.less` sets `[hidden] { display: none; }` but bootstrap.min.css set `[hidden] { display: none !important; }` so we also need the `!important` here to be able to override the default hidden behavior on the sphinx rendered scikit-learn.org. See: https://github.com/scikit-learn/scikit-learn/issues/21755 */display: inline-block !important;position: relative;}#sk-container-id-5 div.sk-text-repr-fallback {display: none;}</style><div id=\"sk-container-id-5\" class=\"sk-top-container\"><div class=\"sk-text-repr-fallback\"><pre>LogisticRegression(max_iter=1000)</pre><b>In a Jupyter environment, please rerun this cell to show the HTML representation or trust the notebook. <br />On GitHub, the HTML representation is unable to render, please try loading this page with nbviewer.org.</b></div><div class=\"sk-container\" hidden><div class=\"sk-item\"><div class=\"sk-estimator sk-toggleable\"><input class=\"sk-toggleable__control sk-hidden--visually\" id=\"sk-estimator-id-5\" type=\"checkbox\" checked><label for=\"sk-estimator-id-5\" class=\"sk-toggleable__label sk-toggleable__label-arrow\">LogisticRegression</label><div class=\"sk-toggleable__content\"><pre>LogisticRegression(max_iter=1000)</pre></div></div></div></div></div>"
      ],
      "text/plain": [
       "LogisticRegression(max_iter=1000)"
      ]
     },
     "execution_count": 38,
     "metadata": {},
     "output_type": "execute_result"
    }
   ],
   "source": [
    "x_train,x_test,y_train,y_test = train_test_split(X_under_clean,Y_under_clean,test_size = 0.4, random_state = 0)\n",
    "LR.fit(x_train,y_train)"
   ]
  },
  {
   "cell_type": "code",
   "execution_count": 39,
   "id": "3c1bfc61",
   "metadata": {},
   "outputs": [],
   "source": [
    "y_pred = LR.predict(x_test)"
   ]
  },
  {
   "cell_type": "code",
   "execution_count": null,
   "id": "4629f45c",
   "metadata": {},
   "outputs": [],
   "source": [
    "#Evaliuation metrics for underSampled and Cleaned dataset"
   ]
  },
  {
   "cell_type": "code",
   "execution_count": 40,
   "id": "02256c4f",
   "metadata": {},
   "outputs": [
    {
     "name": "stdout",
     "output_type": "stream",
     "text": [
      "Evaluation metrics for undersampled data\n",
      "Accuracy for LogisticRegression on underSampled and Cleaned dataset is  0.842507204610951\n",
      "Balanced Accuracy for LogisticRegression on underSampled and Cleaned  dataset is  0.7861839487505968\n",
      "Recall/Sensitivity for LogisticRegression on underSampled and Cleaned dataset is  0.6475728155339806\n",
      "f1_score for LogisticRegression on underSampled and Cleaned dataset is  0.7093858016484976\n"
     ]
    },
    {
     "data": {
      "image/png": "[encoded data removed]",
      "text/plain": [
       "<Figure size 432x288 with 1 Axes>"
      ]
     },
     "metadata": {
      "needs_background": "light"
     },
     "output_type": "display_data"
    },
    {
     "data": {
      "image/png": "[encoded data removed]",
      "text/plain": [
       "<Figure size 432x288 with 1 Axes>"
      ]
     },
     "metadata": {
      "needs_background": "light"
     },
     "output_type": "display_data"
    }
   ],
   "source": [
    "print(\"Evaluation metrics for undersampled data\")\n",
    "Test_accuracy_under_clean = accuracy_score(y_test,y_pred)\n",
    "print(\"Accuracy for LogisticRegression on underSampled and Cleaned dataset is \",Test_accuracy_under_clean)\n",
    "\n",
    "# Balanced Accuracy \n",
    "Balanced_Accuracy_under_clean = balanced_accuracy_score(y_test, y_pred)\n",
    "print(\"Balanced Accuracy for LogisticRegression on underSampled and Cleaned  dataset is \",Balanced_Accuracy_under_clean)\n",
    "\n",
    "#Recall/Sensitivity\n",
    "Recall_under_clean = recall_score(y_test,y_pred,pos_label = 1)\n",
    "print(\"Recall/Sensitivity for LogisticRegression on underSampled and Cleaned dataset is \",Recall_under_clean)\n",
    "\n",
    "# F1 score\n",
    "f1score_under_clean = f1_score(y_test,y_pred,pos_label = 1)\n",
    "print(\"f1_score for LogisticRegression on underSampled and Cleaned dataset is \",f1score_under_clean)\n",
    "\n",
    "#ROC CURVE for OverSampled data\n",
    "fpr_under_clean, tpr_under_clean, thresholds_under_clean = roc_curve(y_test,y_pred,pos_label = 1)\n",
    "#ploting roc curve\n",
    "fig, ax = plt.subplots()\n",
    "ax.plot(fpr_under_clean, tpr_under_clean, color='purple')\n",
    "\n",
    "ax.set_title('ROC Curve for underSampled and Cleaned Data')\n",
    "ax.set_ylabel('TruePositiveRate')\n",
    "ax.set_xlabel('FalsePositiveRate')\n",
    "plt.show()\n",
    "\n",
    "\n",
    "#Precision-Recall Curve for OverSampled data\n",
    "precision_under_clean, recall_under_clean, thresholds_under_clean = precision_recall_curve(y_test,y_pred,pos_label = 1)\n",
    "#ploting roc curve\n",
    "fig, ax = plt.subplots()\n",
    "ax.plot(recall_under_clean, precision_under_clean, color='purple')\n",
    "\n",
    "ax.set_title('Precision-Recall Curve for underSampled and Cleaned Data')\n",
    "ax.set_ylabel('Precision')\n",
    "ax.set_xlabel('Recall')\n",
    "plt.show()"
   ]
  },
  {
   "cell_type": "markdown",
   "id": "e00be169",
   "metadata": {},
   "source": [
    "# Overall Balanced data"
   ]
  },
  {
   "cell_type": "code",
   "execution_count": 41,
   "id": "b5c2142a",
   "metadata": {},
   "outputs": [
    {
     "name": "stdout",
     "output_type": "stream",
     "text": [
      "Counter({2: 39922, 1: 5289})\n",
      "Counter({2: 39922, 1: 19961})\n",
      "Counter({1: 19961, 2: 19961})\n"
     ]
    }
   ],
   "source": [
    "print(Counter(Y))\n",
    "print(Counter(Y_over))\n",
    "randomUnderSample_overall = RandomUnderSampler(sampling_strategy = 1 ,random_state = 0)\n",
    "X_overall,Y_overall = randomUnderSample_overall.fit_resample(X_over,Y_over)\n",
    "print(Counter(Y_overall))\n",
    "x_train,x_test,y_train,y_test = train_test_split(X_overall,Y_overall,test_size = 0.4, random_state = 0)\n",
    "LR.fit(x_train,y_train)\n",
    "y_pred = LR.predict(x_test)"
   ]
  },
  {
   "cell_type": "code",
   "execution_count": 42,
   "id": "cdd68142",
   "metadata": {},
   "outputs": [
    {
     "name": "stdout",
     "output_type": "stream",
     "text": [
      "Accuracy for LogisticRegression on balanced dataset is  0.8308597908447617\n",
      "Balanced Accuracy for LogisticRegression on balanced dataset is  0.8308625845339481\n",
      "Recall/Sensitivity for LogisticRegression on balanced dataset is  0.8274308597171818\n",
      "f1_score for LogisticRegression on balanced dataset is  0.830392464678179\n"
     ]
    },
    {
     "data": {
      "image/png": "[encoded data removed]",
      "text/plain": [
       "<Figure size 432x288 with 1 Axes>"
      ]
     },
     "metadata": {
      "needs_background": "light"
     },
     "output_type": "display_data"
    },
    {
     "data": {
      "image/png": "[encoded data removed]",
      "text/plain": [
       "<Figure size 432x288 with 1 Axes>"
      ]
     },
     "metadata": {
      "needs_background": "light"
     },
     "output_type": "display_data"
    }
   ],
   "source": [
    "Test_accuracy_over = accuracy_score(y_test,y_pred)\n",
    "print(\"Accuracy for LogisticRegression on balanced dataset is \",Test_accuracy_over)\n",
    "\n",
    "# Balanced Accuracy \n",
    "Balanced_Accuracy_over = balanced_accuracy_score(y_test, y_pred)\n",
    "print(\"Balanced Accuracy for LogisticRegression on balanced dataset is \",Balanced_Accuracy_over)\n",
    "\n",
    "#Recall/Sensitivity\n",
    "Recall_over = recall_score(y_test,y_pred,pos_label = 1)\n",
    "print(\"Recall/Sensitivity for LogisticRegression on balanced dataset is \",Recall_over)\n",
    "\n",
    "# F1 score\n",
    "f1score_over = f1_score(y_test,y_pred,pos_label = 1)\n",
    "print(\"f1_score for LogisticRegression on balanced dataset is \",f1score_over)\n",
    "\n",
    "#ROC CURVE for balanced data\n",
    "fpr_over, tpr_over, thresholds_over = roc_curve(y_test,y_pred,pos_label = 1)\n",
    "#ploting roc curve\n",
    "fig, ax = plt.subplots()\n",
    "ax.plot(fpr_over, tpr_over, color='purple')\n",
    "\n",
    "ax.set_title('ROC Curve for balanced Data')\n",
    "ax.set_ylabel('TruePositiveRate')\n",
    "ax.set_xlabel('FalsePositiveRate')\n",
    "plt.show()\n",
    "\n",
    "#Precision-Recall Curve for balanced data\n",
    "precision_over, recall_over, thresholds_over = precision_recall_curve(y_test,y_pred,pos_label = 1)\n",
    "#ploting roc curve\n",
    "fig, ax = plt.subplots()\n",
    "ax.plot(recall_over, precision_over, color='purple')\n",
    "\n",
    "ax.set_title('Precision-Recall Curve for balanced Data')\n",
    "ax.set_ylabel('Precision')\n",
    "ax.set_xlabel('Recall')\n",
    "plt.show()"
   ]
  },
  {
   "cell_type": "markdown",
   "id": "581bf261",
   "metadata": {},
   "source": [
    "# Overall Balanced data and cleaned"
   ]
  },
  {
   "cell_type": "code",
   "execution_count": 43,
   "id": "7a85f5e5",
   "metadata": {},
   "outputs": [
    {
     "name": "stdout",
     "output_type": "stream",
     "text": [
      "Counter({1: 19831, 2: 19831})\n"
     ]
    }
   ],
   "source": [
    "clean_balanced = TomekLinks(sampling_strategy='all')\n",
    "X_balanced_clean,Y_balanced_clean = clean_balanced.fit_resample(X_overall,Y_overall)\n",
    "print(Counter(Y_balanced_clean))"
   ]
  },
  {
   "cell_type": "code",
   "execution_count": 44,
   "id": "ac37d7c3",
   "metadata": {},
   "outputs": [],
   "source": [
    "x_train,x_test,y_train,y_test = train_test_split(X_balanced_clean,Y_balanced_clean,test_size = 0.4, random_state = 0)\n",
    "LR.fit(x_train,y_train)\n",
    "y_pred = LR.predict(x_test)"
   ]
  },
  {
   "cell_type": "code",
   "execution_count": null,
   "id": "ce0c7a26",
   "metadata": {},
   "outputs": [],
   "source": [
    "#Evaluation metrics for Overall Balanced data and cleaned"
   ]
  },
  {
   "cell_type": "code",
   "execution_count": 45,
   "id": "3b23b3c4",
   "metadata": {},
   "outputs": [
    {
     "name": "stdout",
     "output_type": "stream",
     "text": [
      "Accuracy for LogisticRegression on balanced and Cleaned dataset is  0.8305074062401513\n",
      "Balanced Accuracy for LogisticRegression on balanced and Cleaned dataset is  0.8304891703240868\n",
      "Recall/Sensitivity for LogisticRegression on balanced and Cleaned dataset is  0.823432760364004\n",
      "f1_score for LogisticRegression on balanced and Cleaned dataset is  0.8289331382403461\n"
     ]
    },
    {
     "data": {
      "image/png": "[encoded data removed]",
      "text/plain": [
       "<Figure size 432x288 with 1 Axes>"
      ]
     },
     "metadata": {
      "needs_background": "light"
     },
     "output_type": "display_data"
    },
    {
     "data": {
      "image/png": "[encoded data removed]",
      "text/plain": [
       "<Figure size 432x288 with 1 Axes>"
      ]
     },
     "metadata": {
      "needs_background": "light"
     },
     "output_type": "display_data"
    }
   ],
   "source": [
    "Test_accuracy_over = accuracy_score(y_test,y_pred)\n",
    "print(\"Accuracy for LogisticRegression on balanced and Cleaned dataset is \",Test_accuracy_over)\n",
    "\n",
    "# Balanced Accuracy \n",
    "Balanced_Accuracy_over = balanced_accuracy_score(y_test, y_pred)\n",
    "print(\"Balanced Accuracy for LogisticRegression on balanced and Cleaned dataset is \",Balanced_Accuracy_over)\n",
    "\n",
    "#Recall/Sensitivity\n",
    "Recall_over = recall_score(y_test,y_pred,pos_label = 1)\n",
    "print(\"Recall/Sensitivity for LogisticRegression on balanced and Cleaned dataset is \",Recall_over)\n",
    "\n",
    "# F1 score\n",
    "f1score_over = f1_score(y_test,y_pred,pos_label = 1)\n",
    "print(\"f1_score for LogisticRegression on balanced and Cleaned dataset is \",f1score_over)\n",
    "\n",
    "#ROC CURVE for balanced and Cleaned data\n",
    "fpr_over, tpr_over, thresholds_over = roc_curve(y_test,y_pred,pos_label = 1)\n",
    "#ploting roc curve\n",
    "fig, ax = plt.subplots()\n",
    "ax.plot(fpr_over, tpr_over, color='purple')\n",
    "\n",
    "ax.set_title('ROC Curve for balanced and Cleaned Data')\n",
    "ax.set_ylabel('TruePositiveRate')\n",
    "ax.set_xlabel('FalsePositiveRate')\n",
    "plt.show()\n",
    "\n",
    "#Precision-Recall Curve for balanced and Cleaned data\n",
    "precision_over, recall_over, thresholds_over = precision_recall_curve(y_test,y_pred,pos_label = 1)\n",
    "#ploting roc curve\n",
    "fig, ax = plt.subplots()\n",
    "ax.plot(recall_over, precision_over, color='purple')\n",
    "\n",
    "ax.set_title('Precision-Recall Curve for balanced and Cleaned Data')\n",
    "ax.set_ylabel('Precision')\n",
    "ax.set_xlabel('Recall')\n",
    "plt.show()"
   ]
  },
  {
   "cell_type": "code",
   "execution_count": null,
   "id": "7d3736a3",
   "metadata": {},
   "outputs": [],
   "source": [
    "#Serializing the model using sklearn pickel"
   ]
  },
  {
   "cell_type": "code",
   "execution_count": 46,
   "id": "0031a6c1",
   "metadata": {},
   "outputs": [],
   "source": [
    "import pickle"
   ]
  },
  {
   "cell_type": "code",
   "execution_count": 48,
   "id": "9e418d21",
   "metadata": {},
   "outputs": [],
   "source": [
    "pickle.dump(LR,open('logisticRegression.pkl','wb'))"
   ]
  },
  {
   "cell_type": "code",
   "execution_count": 49,
   "id": "12a4e979",
   "metadata": {},
   "outputs": [],
   "source": [
    "pickeled_LR=pickle.load(open('logisticRegression.pkl','rb'))"
   ]
  },
  {
   "cell_type": "code",
   "execution_count": 51,
   "id": "135a37ad",
   "metadata": {},
   "outputs": [
    {
     "name": "stdout",
     "output_type": "stream",
     "text": [
      "[1]\n"
     ]
    }
   ],
   "source": [
    "print(pickeled_LR.predict([[31,1,2,3,2,54,1,2,1,18,1,239,6,-1,0,0]]))"
   ]
  },
  {
   "cell_type": "code",
   "execution_count": null,
   "id": "bcca1837",
   "metadata": {},
   "outputs": [],
   "source": []
  },
  {
   "cell_type": "code",
   "execution_count": null,
   "id": "4046d717",
   "metadata": {},
   "outputs": [],
   "source": []
  },
  {
   "cell_type": "code",
   "execution_count": null,
   "id": "2ea0fd7b",
   "metadata": {},
   "outputs": [],
   "source": []
  },
  {
   "cell_type": "code",
   "execution_count": null,
   "id": "f80eab8a",
   "metadata": {},
   "outputs": [],
   "source": []
  },
  {
   "cell_type": "code",
   "execution_count": null,
   "id": "958c67b5",
   "metadata": {},
   "outputs": [],
   "source": []
  }
 ],
 "metadata": {
  "kernelspec": {
   "display_name": "Python 3",
   "language": "python",
   "name": "python3"
  },
  "language_info": {
   "codemirror_mode": {
    "name": "ipython",
    "version": 3
   },
   "file_extension": ".py",
   "mimetype": "text/x-python",
   "name": "python",
   "nbconvert_exporter": "python",
   "pygments_lexer": "ipython3",
   "version": "3.8.8"
  }
 },
 "nbformat": 4,
 "nbformat_minor": 5
}
